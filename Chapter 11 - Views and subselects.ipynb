{
 "cells": [
  {
   "cell_type": "code",
   "execution_count": 1,
   "metadata": {},
   "outputs": [],
   "source": [
    "import sqlhelpers as sh"
   ]
  },
  {
   "cell_type": "code",
   "execution_count": 2,
   "metadata": {},
   "outputs": [],
   "source": [
    "# %load Exercise Files\\\\Chapters\\\\sql-chap11.txt\n",
    "-- 01 simple subselect\n",
    "-- world.db\n",
    "\n",
    "CREATE TABLE t ( a TEXT, b TEXT );\n",
    "INSERT INTO t VALUES ( 'NY0123', 'US4567' );\n",
    "INSERT INTO t VALUES ( 'AZ9437', 'GB1234' );\n",
    "INSERT INTO t VALUES ( 'CA1279', 'FR5678' );\n",
    "SELECT * FROM t;\n",
    "\n",
    "SELECT SUBSTR(a, 1, 2) AS State, SUBSTR(a, 3) AS SCode, \n",
    "  SUBSTR(b, 1, 2) AS Country, SUBSTR(b, 3) AS CCode FROM t;\n",
    "\n",
    "SELECT co.Name, ss.CCode FROM (\n",
    "    SELECT SUBSTR(a, 1, 2) AS State, SUBSTR(a, 3) AS SCode,\n",
    "      SUBSTR(b, 1, 2) AS Country, SUBSTR(b, 3) AS CCode FROM t\n",
    "  ) AS ss\n",
    "  JOIN Country AS co\n",
    "    ON co.Code2 = ss.Country\n",
    ";\n",
    "\n",
    "DROP TABLE t;\n",
    "\n",
    "-- 02 searching within a result set\n",
    "-- album.db\n",
    "\n",
    "SELECT DISTINCT album_id FROM track WHERE duration <= 90;\n",
    "\n",
    "SELECT * FROM album\n",
    "  WHERE id IN (SELECT DISTINCT album_id FROM track WHERE duration <= 90)\n",
    ";\n",
    "\n",
    "SELECT a.title AS album, a.artist, t.track_number AS seq, t.title, t.duration AS secs\n",
    "  FROM album AS a\n",
    "  JOIN track AS t\n",
    "    ON t.album_id = a.id\n",
    "  WHERE a.id IN (SELECT DISTINCT album_id FROM track WHERE duration <= 90)\n",
    "  ORDER BY a.title, t.track_number\n",
    ";\n",
    "\n",
    "SELECT a.title AS album, a.artist, t.track_number AS seq, t.title, t.duration AS secs\n",
    "  FROM album AS a\n",
    "  JOIN (\n",
    "    SELECT album_id, track_number, duration, title\n",
    "      FROM track\n",
    "      WHERE duration <= 90\n",
    "  ) AS t\n",
    "    ON t.album_id = a.id\n",
    "  ORDER BY a.title, t.track_number\n",
    ";\n",
    "\n",
    "-- 03 Creating a view\n",
    "-- album.db\n",
    "\n",
    "SELECT id, album_id, title, track_number, duration / 60 AS m, duration % 60 AS s FROM track;\n",
    "\n",
    "CREATE VIEW trackView AS\n",
    "  SELECT id, album_id, title, track_number, \n",
    "    duration / 60 AS m, duration % 60 AS s FROM track;\n",
    "SELECT * FROM trackView;\n",
    "\n",
    "SELECT a.title AS album, a.artist, t.track_number AS seq, t.title, t.m, t.s\n",
    "  FROM album AS a\n",
    "  JOIN trackView AS t\n",
    "    ON t.album_id = a.id\n",
    "  ORDER BY a.title, t.track_number\n",
    ";\n",
    "\n",
    "SELECT a.title AS album, a.artist, t.track_number AS seq, t.title, \n",
    "    t.m || ':' || substr('00' || t.s, -2, 2) AS dur\n",
    "  FROM album AS a\n",
    "  JOIN trackView AS t\n",
    "    ON t.album_id = a.id\n",
    "  ORDER BY a.title, t.track_number\n",
    ";\n",
    "\n",
    "DROP VIEW IF EXISTS trackView;\n",
    "\n",
    "-- 04 Joined view\n",
    "-- album.db\n",
    "\n",
    "SELECT a.artist AS artist,\n",
    "    a.title AS album,\n",
    "    t.title AS track,\n",
    "    t.track_number AS trackno,\n",
    "    t.duration / 60 AS m,\n",
    "    t.duration % 60 AS s\n",
    "  FROM track AS t\n",
    "    JOIN album AS a\n",
    "      ON a.id = t.album_id\n",
    ";\n",
    "\n",
    "CREATE VIEW joinedAlbum AS\n",
    "  SELECT a.artist AS artist,\n",
    "      a.title AS album,\n",
    "      t.title AS track,\n",
    "      t.track_number AS trackno,\n",
    "      t.duration / 60 AS m,\n",
    "      t.duration % 60 AS s\n",
    "    FROM track AS t\n",
    "    JOIN album AS a\n",
    "      ON a.id = t.album_id\n",
    ";\n",
    "\n",
    "SELECT * FROM joinedAlbum;\n",
    "SELECT * FROM joinedAlbum WHERE artist = 'Jimi Hendrix';\n",
    "\n",
    "SELECT artist, album, track, trackno, \n",
    "   m || ':' || substr('00' || s, -2, 2) AS duration\n",
    "    FROM joinedAlbum;\n",
    "\n",
    "DROP VIEW IF EXISTS joinedAlbum;\n",
    "\n"
   ]
  },
  {
   "cell_type": "markdown",
   "metadata": {},
   "source": [
    "# Creating a subselect"
   ]
  },
  {
   "cell_type": "code",
   "execution_count": 3,
   "metadata": {},
   "outputs": [
    {
     "name": "stdout",
     "output_type": "stream",
     "text": [
      "### Query Summary ###\n",
      "\n",
      "DATABASE QUERIED: world.db\n",
      "QUERY: ||| CREATE TABLE t ( a TEXT, b TEXT ); |||\n",
      "### Query Summary ###\n",
      "\n",
      "DATABASE QUERIED: world.db\n",
      "QUERY: ||| INSERT INTO t VALUES ( 'NY0123', 'US4567' ); |||\n",
      "### Query Summary ###\n",
      "\n",
      "DATABASE QUERIED: world.db\n",
      "QUERY: ||| INSERT INTO t VALUES ( 'AZ9437', 'GB1234' ); |||\n",
      "### Query Summary ###\n",
      "\n",
      "DATABASE QUERIED: world.db\n",
      "QUERY: ||| INSERT INTO t VALUES ( 'CA1279', 'FR5678' ); |||\n"
     ]
    }
   ],
   "source": [
    "# set up table\n",
    "\n",
    "q1 = \"CREATE TABLE t ( a TEXT, b TEXT );\"\n",
    "q2 = \"INSERT INTO t VALUES ( 'NY0123', 'US4567' );\"\n",
    "q3 = \"INSERT INTO t VALUES ( 'AZ9437', 'GB1234' );\"\n",
    "q4 = \"INSERT INTO t VALUES ( 'CA1279', 'FR5678' );\"\n",
    "\n",
    "sh.perform_insert_and_stats(q1, 'world.db')\n",
    "sh.perform_insert_and_stats(q2, 'world.db')\n",
    "sh.perform_insert_and_stats(q3, 'world.db')\n",
    "sh.perform_insert_and_stats(q4, 'world.db')"
   ]
  },
  {
   "cell_type": "code",
   "execution_count": 4,
   "metadata": {},
   "outputs": [
    {
     "name": "stdout",
     "output_type": "stream",
     "text": [
      "### Query Summary ###\n",
      "\n",
      "DATABASE QUERIED: world.db\n",
      "QUERY: ||| SELECT * FROM t; |||\n",
      "\n",
      "There are 3 rows in the query results table\n",
      "There are 2 columns in the query results table\n",
      "\n",
      "First 5 rows of the query results:\n",
      "        a       b\n",
      "0  NY0123  US4567\n",
      "1  AZ9437  GB1234\n",
      "2  CA1279  FR5678\n"
     ]
    }
   ],
   "source": [
    "# see what we have\n",
    "q = \"SELECT * FROM t;\"\n",
    "sh.query_result_stats(q, \"world.db\")"
   ]
  },
  {
   "cell_type": "code",
   "execution_count": 5,
   "metadata": {},
   "outputs": [
    {
     "name": "stdout",
     "output_type": "stream",
     "text": [
      "### Query Summary ###\n",
      "\n",
      "DATABASE QUERIED: world.db\n",
      "QUERY: ||| \n",
      "SELECT SUBSTR(a, 1, 2) AS State, SUBSTR(a, 3) AS SCode, \n",
      "  SUBSTR(b, 1, 2) AS Country, SUBSTR(b, 3) AS CCode FROM t;\n",
      " |||\n",
      "\n",
      "There are 3 rows in the query results table\n",
      "There are 4 columns in the query results table\n",
      "\n",
      "First 5 rows of the query results:\n",
      "  State SCode Country CCode\n",
      "0    NY  0123      US  4567\n",
      "1    AZ  9437      GB  1234\n",
      "2    CA  1279      FR  5678\n"
     ]
    }
   ],
   "source": [
    "q = \"\"\"\n",
    "SELECT SUBSTR(a, 1, 2) AS State, SUBSTR(a, 3) AS SCode, \n",
    "  SUBSTR(b, 1, 2) AS Country, SUBSTR(b, 3) AS CCode FROM t;\n",
    "\"\"\"\n",
    "sh.query_result_stats(q, \"world.db\")"
   ]
  },
  {
   "cell_type": "code",
   "execution_count": 6,
   "metadata": {},
   "outputs": [
    {
     "name": "stdout",
     "output_type": "stream",
     "text": [
      "### Query Summary ###\n",
      "\n",
      "DATABASE QUERIED: world.db\n",
      "QUERY: ||| \n",
      "SELECT co.Name, ss.CCode FROM (\n",
      "    SELECT SUBSTR(a, 1, 2) AS State, SUBSTR(a, 3) AS SCode,\n",
      "      SUBSTR(b, 1, 2) AS Country, SUBSTR(b, 3) AS CCode FROM t\n",
      "  ) AS ss\n",
      "  JOIN Country AS co\n",
      "    ON co.Code2 = ss.Country\n",
      ";\n",
      " |||\n",
      "\n",
      "There are 3 rows in the query results table\n",
      "There are 2 columns in the query results table\n",
      "\n",
      "First 5 rows of the query results:\n",
      "             Name CCode\n",
      "0   United States  4567\n",
      "1  United Kingdom  1234\n",
      "2          France  5678\n"
     ]
    }
   ],
   "source": [
    "q = \"\"\"\n",
    "SELECT co.Name, ss.CCode FROM (\n",
    "    SELECT SUBSTR(a, 1, 2) AS State, SUBSTR(a, 3) AS SCode,\n",
    "      SUBSTR(b, 1, 2) AS Country, SUBSTR(b, 3) AS CCode FROM t\n",
    "  ) AS ss\n",
    "  JOIN Country AS co\n",
    "    ON co.Code2 = ss.Country\n",
    ";\n",
    "\"\"\"\n",
    "sh.query_result_stats(q, \"world.db\")"
   ]
  },
  {
   "cell_type": "code",
   "execution_count": 7,
   "metadata": {},
   "outputs": [
    {
     "name": "stdout",
     "output_type": "stream",
     "text": [
      "### Query Summary ###\n",
      "\n",
      "DATABASE QUERIED: world.db\n",
      "QUERY: ||| DROP TABLE t; |||\n"
     ]
    }
   ],
   "source": [
    "q = \"DROP TABLE t;\"\n",
    "sh.perform_insert_and_stats(q, 'world.db')"
   ]
  },
  {
   "cell_type": "markdown",
   "metadata": {},
   "source": [
    "# Searching within a result set"
   ]
  },
  {
   "cell_type": "code",
   "execution_count": 8,
   "metadata": {},
   "outputs": [
    {
     "name": "stdout",
     "output_type": "stream",
     "text": [
      "### Query Summary ###\n",
      "\n",
      "DATABASE QUERIED: album.db\n",
      "QUERY: ||| SELECT DISTINCT album_id FROM track WHERE duration <= 90; |||\n",
      "\n",
      "There are 2 rows in the query results table\n",
      "There are 1 columns in the query results table\n",
      "\n",
      "First 5 rows of the query results:\n",
      "   album_id\n",
      "0        11\n",
      "1        13\n"
     ]
    }
   ],
   "source": [
    "q = \"SELECT DISTINCT album_id FROM track WHERE duration <= 90;\"\n",
    "sh.query_result_stats(q, \"album.db\")"
   ]
  },
  {
   "cell_type": "code",
   "execution_count": 9,
   "metadata": {},
   "outputs": [
    {
     "name": "stdout",
     "output_type": "stream",
     "text": [
      "### Query Summary ###\n",
      "\n",
      "DATABASE QUERIED: album.db\n",
      "QUERY: ||| \n",
      "SELECT * FROM album\n",
      "  WHERE id IN (SELECT DISTINCT album_id FROM track WHERE duration <= 90)\n",
      ";\n",
      " |||\n",
      "\n",
      "There are 2 rows in the query results table\n",
      "There are 5 columns in the query results table\n",
      "\n",
      "First 5 rows of the query results:\n",
      "   id                title                artist     label    released\n",
      "0  11  Hendrix in the West          Jimi Hendrix   Polydor  1972-01-00\n",
      "1  13        Birds of Fire  Mahavishnu Orchestra  Columbia  1973-03-00\n"
     ]
    }
   ],
   "source": [
    "q = \"\"\"\n",
    "SELECT * FROM album\n",
    "  WHERE id IN (SELECT DISTINCT album_id FROM track WHERE duration <= 90)\n",
    ";\n",
    "\"\"\"\n",
    "sh.query_result_stats(q, \"album.db\")"
   ]
  },
  {
   "cell_type": "markdown",
   "metadata": {},
   "source": [
    "# Creating a view"
   ]
  },
  {
   "cell_type": "code",
   "execution_count": 10,
   "metadata": {},
   "outputs": [
    {
     "name": "stdout",
     "output_type": "stream",
     "text": [
      "### Query Summary ###\n",
      "\n",
      "DATABASE QUERIED: album.db\n",
      "QUERY: ||| SELECT id, album_id, title, track_number, duration / 60 AS m, duration % 60 AS s FROM track; |||\n",
      "\n",
      "There are 63 rows in the query results table\n",
      "There are 6 columns in the query results table\n",
      "\n",
      "First 5 rows of the query results:\n",
      "   id  album_id                   title  track_number  m   s\n",
      "0   1         1  Bright Lights Big City             1  5  20\n",
      "1   2         1              Night Life             2  5  44\n",
      "2   3         1      Basin Street Blues             5  4  56\n",
      "3   4         1                Caldonia             3  3  25\n",
      "4   5         1                Stardust             4  5   8\n"
     ]
    }
   ],
   "source": [
    "q = \"SELECT id, album_id, title, track_number, duration / 60 AS m, duration % 60 AS s FROM track;\"\n",
    "sh.query_result_stats(q, \"album.db\")"
   ]
  },
  {
   "cell_type": "code",
   "execution_count": 12,
   "metadata": {},
   "outputs": [
    {
     "name": "stdout",
     "output_type": "stream",
     "text": [
      "### Query Summary ###\n",
      "\n",
      "DATABASE QUERIED: album.db\n",
      "QUERY: ||| \n",
      "CREATE VIEW trackView AS\n",
      "  SELECT id, album_id, title, track_number, \n",
      "    duration / 60 AS m, duration % 60 AS s FROM track;\n",
      " |||\n"
     ]
    }
   ],
   "source": [
    "q = \"\"\"\n",
    "CREATE VIEW trackView AS\n",
    "  SELECT id, album_id, title, track_number, \n",
    "    duration / 60 AS m, duration % 60 AS s FROM track;\n",
    "\"\"\"\n",
    "sh.perform_insert_and_stats(q, 'album.db')"
   ]
  },
  {
   "cell_type": "code",
   "execution_count": 13,
   "metadata": {},
   "outputs": [
    {
     "name": "stdout",
     "output_type": "stream",
     "text": [
      "### Query Summary ###\n",
      "\n",
      "DATABASE QUERIED: album.db\n",
      "QUERY: ||| SELECT * FROM trackView; |||\n",
      "\n",
      "There are 63 rows in the query results table\n",
      "There are 6 columns in the query results table\n",
      "\n",
      "First 5 rows of the query results:\n",
      "   id  album_id                   title  track_number  m   s\n",
      "0   1         1  Bright Lights Big City             1  5  20\n",
      "1   2         1              Night Life             2  5  44\n",
      "2   3         1      Basin Street Blues             5  4  56\n",
      "3   4         1                Caldonia             3  3  25\n",
      "4   5         1                Stardust             4  5   8\n"
     ]
    }
   ],
   "source": [
    "q = \"SELECT * FROM trackView;\"\n",
    "sh.query_result_stats(q, \"album.db\")"
   ]
  },
  {
   "cell_type": "code",
   "execution_count": 14,
   "metadata": {},
   "outputs": [
    {
     "name": "stdout",
     "output_type": "stream",
     "text": [
      "### Query Summary ###\n",
      "\n",
      "DATABASE QUERIED: album.db\n",
      "QUERY: ||| DROP VIEW IF EXISTS trackView; |||\n"
     ]
    }
   ],
   "source": [
    "# delete the view\n",
    "q = \"DROP VIEW IF EXISTS trackView;\"\n",
    "sh.perform_insert_and_stats(q, 'album.db')"
   ]
  },
  {
   "cell_type": "markdown",
   "metadata": {},
   "source": [
    "# Creating a joined view"
   ]
  },
  {
   "cell_type": "code",
   "execution_count": 15,
   "metadata": {},
   "outputs": [
    {
     "name": "stdout",
     "output_type": "stream",
     "text": [
      "### Query Summary ###\n",
      "\n",
      "DATABASE QUERIED: album.db\n",
      "QUERY: ||| \n",
      "SELECT a.artist AS artist,\n",
      "    a.title AS album,\n",
      "    t.title AS track,\n",
      "    t.track_number AS trackno,\n",
      "    t.duration / 60 AS m,\n",
      "    t.duration % 60 AS s\n",
      "  FROM track AS t\n",
      "    JOIN album AS a\n",
      "      ON a.id = t.album_id\n",
      ";\n",
      " |||\n",
      "\n",
      "There are 63 rows in the query results table\n",
      "There are 6 columns in the query results table\n",
      "\n",
      "First 5 rows of the query results:\n",
      "                              artist                   album  \\\n",
      "0  Willie Nelson and Wynton Marsalis  Two Men with the Blues   \n",
      "1  Willie Nelson and Wynton Marsalis  Two Men with the Blues   \n",
      "2  Willie Nelson and Wynton Marsalis  Two Men with the Blues   \n",
      "3  Willie Nelson and Wynton Marsalis  Two Men with the Blues   \n",
      "4  Willie Nelson and Wynton Marsalis  Two Men with the Blues   \n",
      "\n",
      "                    track  trackno  m   s  \n",
      "0  Bright Lights Big City        1  5  20  \n",
      "1              Night Life        2  5  44  \n",
      "2      Basin Street Blues        5  4  56  \n",
      "3                Caldonia        3  3  25  \n",
      "4                Stardust        4  5   8  \n"
     ]
    }
   ],
   "source": [
    "q = \"\"\"\n",
    "SELECT a.artist AS artist,\n",
    "    a.title AS album,\n",
    "    t.title AS track,\n",
    "    t.track_number AS trackno,\n",
    "    t.duration / 60 AS m,\n",
    "    t.duration % 60 AS s\n",
    "  FROM track AS t\n",
    "    JOIN album AS a\n",
    "      ON a.id = t.album_id\n",
    ";\n",
    "\"\"\"\n",
    "sh.query_result_stats(q, \"album.db\")"
   ]
  },
  {
   "cell_type": "code",
   "execution_count": 16,
   "metadata": {},
   "outputs": [
    {
     "name": "stdout",
     "output_type": "stream",
     "text": [
      "### Query Summary ###\n",
      "\n",
      "DATABASE QUERIED: album.db\n",
      "QUERY: ||| \n",
      "CREATE VIEW joinedAlbum AS\n",
      "  SELECT a.artist AS artist,\n",
      "      a.title AS album,\n",
      "      t.title AS track,\n",
      "      t.track_number AS trackno,\n",
      "      t.duration / 60 AS m,\n",
      "      t.duration % 60 AS s\n",
      "    FROM track AS t\n",
      "    JOIN album AS a\n",
      "      ON a.id = t.album_id\n",
      ";\n",
      " |||\n"
     ]
    }
   ],
   "source": [
    "# make a view from the query\n",
    "q = \"\"\"\n",
    "CREATE VIEW joinedAlbum AS\n",
    "  SELECT a.artist AS artist,\n",
    "      a.title AS album,\n",
    "      t.title AS track,\n",
    "      t.track_number AS trackno,\n",
    "      t.duration / 60 AS m,\n",
    "      t.duration % 60 AS s\n",
    "    FROM track AS t\n",
    "    JOIN album AS a\n",
    "      ON a.id = t.album_id\n",
    ";\n",
    "\"\"\"\n",
    "sh.perform_insert_and_stats(q, 'album.db')"
   ]
  },
  {
   "cell_type": "code",
   "execution_count": 17,
   "metadata": {},
   "outputs": [
    {
     "name": "stdout",
     "output_type": "stream",
     "text": [
      "### Query Summary ###\n",
      "\n",
      "DATABASE QUERIED: album.db\n",
      "QUERY: ||| SELECT * FROM joinedAlbum; |||\n",
      "\n",
      "There are 63 rows in the query results table\n",
      "There are 6 columns in the query results table\n",
      "\n",
      "First 5 rows of the query results:\n",
      "                              artist                   album  \\\n",
      "0  Willie Nelson and Wynton Marsalis  Two Men with the Blues   \n",
      "1  Willie Nelson and Wynton Marsalis  Two Men with the Blues   \n",
      "2  Willie Nelson and Wynton Marsalis  Two Men with the Blues   \n",
      "3  Willie Nelson and Wynton Marsalis  Two Men with the Blues   \n",
      "4  Willie Nelson and Wynton Marsalis  Two Men with the Blues   \n",
      "\n",
      "                    track  trackno  m   s  \n",
      "0  Bright Lights Big City        1  5  20  \n",
      "1              Night Life        2  5  44  \n",
      "2      Basin Street Blues        5  4  56  \n",
      "3                Caldonia        3  3  25  \n",
      "4                Stardust        4  5   8  \n"
     ]
    }
   ],
   "source": [
    "\n",
    "q = \"SELECT * FROM joinedAlbum;\"\n",
    "sh.query_result_stats(q, \"album.db\")"
   ]
  },
  {
   "cell_type": "code",
   "execution_count": 18,
   "metadata": {},
   "outputs": [
    {
     "name": "stdout",
     "output_type": "stream",
     "text": [
      "### Query Summary ###\n",
      "\n",
      "DATABASE QUERIED: album.db\n",
      "QUERY: ||| DROP VIEW IF EXISTS joinedAlbum; |||\n"
     ]
    }
   ],
   "source": [
    "# clean up\n",
    "q = \"DROP VIEW IF EXISTS joinedAlbum;\"\n",
    "sh.perform_insert_and_stats(q, 'album.db')"
   ]
  },
  {
   "cell_type": "code",
   "execution_count": null,
   "metadata": {},
   "outputs": [],
   "source": []
  }
 ],
 "metadata": {
  "kernelspec": {
   "display_name": "Python 3",
   "language": "python",
   "name": "python3"
  },
  "language_info": {
   "codemirror_mode": {
    "name": "ipython",
    "version": 3
   },
   "file_extension": ".py",
   "mimetype": "text/x-python",
   "name": "python",
   "nbconvert_exporter": "python",
   "pygments_lexer": "ipython3",
   "version": "3.7.3"
  }
 },
 "nbformat": 4,
 "nbformat_minor": 4
}
