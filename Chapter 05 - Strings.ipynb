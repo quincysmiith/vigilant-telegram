{
 "cells": [
  {
   "cell_type": "code",
   "execution_count": 1,
   "metadata": {},
   "outputs": [],
   "source": [
    "import sqlhelpers as sh"
   ]
  },
  {
   "cell_type": "code",
   "execution_count": 2,
   "metadata": {},
   "outputs": [],
   "source": [
    "# %load Exercise Files\\\\Chapters\\\\sql-chap05.txt"
   ]
  },
  {
   "cell_type": "markdown",
   "metadata": {},
   "source": [
    "# Finding the length of a string"
   ]
  },
  {
   "cell_type": "code",
   "execution_count": 3,
   "metadata": {},
   "outputs": [
    {
     "name": "stdout",
     "output_type": "stream",
     "text": [
      "### Query Summary ###\n",
      "\n",
      "DATABASE QUERIED: world.db\n",
      "QUERY: ||| SELECT LENGTH('string'); |||\n",
      "\n",
      "There are 1 rows in the query results table\n",
      "There are 1 columns in the query results table\n",
      "\n",
      "First 5 rows of the query results:\n",
      "   LENGTH('string')\n",
      "0                 6\n"
     ]
    }
   ],
   "source": [
    "# testing the length function\n",
    "q = \"SELECT LENGTH('string');\"\n",
    "sh.query_result_stats(q, \"world.db\")"
   ]
  },
  {
   "cell_type": "code",
   "execution_count": 4,
   "metadata": {},
   "outputs": [
    {
     "name": "stdout",
     "output_type": "stream",
     "text": [
      "### Query Summary ###\n",
      "\n",
      "DATABASE QUERIED: world.db\n",
      "QUERY: ||| SELECT Name, LENGTH(Name) AS Len FROM City ORDER BY Len DESC; |||\n",
      "\n",
      "There are 4079 rows in the query results table\n",
      "There are 2 columns in the query results table\n",
      "\n",
      "First 5 rows of the query results:\n",
      "                                Name  Len\n",
      "0  Luxembourg [Luxemburg/Lëtzebuerg]   33\n",
      "1     San Fernando del Valle de Cata   30\n",
      "2     Santo Domingo de los Colorados   30\n",
      "3     Castellón de la Plana [Castell   30\n",
      "4     Thiruvananthapuram (Trivandrum   30\n"
     ]
    }
   ],
   "source": [
    "# the length function in a query\n",
    "q = \"SELECT Name, LENGTH(Name) AS Len FROM City ORDER BY Len DESC;\"\n",
    "sh.query_result_stats(q, \"world.db\")"
   ]
  },
  {
   "cell_type": "markdown",
   "metadata": {},
   "source": [
    "# Selecting part of a string"
   ]
  },
  {
   "cell_type": "code",
   "execution_count": 6,
   "metadata": {},
   "outputs": [
    {
     "name": "stdout",
     "output_type": "stream",
     "text": [
      "### Query Summary ###\n",
      "\n",
      "DATABASE QUERIED: album.db\n",
      "QUERY: ||| \n",
      "SELECT released,\n",
      "    SUBSTR(released, 1, 4) AS year,\n",
      "    SUBSTR(released, 6, 2) AS month,\n",
      "    SUBSTR(released, 9, 2) AS day\n",
      "  FROM album\n",
      "  ORDER BY released;\n",
      " |||\n",
      "\n",
      "There are 7 rows in the query results table\n",
      "There are 4 columns in the query results table\n",
      "\n",
      "First 5 rows of the query results:\n",
      "     released  year month day\n",
      "0  1959-08-17  1959    08  17\n",
      "1  1965-12-03  1965    12  03\n",
      "2  1971-05-00  1971    05  00\n",
      "3  1972-01-00  1972    01  00\n",
      "4  1973-03-00  1973    03  00\n"
     ]
    }
   ],
   "source": [
    "# using substring function\n",
    "q = \"\"\"\n",
    "SELECT released,\n",
    "    SUBSTR(released, 1, 4) AS year,\n",
    "    SUBSTR(released, 6, 2) AS month,\n",
    "    SUBSTR(released, 9, 2) AS day\n",
    "  FROM album\n",
    "  ORDER BY released;\n",
    "\"\"\"\n",
    "sh.query_result_stats(q, \"album.db\")"
   ]
  },
  {
   "cell_type": "code",
   "execution_count": 8,
   "metadata": {},
   "outputs": [
    {
     "name": "stdout",
     "output_type": "stream",
     "text": [
      "### Query Summary ###\n",
      "\n",
      "DATABASE QUERIED: album.db\n",
      "QUERY: ||| SELECT '   string   '; |||\n",
      "\n",
      "There are 1 rows in the query results table\n",
      "There are 1 columns in the query results table\n",
      "\n",
      "First 5 rows of the query results:\n",
      "  '   string   '\n",
      "0      string   \n",
      "### Query Summary ###\n",
      "\n",
      "DATABASE QUERIED: album.db\n",
      "QUERY: ||| SELECT TRIM('   string   '); |||\n",
      "\n",
      "There are 1 rows in the query results table\n",
      "There are 1 columns in the query results table\n",
      "\n",
      "First 5 rows of the query results:\n",
      "  TRIM('   string   ')\n",
      "0               string\n",
      "### Query Summary ###\n",
      "\n",
      "DATABASE QUERIED: album.db\n",
      "QUERY: ||| SELECT TRIM('   string   string   '); |||\n",
      "\n",
      "There are 1 rows in the query results table\n",
      "There are 1 columns in the query results table\n",
      "\n",
      "First 5 rows of the query results:\n",
      "  TRIM('   string   string   ')\n",
      "0               string   string\n",
      "### Query Summary ###\n",
      "\n",
      "DATABASE QUERIED: album.db\n",
      "QUERY: ||| SELECT LTRIM('   string   '); |||\n",
      "\n",
      "There are 1 rows in the query results table\n",
      "There are 1 columns in the query results table\n",
      "\n",
      "First 5 rows of the query results:\n",
      "  LTRIM('   string   ')\n",
      "0             string   \n",
      "### Query Summary ###\n",
      "\n",
      "DATABASE QUERIED: album.db\n",
      "QUERY: ||| SELECT RTRIM('   string   '); |||\n",
      "\n",
      "There are 1 rows in the query results table\n",
      "There are 1 columns in the query results table\n",
      "\n",
      "First 5 rows of the query results:\n",
      "  RTRIM('   string   ')\n",
      "0                string\n",
      "### Query Summary ###\n",
      "\n",
      "DATABASE QUERIED: album.db\n",
      "QUERY: ||| SELECT '...string...'; |||\n",
      "\n",
      "There are 1 rows in the query results table\n",
      "There are 1 columns in the query results table\n",
      "\n",
      "First 5 rows of the query results:\n",
      "  '...string...'\n",
      "0   ...string...\n",
      "### Query Summary ###\n",
      "\n",
      "DATABASE QUERIED: album.db\n",
      "QUERY: ||| SELECT TRIM('...string...', '.'); |||\n",
      "\n",
      "There are 1 rows in the query results table\n",
      "There are 1 columns in the query results table\n",
      "\n",
      "First 5 rows of the query results:\n",
      "  TRIM('...string...', '.')\n",
      "0                    string\n"
     ]
    }
   ],
   "source": [
    "# Removing spaces\n",
    "\n",
    "q1 = \"SELECT '   string   ';\"\n",
    "q2 = \"SELECT TRIM('   string   ');\"\n",
    "q3 = \"SELECT TRIM('   string   string   ');\"\n",
    "q4 = \"SELECT LTRIM('   string   ');\"\n",
    "q5 = \"SELECT RTRIM('   string   ');\"\n",
    "q6 = \"SELECT '...string...';\"\n",
    "q7 = \"SELECT TRIM('...string...', '.');\"\n",
    "\n",
    "\n",
    "sh.query_result_stats(q1, \"album.db\")\n",
    "sh.query_result_stats(q2, \"album.db\")\n",
    "sh.query_result_stats(q3, \"album.db\")\n",
    "sh.query_result_stats(q4, \"album.db\")\n",
    "sh.query_result_stats(q5, \"album.db\")\n",
    "sh.query_result_stats(q6, \"album.db\")\n",
    "sh.query_result_stats(q7, \"album.db\")"
   ]
  },
  {
   "cell_type": "markdown",
   "metadata": {},
   "source": [
    "# Forcing Case\n"
   ]
  },
  {
   "cell_type": "code",
   "execution_count": 10,
   "metadata": {},
   "outputs": [
    {
     "name": "stdout",
     "output_type": "stream",
     "text": [
      "### Query Summary ###\n",
      "\n",
      "DATABASE QUERIED: world.db\n",
      "QUERY: ||| SELECT 'StRiNg' = 'string'; |||\n",
      "\n",
      "There are 1 rows in the query results table\n",
      "There are 1 columns in the query results table\n",
      "\n",
      "First 5 rows of the query results:\n",
      "   'StRiNg' = 'string'\n",
      "0                    0\n",
      "### Query Summary ###\n",
      "\n",
      "DATABASE QUERIED: world.db\n",
      "QUERY: ||| SELECT LOWER('StRiNg') = LOWER('string'); |||\n",
      "\n",
      "There are 1 rows in the query results table\n",
      "There are 1 columns in the query results table\n",
      "\n",
      "First 5 rows of the query results:\n",
      "   LOWER('StRiNg') = LOWER('string')\n",
      "0                                  1\n",
      "### Query Summary ###\n",
      "\n",
      "DATABASE QUERIED: world.db\n",
      "QUERY: ||| SELECT UPPER('StRiNg') = UPPER('string'); |||\n",
      "\n",
      "There are 1 rows in the query results table\n",
      "There are 1 columns in the query results table\n",
      "\n",
      "First 5 rows of the query results:\n",
      "   UPPER('StRiNg') = UPPER('string')\n",
      "0                                  1\n"
     ]
    }
   ],
   "source": [
    "# tests to prove using lower and upper does make it lower and uppercase\n",
    "# remember 1 represents True and 0 represents False\n",
    "q1 = \"SELECT 'StRiNg' = 'string';\"\n",
    "q2 = \"SELECT LOWER('StRiNg') = LOWER('string');\"\n",
    "q3 = \"SELECT UPPER('StRiNg') = UPPER('string');\"\n",
    "\n",
    "sh.query_result_stats(q1, \"world.db\")\n",
    "sh.query_result_stats(q2, \"world.db\")\n",
    "sh.query_result_stats(q3, \"world.db\")"
   ]
  },
  {
   "cell_type": "code",
   "execution_count": null,
   "metadata": {},
   "outputs": [],
   "source": []
  }
 ],
 "metadata": {
  "kernelspec": {
   "display_name": "Python 3",
   "language": "python",
   "name": "python3"
  },
  "language_info": {
   "codemirror_mode": {
    "name": "ipython",
    "version": 3
   },
   "file_extension": ".py",
   "mimetype": "text/x-python",
   "name": "python",
   "nbconvert_exporter": "python",
   "pygments_lexer": "ipython3",
   "version": "3.7.3"
  }
 },
 "nbformat": 4,
 "nbformat_minor": 4
}
