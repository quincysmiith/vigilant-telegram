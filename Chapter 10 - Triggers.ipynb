{
 "cells": [
  {
   "cell_type": "code",
   "execution_count": 1,
   "metadata": {},
   "outputs": [],
   "source": [
    "import sqlhelpers as sh"
   ]
  },
  {
   "cell_type": "code",
   "execution_count": 2,
   "metadata": {},
   "outputs": [],
   "source": [
    "# %load Exercise Files\\\\Chapters\\\\sql-chap10.txt\n",
    "-- 01 update triggers\n",
    "-- test.db\n",
    "\n",
    "CREATE TABLE widgetCustomer ( id INTEGER PRIMARY KEY, name TEXT, last_order_id INT );\n",
    "CREATE TABLE widgetSale ( id INTEGER PRIMARY KEY, item_id INT, customer_id INT, quan INT, price INT );\n",
    "\n",
    "INSERT INTO widgetCustomer (name) VALUES ('Bob');\n",
    "INSERT INTO widgetCustomer (name) VALUES ('Sally');\n",
    "INSERT INTO widgetCustomer (name) VALUES ('Fred');\n",
    "\n",
    "SELECT * FROM widgetCustomer;\n",
    "\n",
    "CREATE TRIGGER newWidgetSale AFTER INSERT ON widgetSale\n",
    "    BEGIN\n",
    "        UPDATE widgetCustomer SET last_order_id = NEW.id WHERE widgetCustomer.id = NEW.customer_id;\n",
    "    END\n",
    ";\n",
    "\n",
    "INSERT INTO widgetSale (item_id, customer_id, quan, price) VALUES (1, 3, 5, 1995);\n",
    "INSERT INTO widgetSale (item_id, customer_id, quan, price) VALUES (2, 2, 3, 1495);\n",
    "INSERT INTO widgetSale (item_id, customer_id, quan, price) VALUES (3, 1, 1, 2995);\n",
    "SELECT * FROM widgetSale;\n",
    "SELECT * FROM widgetCustomer;\n",
    "\n",
    "-- 02 preventing updates\n",
    "-- test.db\n",
    "\n",
    "DROP TABLE IF EXISTS widgetSale;\n",
    "\n",
    "CREATE TABLE widgetSale ( id integer primary key, item_id INT, customer_id INTEGER, quan INT, price INT,\n",
    "    reconciled INT );\n",
    "INSERT INTO widgetSale (item_id, customer_id, quan, price, reconciled) VALUES (1, 3, 5, 1995, 0);\n",
    "INSERT INTO widgetSale (item_id, customer_id, quan, price, reconciled) VALUES (2, 2, 3, 1495, 1);\n",
    "INSERT INTO widgetSale (item_id, customer_id, quan, price, reconciled) VALUES (3, 1, 1, 2995, 0);\n",
    "SELECT * FROM widgetSale;\n",
    "\n",
    "CREATE TRIGGER updateWidgetSale BEFORE UPDATE ON widgetSale\n",
    "    BEGIN\n",
    "        SELECT RAISE(ROLLBACK, 'cannot update table \"widgetSale\"') FROM widgetSale\n",
    "            WHERE id = NEW.id AND reconciled = 1;\n",
    "    END\n",
    ";\n",
    "\n",
    "BEGIN TRANSACTION;\n",
    "UPDATE widgetSale SET quan = 9 WHERE id = 2;\n",
    "END TRANSACTION;\n",
    "\n",
    "SELECT * FROM widgetSale;\n",
    "\n",
    "-- 03 timestamps\n",
    "-- test.db\n",
    "\n",
    "DROP TABLE IF EXISTS widgetSale;\n",
    "DROP TABLE IF EXISTS widgetCustomer;\n",
    "\n",
    "CREATE TABLE widgetCustomer ( id integer primary key, name TEXT, last_order_id INT, stamp TEXT );\n",
    "CREATE TABLE widgetSale ( id integer primary key, item_id INT, customer_id INTEGER, quan INT, price INT, stamp TEXT );\n",
    "CREATE TABLE widgetLog ( id integer primary key, stamp TEXT, event TEXT, username TEXT, tablename TEXT, table_id INT);\n",
    "\n",
    "INSERT INTO widgetCustomer (name) VALUES ('Bob');\n",
    "INSERT INTO widgetCustomer (name) VALUES ('Sally');\n",
    "INSERT INTO widgetCustomer (name) VALUES ('Fred');\n",
    "SELECT * FROM widgetCustomer;\n",
    "\n",
    "CREATE TRIGGER stampSale AFTER INSERT ON widgetSale\n",
    "    BEGIN\n",
    "        UPDATE widgetSale SET stamp = DATETIME('now') WHERE id = NEW.id;\n",
    "        UPDATE widgetCustomer SET last_order_id = NEW.id, stamp = DATETIME('now')\n",
    "            WHERE widgetCustomer.id = NEW.customer_id;\n",
    "        INSERT INTO widgetLog (stamp, event, username, tablename, table_id)\n",
    "            VALUES (DATETIME('now'), 'INSERT', 'TRIGGER', 'widgetSale', NEW.id);\n",
    "    END\n",
    ";\n",
    "\n",
    "INSERT INTO widgetSale (item_id, customer_id, quan, price) VALUES (1, 3, 5, 1995);\n",
    "INSERT INTO widgetSale (item_id, customer_id, quan, price) VALUES (2, 2, 3, 1495);\n",
    "INSERT INTO widgetSale (item_id, customer_id, quan, price) VALUES (3, 1, 1, 2995);\n",
    "\n",
    "SELECT * FROM widgetSale;\n",
    "SELECT * FROM widgetCustomer;\n",
    "SELECT * FROM widgetLog;\n",
    "\n",
    "-- restore database\n",
    "DROP TRIGGER IF EXISTS newWidgetSale;\n",
    "DROP TRIGGER IF EXISTS updateWidgetSale;\n",
    "DROP TRIGGER IF EXISTS stampSale;\n",
    "\n",
    "DROP TABLE IF EXISTS widgetCustomer;\n",
    "DROP TABLE IF EXISTS widgetSale;\n",
    "DROP TABLE IF EXISTS widgetLog;\n",
    "\n"
   ]
  },
  {
   "cell_type": "code",
   "execution_count": 4,
   "metadata": {},
   "outputs": [
    {
     "name": "stdout",
     "output_type": "stream",
     "text": [
      "### Query Summary ###\n",
      "\n",
      "DATABASE QUERIED: test.db\n",
      "QUERY: ||| CREATE TABLE widgetCustomer ( id INTEGER PRIMARY KEY, name TEXT, last_order_id INT ); |||\n",
      "### Query Summary ###\n",
      "\n",
      "DATABASE QUERIED: test.db\n",
      "QUERY: ||| CREATE TABLE widgetSale ( id INTEGER PRIMARY KEY, item_id INT, customer_id INT, quan INT, price INT ); |||\n",
      "### Query Summary ###\n",
      "\n",
      "DATABASE QUERIED: test.db\n",
      "QUERY: ||| INSERT INTO widgetCustomer (name) VALUES ('Bob'); |||\n",
      "### Query Summary ###\n",
      "\n",
      "DATABASE QUERIED: test.db\n",
      "QUERY: ||| INSERT INTO widgetCustomer (name) VALUES ('Sally'); |||\n",
      "### Query Summary ###\n",
      "\n",
      "DATABASE QUERIED: test.db\n",
      "QUERY: ||| INSERT INTO widgetCustomer (name) VALUES ('Fred'); |||\n"
     ]
    }
   ],
   "source": [
    "\n",
    "q1 = \"CREATE TABLE widgetCustomer ( id INTEGER PRIMARY KEY, name TEXT, last_order_id INT );\"\n",
    "q2 = \"CREATE TABLE widgetSale ( id INTEGER PRIMARY KEY, item_id INT, customer_id INT, quan INT, price INT );\"\n",
    "\n",
    "q3 = \"INSERT INTO widgetCustomer (name) VALUES ('Bob');\"\n",
    "q4 = \"INSERT INTO widgetCustomer (name) VALUES ('Sally');\"\n",
    "q5 = \"INSERT INTO widgetCustomer (name) VALUES ('Fred');\"\n",
    "\n",
    "sh.perform_insert_and_stats(q1, 'test.db')\n",
    "sh.perform_insert_and_stats(q2, 'test.db')\n",
    "sh.perform_insert_and_stats(q3, 'test.db')\n",
    "sh.perform_insert_and_stats(q4, 'test.db')\n",
    "sh.perform_insert_and_stats(q5, 'test.db')"
   ]
  },
  {
   "cell_type": "code",
   "execution_count": 6,
   "metadata": {},
   "outputs": [
    {
     "name": "stdout",
     "output_type": "stream",
     "text": [
      "### Query Summary ###\n",
      "\n",
      "DATABASE QUERIED: test.db\n",
      "QUERY: ||| SELECT * FROM widgetCustomer; |||\n",
      "\n",
      "There are 3 rows in the query results table\n",
      "There are 3 columns in the query results table\n",
      "\n",
      "First 5 rows of the query results:\n",
      "   id   name last_order_id\n",
      "0   1    Bob          None\n",
      "1   2  Sally          None\n",
      "2   3   Fred          None\n"
     ]
    }
   ],
   "source": [
    "\n",
    "\n",
    "q = \"SELECT * FROM widgetCustomer;\"\n",
    "sh.query_result_stats(q, \"test.db\")"
   ]
  },
  {
   "cell_type": "code",
   "execution_count": 7,
   "metadata": {},
   "outputs": [
    {
     "name": "stdout",
     "output_type": "stream",
     "text": [
      "### Query Summary ###\n",
      "\n",
      "DATABASE QUERIED: test.db\n",
      "QUERY: ||| \n",
      "CREATE TRIGGER newWidgetSale AFTER INSERT ON widgetSale\n",
      "    BEGIN\n",
      "        UPDATE widgetCustomer SET last_order_id = NEW.id WHERE widgetCustomer.id = NEW.customer_id;\n",
      "    END\n",
      ";\n",
      " |||\n"
     ]
    }
   ],
   "source": [
    "# create a trigger\n",
    "\n",
    "q = \"\"\"\n",
    "CREATE TRIGGER newWidgetSale AFTER INSERT ON widgetSale\n",
    "    BEGIN\n",
    "        UPDATE widgetCustomer SET last_order_id = NEW.id WHERE widgetCustomer.id = NEW.customer_id;\n",
    "    END\n",
    ";\n",
    "\"\"\"\n",
    "sh.perform_insert_and_stats(q, 'test.db')"
   ]
  },
  {
   "cell_type": "code",
   "execution_count": 8,
   "metadata": {},
   "outputs": [
    {
     "name": "stdout",
     "output_type": "stream",
     "text": [
      "### Query Summary ###\n",
      "\n",
      "DATABASE QUERIED: test.db\n",
      "QUERY: ||| INSERT INTO widgetSale (item_id, customer_id, quan, price) VALUES (1, 3, 5, 1995); |||\n",
      "### Query Summary ###\n",
      "\n",
      "DATABASE QUERIED: test.db\n",
      "QUERY: ||| INSERT INTO widgetSale (item_id, customer_id, quan, price) VALUES (2, 2, 3, 1495); |||\n",
      "### Query Summary ###\n",
      "\n",
      "DATABASE QUERIED: test.db\n",
      "QUERY: ||| INSERT INTO widgetSale (item_id, customer_id, quan, price) VALUES (3, 1, 1, 2995); |||\n"
     ]
    }
   ],
   "source": [
    "# insert some data to activate the trigger\n",
    "\n",
    "q1 = \"INSERT INTO widgetSale (item_id, customer_id, quan, price) VALUES (1, 3, 5, 1995);\"\n",
    "q2 = \"INSERT INTO widgetSale (item_id, customer_id, quan, price) VALUES (2, 2, 3, 1495);\"\n",
    "q3 = \"INSERT INTO widgetSale (item_id, customer_id, quan, price) VALUES (3, 1, 1, 2995);\"\n",
    "\n",
    "sh.perform_insert_and_stats(q1, 'test.db')\n",
    "sh.perform_insert_and_stats(q2, 'test.db')\n",
    "sh.perform_insert_and_stats(q3, 'test.db')"
   ]
  },
  {
   "cell_type": "code",
   "execution_count": 9,
   "metadata": {},
   "outputs": [
    {
     "name": "stdout",
     "output_type": "stream",
     "text": [
      "### Query Summary ###\n",
      "\n",
      "DATABASE QUERIED: test.db\n",
      "QUERY: ||| SELECT * FROM widgetSale; |||\n",
      "\n",
      "There are 3 rows in the query results table\n",
      "There are 5 columns in the query results table\n",
      "\n",
      "First 5 rows of the query results:\n",
      "   id  item_id  customer_id  quan  price\n",
      "0   1        1            3     5   1995\n",
      "1   2        2            2     3   1495\n",
      "2   3        3            1     1   2995\n",
      "### Query Summary ###\n",
      "\n",
      "DATABASE QUERIED: test.db\n",
      "QUERY: ||| SELECT * FROM widgetCustomer; |||\n",
      "\n",
      "There are 3 rows in the query results table\n",
      "There are 3 columns in the query results table\n",
      "\n",
      "First 5 rows of the query results:\n",
      "   id   name  last_order_id\n",
      "0   1    Bob              3\n",
      "1   2  Sally              2\n",
      "2   3   Fred              1\n"
     ]
    }
   ],
   "source": [
    "# see what changed\n",
    "# widget customer was updated by the trigger when widget sale was updated.\n",
    "\n",
    "q1 = \"SELECT * FROM widgetSale;\"\n",
    "q2 = \"SELECT * FROM widgetCustomer;\"\n",
    "\n",
    "sh.query_result_stats(q1, \"test.db\")\n",
    "sh.query_result_stats(q2, \"test.db\")"
   ]
  },
  {
   "cell_type": "markdown",
   "metadata": {},
   "source": [
    "# Preventing updates"
   ]
  },
  {
   "cell_type": "code",
   "execution_count": 11,
   "metadata": {},
   "outputs": [
    {
     "name": "stdout",
     "output_type": "stream",
     "text": [
      "### Query Summary ###\n",
      "\n",
      "DATABASE QUERIED: test.db\n",
      "QUERY: ||| DROP TABLE IF EXISTS widgetSale; |||\n",
      "### Query Summary ###\n",
      "\n",
      "DATABASE QUERIED: test.db\n",
      "QUERY: ||| \n",
      "CREATE TABLE widgetSale ( id integer primary key, item_id INT, customer_id INTEGER, quan INT, price INT,\n",
      "    reconciled INT );\n",
      " |||\n"
     ]
    }
   ],
   "source": [
    "# create widget sale table again\n",
    "\n",
    "q1 = \"DROP TABLE IF EXISTS widgetSale;\"\n",
    "q2 = \"\"\"\n",
    "CREATE TABLE widgetSale ( id integer primary key, item_id INT, customer_id INTEGER, quan INT, price INT,\n",
    "    reconciled INT );\n",
    "\"\"\"\n",
    "\n",
    "sh.perform_insert_and_stats(q1, 'test.db')\n",
    "sh.perform_insert_and_stats(q2, 'test.db')"
   ]
  },
  {
   "cell_type": "code",
   "execution_count": 12,
   "metadata": {},
   "outputs": [
    {
     "name": "stdout",
     "output_type": "stream",
     "text": [
      "### Query Summary ###\n",
      "\n",
      "DATABASE QUERIED: test.db\n",
      "QUERY: ||| INSERT INTO widgetSale (item_id, customer_id, quan, price, reconciled) VALUES (1, 3, 5, 1995, 0); |||\n",
      "### Query Summary ###\n",
      "\n",
      "DATABASE QUERIED: test.db\n",
      "QUERY: ||| INSERT INTO widgetSale (item_id, customer_id, quan, price, reconciled) VALUES (2, 2, 3, 1495, 1); |||\n",
      "### Query Summary ###\n",
      "\n",
      "DATABASE QUERIED: test.db\n",
      "QUERY: ||| INSERT INTO widgetSale (item_id, customer_id, quan, price, reconciled) VALUES (3, 1, 1, 2995, 0); |||\n"
     ]
    }
   ],
   "source": [
    "# add some data\n",
    "\n",
    "q1 = \"INSERT INTO widgetSale (item_id, customer_id, quan, price, reconciled) VALUES (1, 3, 5, 1995, 0);\"\n",
    "q2 = \"INSERT INTO widgetSale (item_id, customer_id, quan, price, reconciled) VALUES (2, 2, 3, 1495, 1);\"\n",
    "q3 = \"INSERT INTO widgetSale (item_id, customer_id, quan, price, reconciled) VALUES (3, 1, 1, 2995, 0);\"\n",
    "\n",
    "sh.perform_insert_and_stats(q1, 'test.db')\n",
    "sh.perform_insert_and_stats(q2, 'test.db')\n",
    "sh.perform_insert_and_stats(q3, 'test.db')\n"
   ]
  },
  {
   "cell_type": "code",
   "execution_count": 13,
   "metadata": {},
   "outputs": [
    {
     "name": "stdout",
     "output_type": "stream",
     "text": [
      "### Query Summary ###\n",
      "\n",
      "DATABASE QUERIED: test.db\n",
      "QUERY: ||| SELECT * FROM widgetSale; |||\n",
      "\n",
      "There are 3 rows in the query results table\n",
      "There are 6 columns in the query results table\n",
      "\n",
      "First 5 rows of the query results:\n",
      "   id  item_id  customer_id  quan  price  reconciled\n",
      "0   1        1            3     5   1995           0\n",
      "1   2        2            2     3   1495           1\n",
      "2   3        3            1     1   2995           0\n"
     ]
    }
   ],
   "source": [
    "q = \"SELECT * FROM widgetSale;\"\n",
    "sh.query_result_stats(q, \"test.db\")"
   ]
  },
  {
   "cell_type": "code",
   "execution_count": 14,
   "metadata": {},
   "outputs": [
    {
     "name": "stdout",
     "output_type": "stream",
     "text": [
      "### Query Summary ###\n",
      "\n",
      "DATABASE QUERIED: test.db\n",
      "QUERY: ||| \n",
      "CREATE TRIGGER updateWidgetSale BEFORE UPDATE ON widgetSale\n",
      "    BEGIN\n",
      "        SELECT RAISE(ROLLBACK, 'cannot update table \"widgetSale\"') FROM widgetSale\n",
      "            WHERE id = NEW.id AND reconciled = 1;\n",
      "    END\n",
      ";\n",
      " |||\n"
     ]
    }
   ],
   "source": [
    "# make a trigger to prevent updates\n",
    "q = \"\"\"\n",
    "CREATE TRIGGER updateWidgetSale BEFORE UPDATE ON widgetSale\n",
    "    BEGIN\n",
    "        SELECT RAISE(ROLLBACK, 'cannot update table \"widgetSale\"') FROM widgetSale\n",
    "            WHERE id = NEW.id AND reconciled = 1;\n",
    "    END\n",
    ";\n",
    "\"\"\"\n",
    "sh.perform_insert_and_stats(q, 'test.db')"
   ]
  },
  {
   "cell_type": "code",
   "execution_count": null,
   "metadata": {},
   "outputs": [],
   "source": []
  }
 ],
 "metadata": {
  "kernelspec": {
   "display_name": "Python 3",
   "language": "python",
   "name": "python3"
  },
  "language_info": {
   "codemirror_mode": {
    "name": "ipython",
    "version": 3
   },
   "file_extension": ".py",
   "mimetype": "text/x-python",
   "name": "python",
   "nbconvert_exporter": "python",
   "pygments_lexer": "ipython3",
   "version": "3.7.3"
  }
 },
 "nbformat": 4,
 "nbformat_minor": 4
}
