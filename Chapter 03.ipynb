{
 "cells": [
  {
   "cell_type": "code",
   "execution_count": 1,
   "metadata": {},
   "outputs": [],
   "source": [
    "import sqlhelpers as sh"
   ]
  },
  {
   "cell_type": "code",
   "execution_count": 2,
   "metadata": {},
   "outputs": [],
   "source": [
    "# %load Exercise Files\\\\Chapters\\\\sql-chap03.txt\n"
   ]
  },
  {
   "cell_type": "markdown",
   "metadata": {},
   "source": [
    "# Creating a table"
   ]
  },
  {
   "cell_type": "code",
   "execution_count": 7,
   "metadata": {},
   "outputs": [
    {
     "name": "stdout",
     "output_type": "stream",
     "text": [
      "### Query Summary ###\n",
      "\n",
      "DATABASE QUERIED: chapter03.db\n",
      "QUERY: ||| \n",
      "CREATE TABLE test (\n",
      "  a INTEGER,\n",
      "  b TEXT\n",
      ");\n",
      " |||\n"
     ]
    }
   ],
   "source": [
    "# create a table within a database\n",
    "q = '''\n",
    "CREATE TABLE test (\n",
    "  a INTEGER,\n",
    "  b TEXT\n",
    ");\n",
    "'''\n",
    "\n",
    "sh.perform_insert_and_stats(q, 'chapter03.db')"
   ]
  },
  {
   "cell_type": "code",
   "execution_count": 8,
   "metadata": {},
   "outputs": [
    {
     "name": "stdout",
     "output_type": "stream",
     "text": [
      "### Query Summary ###\n",
      "\n",
      "DATABASE QUERIED: chapter03.db\n",
      "QUERY: ||| INSERT INTO test VALUES ( 1, 'a' ); |||\n",
      "### Query Summary ###\n",
      "\n",
      "DATABASE QUERIED: chapter03.db\n",
      "QUERY: ||| INSERT INTO test VALUES ( 2, 'b' ); |||\n",
      "### Query Summary ###\n",
      "\n",
      "DATABASE QUERIED: chapter03.db\n",
      "QUERY: ||| INSERT INTO test VALUES ( 3, 'c' ); |||\n"
     ]
    }
   ],
   "source": [
    "# add some data to the new table\n",
    "q1 = \"INSERT INTO test VALUES ( 1, 'a' );\"\n",
    "q2 = \"INSERT INTO test VALUES ( 2, 'b' );\"\n",
    "q3 = \"INSERT INTO test VALUES ( 3, 'c' );\"\n",
    "\n",
    "sh.perform_insert_and_stats(q1, 'chapter03.db')\n",
    "sh.perform_insert_and_stats(q2, 'chapter03.db')\n",
    "sh.perform_insert_and_stats(q3, 'chapter03.db')"
   ]
  },
  {
   "cell_type": "code",
   "execution_count": 9,
   "metadata": {},
   "outputs": [
    {
     "name": "stdout",
     "output_type": "stream",
     "text": [
      "### Query Summary ###\n",
      "\n",
      "DATABASE QUERIED: chapter03.db\n",
      "QUERY: ||| SELECT * FROM test; |||\n",
      "\n",
      "There are 3 rows in the query results table\n",
      "There are 2 columns in the query results table\n",
      "\n",
      "First 5 rows of the query results:\n",
      "   a  b\n",
      "0  1  a\n",
      "1  2  b\n",
      "2  3  c\n"
     ]
    }
   ],
   "source": [
    "# have a look at what we have just done.\n",
    "q = \"SELECT * FROM test;\"\n",
    "sh.query_result_stats(q, \"chapter03.db\")"
   ]
  },
  {
   "cell_type": "markdown",
   "metadata": {
    "jupyter": {
     "source_hidden": true
    }
   },
   "source": [
    "# Deleting a table"
   ]
  },
  {
   "cell_type": "code",
   "execution_count": 13,
   "metadata": {},
   "outputs": [
    {
     "name": "stdout",
     "output_type": "stream",
     "text": [
      "### Query Summary ###\n",
      "\n",
      "DATABASE QUERIED: chapter03.db\n",
      "QUERY: ||| CREATE TABLE test ( a TEXT, b TEXT ); |||\n",
      "### Query Summary ###\n",
      "\n",
      "DATABASE QUERIED: chapter03.db\n",
      "QUERY: ||| INSERT INTO test VALUES ( 'one', 'two' ); |||\n"
     ]
    }
   ],
   "source": [
    "# create a table and put some data in\n",
    "q1 = \"CREATE TABLE test ( a TEXT, b TEXT );\"\n",
    "q2 = \"INSERT INTO test VALUES ( 'one', 'two' );\"\n",
    "\n",
    "sh.perform_insert_and_stats(q1, 'chapter03.db')\n",
    "sh.perform_insert_and_stats(q2, 'chapter03.db')"
   ]
  },
  {
   "cell_type": "code",
   "execution_count": 14,
   "metadata": {},
   "outputs": [
    {
     "name": "stdout",
     "output_type": "stream",
     "text": [
      "### Query Summary ###\n",
      "\n",
      "DATABASE QUERIED: chapter03.db\n",
      "QUERY: ||| SELECT * FROM test; |||\n",
      "\n",
      "There are 1 rows in the query results table\n",
      "There are 2 columns in the query results table\n",
      "\n",
      "First 5 rows of the query results:\n",
      "     a    b\n",
      "0  one  two\n"
     ]
    }
   ],
   "source": [
    "# have a look at what we have just done.\n",
    "q = \"SELECT * FROM test;\"\n",
    "sh.query_result_stats(q, \"chapter03.db\")"
   ]
  },
  {
   "cell_type": "code",
   "execution_count": 15,
   "metadata": {},
   "outputs": [
    {
     "name": "stdout",
     "output_type": "stream",
     "text": [
      "### Query Summary ###\n",
      "\n",
      "DATABASE QUERIED: chapter03.db\n",
      "QUERY: ||| DROP TABLE test; |||\n"
     ]
    }
   ],
   "source": [
    "q = \"DROP TABLE test;\"\n",
    "sh.perform_insert_and_stats(q, 'chapter03.db')"
   ]
  },
  {
   "cell_type": "code",
   "execution_count": 16,
   "metadata": {},
   "outputs": [
    {
     "name": "stdout",
     "output_type": "stream",
     "text": [
      "### Query Summary ###\n",
      "\n",
      "DATABASE QUERIED: chapter03.db\n",
      "QUERY: ||| DROP TABLE IF EXISTS test; |||\n"
     ]
    }
   ],
   "source": [
    "q = \"DROP TABLE IF EXISTS test;\"\n",
    "sh.perform_insert_and_stats(q, 'chapter03.db')"
   ]
  },
  {
   "cell_type": "markdown",
   "metadata": {},
   "source": [
    "# Inserting Rows"
   ]
  },
  {
   "cell_type": "code",
   "execution_count": 17,
   "metadata": {},
   "outputs": [
    {
     "name": "stdout",
     "output_type": "stream",
     "text": [
      "### Query Summary ###\n",
      "\n",
      "DATABASE QUERIED: test.db\n",
      "QUERY: ||| CREATE TABLE test ( a INTEGER, b TEXT, c TEXT ); |||\n"
     ]
    }
   ],
   "source": [
    "# create a table for us to use\n",
    "q = \"CREATE TABLE test ( a INTEGER, b TEXT, c TEXT );\"\n",
    "sh.perform_insert_and_stats(q, 'test.db')"
   ]
  },
  {
   "cell_type": "code",
   "execution_count": 18,
   "metadata": {},
   "outputs": [
    {
     "name": "stdout",
     "output_type": "stream",
     "text": [
      "### Query Summary ###\n",
      "\n",
      "DATABASE QUERIED: test.db\n",
      "QUERY: ||| SELECT * FROM test; |||\n",
      "\n",
      "There are 0 rows in the query results table\n",
      "There are 3 columns in the query results table\n",
      "\n",
      "First 5 rows of the query results:\n",
      "Empty DataFrame\n",
      "Columns: [a, b, c]\n",
      "Index: []\n"
     ]
    }
   ],
   "source": [
    "q = \"SELECT * FROM test;\"\n",
    "sh.query_result_stats(q, \"test.db\")"
   ]
  },
  {
   "cell_type": "code",
   "execution_count": 19,
   "metadata": {},
   "outputs": [
    {
     "name": "stdout",
     "output_type": "stream",
     "text": [
      "### Query Summary ###\n",
      "\n",
      "DATABASE QUERIED: test.db\n",
      "QUERY: ||| INSERT INTO test VALUES ( 1, 'This', 'Right here!' ); |||\n",
      "### Query Summary ###\n",
      "\n",
      "DATABASE QUERIED: test.db\n",
      "QUERY: ||| INSERT INTO test ( b, c ) VALUES ( 'That', 'Over there!' ); |||\n"
     ]
    }
   ],
   "source": [
    "# add some data to the table\n",
    "q1 = \"INSERT INTO test VALUES ( 1, 'This', 'Right here!' );\" \n",
    "q2 = \"INSERT INTO test ( b, c ) VALUES ( 'That', 'Over there!' );\"\n",
    "\n",
    "sh.perform_insert_and_stats(q1, 'test.db')\n",
    "sh.perform_insert_and_stats(q2, 'test.db')"
   ]
  },
  {
   "cell_type": "code",
   "execution_count": 20,
   "metadata": {},
   "outputs": [
    {
     "name": "stdout",
     "output_type": "stream",
     "text": [
      "### Query Summary ###\n",
      "\n",
      "DATABASE QUERIED: test.db\n",
      "QUERY: ||| SELECT * FROM test; |||\n",
      "\n",
      "There are 2 rows in the query results table\n",
      "There are 3 columns in the query results table\n",
      "\n",
      "First 5 rows of the query results:\n",
      "     a     b            c\n",
      "0  1.0  This  Right here!\n",
      "1  NaN  That  Over there!\n"
     ]
    }
   ],
   "source": [
    "# inspect the added data\n",
    "q = \"SELECT * FROM test;\"\n",
    "sh.query_result_stats(q, \"test.db\")"
   ]
  },
  {
   "cell_type": "code",
   "execution_count": 21,
   "metadata": {},
   "outputs": [
    {
     "name": "stdout",
     "output_type": "stream",
     "text": [
      "### Query Summary ###\n",
      "\n",
      "DATABASE QUERIED: test.db\n",
      "QUERY: ||| INSERT INTO test DEFAULT VALUES; |||\n"
     ]
    }
   ],
   "source": [
    "# add an empty row\n",
    "q = \"INSERT INTO test DEFAULT VALUES;\"\n",
    "sh.perform_insert_and_stats(q, 'test.db')"
   ]
  },
  {
   "cell_type": "code",
   "execution_count": 22,
   "metadata": {},
   "outputs": [
    {
     "name": "stdout",
     "output_type": "stream",
     "text": [
      "### Query Summary ###\n",
      "\n",
      "DATABASE QUERIED: test.db\n",
      "QUERY: ||| SELECT * FROM test; |||\n",
      "\n",
      "There are 3 rows in the query results table\n",
      "There are 3 columns in the query results table\n",
      "\n",
      "First 5 rows of the query results:\n",
      "     a     b            c\n",
      "0  1.0  This  Right here!\n",
      "1  NaN  That  Over there!\n",
      "2  NaN  None         None\n"
     ]
    }
   ],
   "source": [
    "# inspect the added data\n",
    "q = \"SELECT * FROM test;\"\n",
    "sh.query_result_stats(q, \"test.db\")"
   ]
  },
  {
   "cell_type": "code",
   "execution_count": 23,
   "metadata": {},
   "outputs": [
    {
     "name": "stdout",
     "output_type": "stream",
     "text": [
      "### Query Summary ###\n",
      "\n",
      "DATABASE QUERIED: test.db\n",
      "QUERY: ||| INSERT INTO test ( a, b, c ) SELECT id, name, description from item; |||\n"
     ]
    }
   ],
   "source": [
    "# add rows from a select statement into this table\n",
    "q = \"INSERT INTO test ( a, b, c ) SELECT id, name, description from item;\"\n",
    "sh.perform_insert_and_stats(q, 'test.db')"
   ]
  },
  {
   "cell_type": "code",
   "execution_count": 24,
   "metadata": {},
   "outputs": [
    {
     "name": "stdout",
     "output_type": "stream",
     "text": [
      "### Query Summary ###\n",
      "\n",
      "DATABASE QUERIED: test.db\n",
      "QUERY: ||| SELECT * FROM test; |||\n",
      "\n",
      "There are 7 rows in the query results table\n",
      "There are 3 columns in the query results table\n",
      "\n",
      "First 5 rows of the query results:\n",
      "     a                 b                                       c\n",
      "0  1.0              This                             Right here!\n",
      "1  NaN              That                             Over there!\n",
      "2  NaN              None                                    None\n",
      "3  1.0  Box of 64 Pixels       64 RGB pixels in a decorative box\n",
      "4  2.0    Sense of Humor  Especially dry. Imported from England.\n"
     ]
    }
   ],
   "source": [
    "# inspect the added data\n",
    "q = \"SELECT * FROM test;\"\n",
    "sh.query_result_stats(q, \"test.db\")"
   ]
  },
  {
   "cell_type": "markdown",
   "metadata": {},
   "source": [
    "# Deleting Rows"
   ]
  },
  {
   "cell_type": "code",
   "execution_count": 25,
   "metadata": {},
   "outputs": [
    {
     "name": "stdout",
     "output_type": "stream",
     "text": [
      "### Query Summary ###\n",
      "\n",
      "DATABASE QUERIED: test.db\n",
      "QUERY: ||| SELECT * FROM test; |||\n",
      "\n",
      "There are 7 rows in the query results table\n",
      "There are 3 columns in the query results table\n",
      "\n",
      "First 5 rows of the query results:\n",
      "     a                 b                                       c\n",
      "0  1.0              This                             Right here!\n",
      "1  NaN              That                             Over there!\n",
      "2  NaN              None                                    None\n",
      "3  1.0  Box of 64 Pixels       64 RGB pixels in a decorative box\n",
      "4  2.0    Sense of Humor  Especially dry. Imported from England.\n"
     ]
    }
   ],
   "source": [
    "# inspect the data\n",
    "q = \"SELECT * FROM test;\"\n",
    "sh.query_result_stats(q, \"test.db\")"
   ]
  },
  {
   "cell_type": "code",
   "execution_count": 26,
   "metadata": {},
   "outputs": [
    {
     "name": "stdout",
     "output_type": "stream",
     "text": [
      "### Query Summary ###\n",
      "\n",
      "DATABASE QUERIED: test.db\n",
      "QUERY: ||| SELECT * FROM test WHERE a = 1; |||\n",
      "\n",
      "There are 2 rows in the query results table\n",
      "There are 3 columns in the query results table\n",
      "\n",
      "First 5 rows of the query results:\n",
      "   a                 b                                  c\n",
      "0  1              This                        Right here!\n",
      "1  1  Box of 64 Pixels  64 RGB pixels in a decorative box\n"
     ]
    }
   ],
   "source": [
    "# audition the where clause to be sure of what is to be deleted\n",
    "q = \"SELECT * FROM test WHERE a = 1;\"\n",
    "sh.query_result_stats(q, \"test.db\")"
   ]
  },
  {
   "cell_type": "code",
   "execution_count": 27,
   "metadata": {},
   "outputs": [
    {
     "name": "stdout",
     "output_type": "stream",
     "text": [
      "### Query Summary ###\n",
      "\n",
      "DATABASE QUERIED: test.db\n",
      "QUERY: ||| DELETE FROM test WHERE a = 1; |||\n"
     ]
    }
   ],
   "source": [
    "q = \"DELETE FROM test WHERE a = 1;\"\n",
    "sh.perform_insert_and_stats(q, 'test.db')"
   ]
  },
  {
   "cell_type": "code",
   "execution_count": 28,
   "metadata": {},
   "outputs": [
    {
     "name": "stdout",
     "output_type": "stream",
     "text": [
      "### Query Summary ###\n",
      "\n",
      "DATABASE QUERIED: test.db\n",
      "QUERY: ||| SELECT * FROM test; |||\n",
      "\n",
      "There are 5 rows in the query results table\n",
      "There are 3 columns in the query results table\n",
      "\n",
      "First 5 rows of the query results:\n",
      "     a               b                                            c\n",
      "0  NaN            That                                  Over there!\n",
      "1  NaN            None                                         None\n",
      "2  2.0  Sense of Humor       Especially dry. Imported from England.\n",
      "3  3.0          Beauty  Inner beauty. No cosmetic surgery required!\n",
      "4  4.0        Bar Code               Unused. In original packaging.\n"
     ]
    }
   ],
   "source": [
    "# inspect the data\n",
    "q = \"SELECT * FROM test;\"\n",
    "sh.query_result_stats(q, \"test.db\")"
   ]
  },
  {
   "cell_type": "markdown",
   "metadata": {},
   "source": [
    "# The NULL value"
   ]
  },
  {
   "cell_type": "code",
   "execution_count": 29,
   "metadata": {},
   "outputs": [
    {
     "name": "stdout",
     "output_type": "stream",
     "text": [
      "### Query Summary ###\n",
      "\n",
      "DATABASE QUERIED: test.db\n",
      "QUERY: ||| SELECT * FROM test; |||\n",
      "\n",
      "There are 5 rows in the query results table\n",
      "There are 3 columns in the query results table\n",
      "\n",
      "First 5 rows of the query results:\n",
      "     a               b                                            c\n",
      "0  NaN            That                                  Over there!\n",
      "1  NaN            None                                         None\n",
      "2  2.0  Sense of Humor       Especially dry. Imported from England.\n",
      "3  3.0          Beauty  Inner beauty. No cosmetic surgery required!\n",
      "4  4.0        Bar Code               Unused. In original packaging.\n"
     ]
    }
   ],
   "source": [
    "# inspect the data\n",
    "q = \"SELECT * FROM test;\"\n",
    "sh.query_result_stats(q, \"test.db\")"
   ]
  },
  {
   "cell_type": "code",
   "execution_count": 30,
   "metadata": {},
   "outputs": [
    {
     "name": "stdout",
     "output_type": "stream",
     "text": [
      "### Query Summary ###\n",
      "\n",
      "DATABASE QUERIED: test.db\n",
      "QUERY: ||| SELECT * FROM test WHERE a = NULL; |||\n",
      "\n",
      "There are 0 rows in the query results table\n",
      "There are 3 columns in the query results table\n",
      "\n",
      "First 5 rows of the query results:\n",
      "Empty DataFrame\n",
      "Columns: [a, b, c]\n",
      "Index: []\n"
     ]
    }
   ],
   "source": [
    "# this will fail to find null rows\n",
    "q = \"SELECT * FROM test WHERE a = NULL;\"\n",
    "sh.query_result_stats(q, \"test.db\")"
   ]
  },
  {
   "cell_type": "code",
   "execution_count": 31,
   "metadata": {},
   "outputs": [
    {
     "name": "stdout",
     "output_type": "stream",
     "text": [
      "### Query Summary ###\n",
      "\n",
      "DATABASE QUERIED: test.db\n",
      "QUERY: ||| SELECT * FROM test WHERE a IS NULL; |||\n",
      "\n",
      "There are 2 rows in the query results table\n",
      "There are 3 columns in the query results table\n",
      "\n",
      "First 5 rows of the query results:\n",
      "      a     b            c\n",
      "0  None  That  Over there!\n",
      "1  None  None         None\n"
     ]
    }
   ],
   "source": [
    "# the correct way to search for null values\n",
    "q = \"SELECT * FROM test WHERE a IS NULL;\"\n",
    "sh.query_result_stats(q, \"test.db\")"
   ]
  },
  {
   "cell_type": "code",
   "execution_count": 32,
   "metadata": {},
   "outputs": [
    {
     "name": "stdout",
     "output_type": "stream",
     "text": [
      "### Query Summary ###\n",
      "\n",
      "DATABASE QUERIED: test.db\n",
      "QUERY: ||| SELECT * FROM test WHERE a IS NOT NULL; |||\n",
      "\n",
      "There are 3 rows in the query results table\n",
      "There are 3 columns in the query results table\n",
      "\n",
      "First 5 rows of the query results:\n",
      "   a               b                                            c\n",
      "0  2  Sense of Humor       Especially dry. Imported from England.\n",
      "1  3          Beauty  Inner beauty. No cosmetic surgery required!\n",
      "2  4        Bar Code               Unused. In original packaging.\n"
     ]
    }
   ],
   "source": [
    "# test to see if there are actually values ie not null\n",
    "q = \"SELECT * FROM test WHERE a IS NOT NULL;\"\n",
    "sh.query_result_stats(q, \"test.db\")"
   ]
  },
  {
   "cell_type": "code",
   "execution_count": 33,
   "metadata": {},
   "outputs": [
    {
     "name": "stdout",
     "output_type": "stream",
     "text": [
      "### Query Summary ###\n",
      "\n",
      "DATABASE QUERIED: test.db\n",
      "QUERY: ||| INSERT INTO test ( a, b, c ) VALUES ( 0, NULL, '' ); |||\n"
     ]
    }
   ],
   "source": [
    "# insert some data to interrogate the differences between NULL and the empty string\n",
    "q = \"INSERT INTO test ( a, b, c ) VALUES ( 0, NULL, '' );\"\n",
    "sh.perform_insert_and_stats(q, 'test.db')"
   ]
  },
  {
   "cell_type": "code",
   "execution_count": 34,
   "metadata": {},
   "outputs": [
    {
     "name": "stdout",
     "output_type": "stream",
     "text": [
      "### Query Summary ###\n",
      "\n",
      "DATABASE QUERIED: test.db\n",
      "QUERY: ||| SELECT * FROM test WHERE b IS NULL; |||\n",
      "\n",
      "There are 2 rows in the query results table\n",
      "There are 3 columns in the query results table\n",
      "\n",
      "First 5 rows of the query results:\n",
      "     a     b     c\n",
      "0  NaN  None  None\n",
      "1  0.0  None      \n"
     ]
    }
   ],
   "source": [
    "# \n",
    "q = \"SELECT * FROM test WHERE b IS NULL;\"\n",
    "sh.query_result_stats(q, \"test.db\")"
   ]
  },
  {
   "cell_type": "code",
   "execution_count": 35,
   "metadata": {},
   "outputs": [
    {
     "name": "stdout",
     "output_type": "stream",
     "text": [
      "### Query Summary ###\n",
      "\n",
      "DATABASE QUERIED: test.db\n",
      "QUERY: ||| SELECT * FROM test WHERE b = ''; |||\n",
      "\n",
      "There are 0 rows in the query results table\n",
      "There are 3 columns in the query results table\n",
      "\n",
      "First 5 rows of the query results:\n",
      "Empty DataFrame\n",
      "Columns: [a, b, c]\n",
      "Index: []\n"
     ]
    }
   ],
   "source": [
    "# are there empty strings in the b column?\n",
    "q = \"SELECT * FROM test WHERE b = '';\"\n",
    "sh.query_result_stats(q, \"test.db\")"
   ]
  },
  {
   "cell_type": "code",
   "execution_count": 36,
   "metadata": {},
   "outputs": [
    {
     "name": "stdout",
     "output_type": "stream",
     "text": [
      "### Query Summary ###\n",
      "\n",
      "DATABASE QUERIED: test.db\n",
      "QUERY: ||| SELECT * FROM test WHERE c IS NULL; |||\n",
      "\n",
      "There are 1 rows in the query results table\n",
      "There are 3 columns in the query results table\n",
      "\n",
      "First 5 rows of the query results:\n",
      "      a     b     c\n",
      "0  None  None  None\n"
     ]
    }
   ],
   "source": [
    "# Empty strings are not returned when searching for NULL values\n",
    "q = \"SELECT * FROM test WHERE c IS NULL;\"\n",
    "sh.query_result_stats(q, \"test.db\")"
   ]
  },
  {
   "cell_type": "code",
   "execution_count": 37,
   "metadata": {},
   "outputs": [
    {
     "name": "stdout",
     "output_type": "stream",
     "text": [
      "### Query Summary ###\n",
      "\n",
      "DATABASE QUERIED: test.db\n",
      "QUERY: ||| DROP TABLE test; |||\n",
      "### Query Summary ###\n",
      "\n",
      "DATABASE QUERIED: test.db\n",
      "QUERY: ||| \n",
      "CREATE TABLE test (\n",
      "  a INTEGER NOT NULL,\n",
      "  b TEXT NOT NULL,\n",
      "  c TEXT\n",
      ");\n",
      " |||\n",
      "### Query Summary ###\n",
      "\n",
      "DATABASE QUERIED: test.db\n",
      "QUERY: ||| INSERT INTO test VALUES ( 1, 'this', 'that' ); |||\n"
     ]
    }
   ],
   "source": [
    "# create the test table again\n",
    "\n",
    "q1 = \"DROP TABLE test;\"\n",
    "\n",
    "q2 = '''\n",
    "CREATE TABLE test (\n",
    "  a INTEGER NOT NULL,\n",
    "  b TEXT NOT NULL,\n",
    "  c TEXT\n",
    ");\n",
    "'''\n",
    "q3 = \"INSERT INTO test VALUES ( 1, 'this', 'that' );\"\n",
    "\n",
    "sh.perform_insert_and_stats(q1, 'test.db')\n",
    "sh.perform_insert_and_stats(q2, 'test.db')\n",
    "sh.perform_insert_and_stats(q3, 'test.db')"
   ]
  },
  {
   "cell_type": "code",
   "execution_count": 42,
   "metadata": {},
   "outputs": [
    {
     "name": "stdout",
     "output_type": "stream",
     "text": [
      "### Query Summary ###\n",
      "\n",
      "DATABASE QUERIED: test.db\n",
      "QUERY: ||| SELECT * FROM test; |||\n",
      "\n",
      "There are 1 rows in the query results table\n",
      "There are 3 columns in the query results table\n",
      "\n",
      "First 5 rows of the query results:\n",
      "   a     b     c\n",
      "0  1  this  that\n"
     ]
    }
   ],
   "source": [
    "# see what we have\n",
    "q = \"SELECT * FROM test;\"\n",
    "sh.query_result_stats(q, \"test.db\")"
   ]
  },
  {
   "cell_type": "code",
   "execution_count": 39,
   "metadata": {},
   "outputs": [
    {
     "ename": "IntegrityError",
     "evalue": "NOT NULL constraint failed: test.a",
     "output_type": "error",
     "traceback": [
      "\u001b[1;31m---------------------------------------------------------------------------\u001b[0m",
      "\u001b[1;31mIntegrityError\u001b[0m                            Traceback (most recent call last)",
      "\u001b[1;32m<ipython-input-39-458dff10b159>\u001b[0m in \u001b[0;36m<module>\u001b[1;34m\u001b[0m\n\u001b[0;32m      5\u001b[0m \u001b[0mq3\u001b[0m \u001b[1;33m=\u001b[0m \u001b[1;34m\"INSERT INTO test ( a, b ) VALUES ( 1, 'two' );\"\u001b[0m\u001b[1;33m\u001b[0m\u001b[1;33m\u001b[0m\u001b[0m\n\u001b[0;32m      6\u001b[0m \u001b[1;33m\u001b[0m\u001b[0m\n\u001b[1;32m----> 7\u001b[1;33m \u001b[0msh\u001b[0m\u001b[1;33m.\u001b[0m\u001b[0mperform_insert_and_stats\u001b[0m\u001b[1;33m(\u001b[0m\u001b[0mq1\u001b[0m\u001b[1;33m,\u001b[0m \u001b[1;34m'test.db'\u001b[0m\u001b[1;33m)\u001b[0m\u001b[1;33m\u001b[0m\u001b[1;33m\u001b[0m\u001b[0m\n\u001b[0m\u001b[0;32m      8\u001b[0m \u001b[0msh\u001b[0m\u001b[1;33m.\u001b[0m\u001b[0mperform_insert_and_stats\u001b[0m\u001b[1;33m(\u001b[0m\u001b[0mq2\u001b[0m\u001b[1;33m,\u001b[0m \u001b[1;34m'test.db'\u001b[0m\u001b[1;33m)\u001b[0m\u001b[1;33m\u001b[0m\u001b[1;33m\u001b[0m\u001b[0m\n\u001b[0;32m      9\u001b[0m \u001b[0msh\u001b[0m\u001b[1;33m.\u001b[0m\u001b[0mperform_insert_and_stats\u001b[0m\u001b[1;33m(\u001b[0m\u001b[0mq3\u001b[0m\u001b[1;33m,\u001b[0m \u001b[1;34m'test.db'\u001b[0m\u001b[1;33m)\u001b[0m\u001b[1;33m\u001b[0m\u001b[1;33m\u001b[0m\u001b[0m\n",
      "\u001b[1;32m~\\Documents\\sql-essential-training\\sqlhelpers.py\u001b[0m in \u001b[0;36mperform_insert_and_stats\u001b[1;34m(query, database_name)\u001b[0m\n\u001b[0;32m     37\u001b[0m \u001b[1;33m\u001b[0m\u001b[0m\n\u001b[0;32m     38\u001b[0m     \u001b[1;31m# perform insert\u001b[0m\u001b[1;33m\u001b[0m\u001b[1;33m\u001b[0m\u001b[1;33m\u001b[0m\u001b[0m\n\u001b[1;32m---> 39\u001b[1;33m     \u001b[0mconn\u001b[0m\u001b[1;33m.\u001b[0m\u001b[0mexecute\u001b[0m\u001b[1;33m(\u001b[0m\u001b[0mquery\u001b[0m\u001b[1;33m)\u001b[0m\u001b[1;33m\u001b[0m\u001b[1;33m\u001b[0m\u001b[0m\n\u001b[0m\u001b[0;32m     40\u001b[0m     \u001b[0mconn\u001b[0m\u001b[1;33m.\u001b[0m\u001b[0mcommit\u001b[0m\u001b[1;33m(\u001b[0m\u001b[1;33m)\u001b[0m\u001b[1;33m\u001b[0m\u001b[1;33m\u001b[0m\u001b[0m\n\u001b[0;32m     41\u001b[0m \u001b[1;33m\u001b[0m\u001b[0m\n",
      "\u001b[1;31mIntegrityError\u001b[0m: NOT NULL constraint failed: test.a"
     ]
    }
   ],
   "source": [
    "# add some more data\n",
    "\n",
    "q1 = \" INSERT INTO test ( b, c ) VALUES ( 'one', 'two' );\"\n",
    "q2 = \"INSERT INTO test ( a, c ) VALUES ( 1, 'two' );\"\n",
    "q3 = \"INSERT INTO test ( a, b ) VALUES ( 1, 'two' );\"\n",
    "\n",
    "sh.perform_insert_and_stats(q1, 'test.db')\n",
    "sh.perform_insert_and_stats(q2, 'test.db')\n",
    "sh.perform_insert_and_stats(q3, 'test.db')"
   ]
  },
  {
   "cell_type": "code",
   "execution_count": 2,
   "metadata": {},
   "outputs": [
    {
     "name": "stdout",
     "output_type": "stream",
     "text": [
      "### Query Summary ###\n",
      "\n",
      "DATABASE QUERIED: test.db\n",
      "QUERY: ||| DROP TABLE test; |||\n"
     ]
    }
   ],
   "source": [
    "# clean up the data\n",
    "q = \"DROP TABLE test;\"\n",
    "sh.perform_insert_and_stats(q, 'test.db')"
   ]
  },
  {
   "cell_type": "markdown",
   "metadata": {},
   "source": [
    "# Constraining Columns"
   ]
  },
  {
   "cell_type": "code",
   "execution_count": 3,
   "metadata": {},
   "outputs": [
    {
     "name": "stdout",
     "output_type": "stream",
     "text": [
      "### Query Summary ###\n",
      "\n",
      "DATABASE QUERIED: chapter03.db\n",
      "QUERY: ||| DROP TABLE IF EXISTS test; |||\n",
      "### Query Summary ###\n",
      "\n",
      "DATABASE QUERIED: chapter03.db\n",
      "QUERY: ||| CREATE TABLE test ( a TEXT, b TEXT, c TEXT ); |||\n",
      "### Query Summary ###\n",
      "\n",
      "DATABASE QUERIED: chapter03.db\n",
      "QUERY: ||| INSERT INTO test ( a, b ) VALUES ( 'one', 'two' ); |||\n"
     ]
    }
   ],
   "source": [
    "\n",
    "q1 = \"DROP TABLE IF EXISTS test;\"\n",
    "q2 = \"CREATE TABLE test ( a TEXT, b TEXT, c TEXT );\"\n",
    "q3 = \"INSERT INTO test ( a, b ) VALUES ( 'one', 'two' );\"\n",
    "\n",
    "sh.perform_insert_and_stats(q1, 'chapter03.db')\n",
    "sh.perform_insert_and_stats(q2, 'chapter03.db')\n",
    "sh.perform_insert_and_stats(q3, 'chapter03.db')"
   ]
  },
  {
   "cell_type": "code",
   "execution_count": 4,
   "metadata": {},
   "outputs": [
    {
     "name": "stdout",
     "output_type": "stream",
     "text": [
      "### Query Summary ###\n",
      "\n",
      "DATABASE QUERIED: chapter03.db\n",
      "QUERY: ||| SELECT * FROM test; |||\n",
      "\n",
      "There are 1 rows in the query results table\n",
      "There are 3 columns in the query results table\n",
      "\n",
      "First 5 rows of the query results:\n",
      "     a    b     c\n",
      "0  one  two  None\n"
     ]
    }
   ],
   "source": [
    "# see what we have\n",
    "q = \"SELECT * FROM test;\"\n",
    "sh.query_result_stats(q, \"chapter03.db\")"
   ]
  },
  {
   "cell_type": "markdown",
   "metadata": {},
   "source": [
    "# Changing a schema"
   ]
  },
  {
   "cell_type": "code",
   "execution_count": 5,
   "metadata": {},
   "outputs": [
    {
     "name": "stdout",
     "output_type": "stream",
     "text": [
      "### Query Summary ###\n",
      "\n",
      "DATABASE QUERIED: chapter03.db\n",
      "QUERY: ||| DROP TABLE IF EXISTS test; |||\n",
      "### Query Summary ###\n",
      "\n",
      "DATABASE QUERIED: chapter03.db\n",
      "QUERY: ||| CREATE TABLE test ( a TEXT, b TEXT, c TEXT ); |||\n",
      "### Query Summary ###\n",
      "\n",
      "DATABASE QUERIED: chapter03.db\n",
      "QUERY: ||| INSERT INTO test VALUES ( 'one', 'two', 'three'); |||\n",
      "### Query Summary ###\n",
      "\n",
      "DATABASE QUERIED: chapter03.db\n",
      "QUERY: ||| INSERT INTO test VALUES ( 'two', 'three', 'four'); |||\n",
      "### Query Summary ###\n",
      "\n",
      "DATABASE QUERIED: chapter03.db\n",
      "QUERY: ||| INSERT INTO test VALUES ( 'three', 'four', 'five'); |||\n"
     ]
    }
   ],
   "source": [
    "\n",
    "q1 = \"DROP TABLE IF EXISTS test;\"\n",
    "q2 = \"CREATE TABLE test ( a TEXT, b TEXT, c TEXT );\"\n",
    "q3 = \"INSERT INTO test VALUES ( 'one', 'two', 'three');\"\n",
    "q4 = \"INSERT INTO test VALUES ( 'two', 'three', 'four');\"\n",
    "q5 = \"INSERT INTO test VALUES ( 'three', 'four', 'five');\"\n",
    "\n",
    "sh.perform_insert_and_stats(q1, 'chapter03.db')\n",
    "sh.perform_insert_and_stats(q2, 'chapter03.db')\n",
    "sh.perform_insert_and_stats(q3, 'chapter03.db')\n",
    "sh.perform_insert_and_stats(q4, 'chapter03.db')\n",
    "sh.perform_insert_and_stats(q5, 'chapter03.db')"
   ]
  },
  {
   "cell_type": "code",
   "execution_count": 6,
   "metadata": {},
   "outputs": [
    {
     "name": "stdout",
     "output_type": "stream",
     "text": [
      "### Query Summary ###\n",
      "\n",
      "DATABASE QUERIED: chapter03.db\n",
      "QUERY: ||| SELECT * FROM test; |||\n",
      "\n",
      "There are 3 rows in the query results table\n",
      "There are 3 columns in the query results table\n",
      "\n",
      "First 5 rows of the query results:\n",
      "       a      b      c\n",
      "0    one    two  three\n",
      "1    two  three   four\n",
      "2  three   four   five\n"
     ]
    }
   ],
   "source": [
    "# see what we have\n",
    "q = \"SELECT * FROM test;\"\n",
    "sh.query_result_stats(q, \"chapter03.db\")"
   ]
  },
  {
   "cell_type": "code",
   "execution_count": 7,
   "metadata": {},
   "outputs": [
    {
     "name": "stdout",
     "output_type": "stream",
     "text": [
      "### Query Summary ###\n",
      "\n",
      "DATABASE QUERIED: chapter03.db\n",
      "QUERY: ||| ALTER TABLE test ADD d TEXT; |||\n",
      "### Query Summary ###\n",
      "\n",
      "DATABASE QUERIED: chapter03.db\n",
      "QUERY: ||| ALTER TABLE test ADD e TEXT DEFAULT 'panda'; |||\n"
     ]
    }
   ],
   "source": [
    "# modify the table\n",
    "\n",
    "q1 = \"ALTER TABLE test ADD d TEXT;\"\n",
    "q2 = \"ALTER TABLE test ADD e TEXT DEFAULT 'panda';\"\n",
    "\n",
    "sh.perform_insert_and_stats(q1, 'chapter03.db')\n",
    "sh.perform_insert_and_stats(q2, 'chapter03.db')"
   ]
  },
  {
   "cell_type": "code",
   "execution_count": 8,
   "metadata": {},
   "outputs": [
    {
     "name": "stdout",
     "output_type": "stream",
     "text": [
      "### Query Summary ###\n",
      "\n",
      "DATABASE QUERIED: chapter03.db\n",
      "QUERY: ||| SELECT * FROM test; |||\n",
      "\n",
      "There are 3 rows in the query results table\n",
      "There are 5 columns in the query results table\n",
      "\n",
      "First 5 rows of the query results:\n",
      "       a      b      c     d      e\n",
      "0    one    two  three  None  panda\n",
      "1    two  three   four  None  panda\n",
      "2  three   four   five  None  panda\n"
     ]
    }
   ],
   "source": [
    "# see what we have\n",
    "q = \"SELECT * FROM test;\"\n",
    "sh.query_result_stats(q, \"chapter03.db\")"
   ]
  },
  {
   "cell_type": "markdown",
   "metadata": {},
   "source": [
    "# ID columns"
   ]
  },
  {
   "cell_type": "code",
   "execution_count": 9,
   "metadata": {},
   "outputs": [
    {
     "name": "stdout",
     "output_type": "stream",
     "text": [
      "### Query Summary ###\n",
      "\n",
      "DATABASE QUERIED: chapter03.db\n",
      "QUERY: ||| DROP TABLE IF EXISTS test; |||\n",
      "### Query Summary ###\n",
      "\n",
      "DATABASE QUERIED: chapter03.db\n",
      "QUERY: ||| \n",
      "CREATE TABLE test (\n",
      "  id INTEGER PRIMARY KEY,\n",
      "  a INTEGER,\n",
      "  b TEXT\n",
      ");\n",
      " |||\n",
      "### Query Summary ###\n",
      "\n",
      "DATABASE QUERIED: chapter03.db\n",
      "QUERY: ||| INSERT INTO test (a, b) VALUES ( 10, 'a' ); |||\n",
      "### Query Summary ###\n",
      "\n",
      "DATABASE QUERIED: chapter03.db\n",
      "QUERY: ||| INSERT INTO test (a, b) VALUES ( 11, 'b' ); |||\n",
      "### Query Summary ###\n",
      "\n",
      "DATABASE QUERIED: chapter03.db\n",
      "QUERY: ||| INSERT INTO test (a, b) VALUES ( 12, 'c' ); |||\n"
     ]
    }
   ],
   "source": [
    "# \n",
    "q1 = \"DROP TABLE IF EXISTS test;\"\n",
    "q2 = '''\n",
    "CREATE TABLE test (\n",
    "  id INTEGER PRIMARY KEY,\n",
    "  a INTEGER,\n",
    "  b TEXT\n",
    ");\n",
    "'''\n",
    "q3 = \"INSERT INTO test (a, b) VALUES ( 10, 'a' );\"\n",
    "q4 = \"INSERT INTO test (a, b) VALUES ( 11, 'b' );\"\n",
    "q5 = \"INSERT INTO test (a, b) VALUES ( 12, 'c' );\"\n",
    "\n",
    "sh.perform_insert_and_stats(q1, 'chapter03.db')\n",
    "sh.perform_insert_and_stats(q2, 'chapter03.db')\n",
    "sh.perform_insert_and_stats(q3, 'chapter03.db')\n",
    "sh.perform_insert_and_stats(q4, 'chapter03.db')\n",
    "sh.perform_insert_and_stats(q5, 'chapter03.db')"
   ]
  },
  {
   "cell_type": "code",
   "execution_count": 10,
   "metadata": {},
   "outputs": [
    {
     "name": "stdout",
     "output_type": "stream",
     "text": [
      "### Query Summary ###\n",
      "\n",
      "DATABASE QUERIED: chapter03.db\n",
      "QUERY: ||| SELECT * FROM test; |||\n",
      "\n",
      "There are 3 rows in the query results table\n",
      "There are 3 columns in the query results table\n",
      "\n",
      "First 5 rows of the query results:\n",
      "   id   a  b\n",
      "0   1  10  a\n",
      "1   2  11  b\n",
      "2   3  12  c\n"
     ]
    }
   ],
   "source": [
    "# see what we have\n",
    "q = \"SELECT * FROM test;\"\n",
    "sh.query_result_stats(q, \"chapter03.db\")"
   ]
  },
  {
   "cell_type": "markdown",
   "metadata": {},
   "source": [
    "# Filtering data"
   ]
  },
  {
   "cell_type": "code",
   "execution_count": 11,
   "metadata": {},
   "outputs": [
    {
     "name": "stdout",
     "output_type": "stream",
     "text": [
      "### Query Summary ###\n",
      "\n",
      "DATABASE QUERIED: world.db\n",
      "QUERY: ||| SELECT Name, Continent, Population FROM Country WHERE Population < 100000 ORDER BY Population DESC; |||\n",
      "\n",
      "There are 40 rows in the query results table\n",
      "There are 3 columns in the query results table\n",
      "\n",
      "First 5 rows of the query results:\n",
      "                   Name      Continent  Population\n",
      "0                 Tonga        Oceania       99000\n",
      "1               Grenada  North America       94000\n",
      "2  Virgin Islands, U.S.  North America       93000\n",
      "3              Kiribati        Oceania       83000\n",
      "4               Andorra         Europe       78000\n"
     ]
    }
   ],
   "source": [
    "#\n",
    "q = \"SELECT Name, Continent, Population FROM Country WHERE Population < 100000 ORDER BY Population DESC;\"\n",
    "sh.query_result_stats(q, \"world.db\")"
   ]
  },
  {
   "cell_type": "code",
   "execution_count": 13,
   "metadata": {},
   "outputs": [
    {
     "name": "stdout",
     "output_type": "stream",
     "text": [
      "### Query Summary ###\n",
      "\n",
      "DATABASE QUERIED: world.db\n",
      "QUERY: ||| \n",
      "SELECT Name, Continent, Population \n",
      "FROM Country \n",
      "WHERE Population < 100000 OR Population IS NULL \n",
      "ORDER BY Population DESC; |||\n",
      "\n",
      "There are 47 rows in the query results table\n",
      "There are 3 columns in the query results table\n",
      "\n",
      "First 5 rows of the query results:\n",
      "                   Name      Continent  Population\n",
      "0                 Tonga        Oceania     99000.0\n",
      "1               Grenada  North America     94000.0\n",
      "2  Virgin Islands, U.S.  North America     93000.0\n",
      "3              Kiribati        Oceania     83000.0\n",
      "4               Andorra         Europe     78000.0\n"
     ]
    }
   ],
   "source": [
    "# include NULL Populations\n",
    "q = \"\"\"\n",
    "SELECT Name, Continent, Population \n",
    "FROM Country \n",
    "WHERE Population < 100000 OR Population IS NULL \n",
    "ORDER BY Population DESC;\"\"\"\n",
    "sh.query_result_stats(q, \"world.db\")"
   ]
  },
  {
   "cell_type": "code",
   "execution_count": 14,
   "metadata": {},
   "outputs": [
    {
     "name": "stdout",
     "output_type": "stream",
     "text": [
      "### Query Summary ###\n",
      "\n",
      "DATABASE QUERIED: world.db\n",
      "QUERY: ||| SELECT Name, Continent, Population \n",
      "FROM Country \n",
      "WHERE Population < 100000 AND Continent = 'Oceania' \n",
      "ORDER BY Population DESC; |||\n",
      "\n",
      "There are 16 rows in the query results table\n",
      "There are 3 columns in the query results table\n",
      "\n",
      "First 5 rows of the query results:\n",
      "                       Name Continent  Population\n",
      "0                     Tonga   Oceania       99000\n",
      "1                  Kiribati   Oceania       83000\n",
      "2  Northern Mariana Islands   Oceania       78000\n",
      "3            American Samoa   Oceania       68000\n",
      "4          Marshall Islands   Oceania       64000\n"
     ]
    }
   ],
   "source": [
    "# using AND\n",
    "q = \"\"\"SELECT Name, Continent, Population \n",
    "FROM Country \n",
    "WHERE Population < 100000 AND Continent = 'Oceania' \n",
    "ORDER BY Population DESC;\"\"\"\n",
    "sh.query_result_stats(q, \"world.db\")"
   ]
  },
  {
   "cell_type": "code",
   "execution_count": 15,
   "metadata": {},
   "outputs": [
    {
     "name": "stdout",
     "output_type": "stream",
     "text": [
      "### Query Summary ###\n",
      "\n",
      "DATABASE QUERIED: world.db\n",
      "QUERY: ||| SELECT Name, Continent, Population FROM Country WHERE Name LIKE '%island%' ORDER BY Name; |||\n",
      "\n",
      "There are 18 rows in the query results table\n",
      "There are 3 columns in the query results table\n",
      "\n",
      "First 5 rows of the query results:\n",
      "                      Name      Continent  Population\n",
      "0            Bouvet Island     Antarctica         NaN\n",
      "1           Cayman Islands  North America     38000.0\n",
      "2         Christmas Island        Oceania      2500.0\n",
      "3  Cocos (Keeling) Islands        Oceania       600.0\n",
      "4             Cook Islands        Oceania     20000.0\n"
     ]
    }
   ],
   "source": [
    "# using the like string matching\n",
    "q = \"SELECT Name, Continent, Population FROM Country WHERE Name LIKE '%island%' ORDER BY Name;\"\n",
    "sh.query_result_stats(q, \"world.db\")"
   ]
  },
  {
   "cell_type": "code",
   "execution_count": 16,
   "metadata": {},
   "outputs": [
    {
     "name": "stdout",
     "output_type": "stream",
     "text": [
      "### Query Summary ###\n",
      "\n",
      "DATABASE QUERIED: world.db\n",
      "QUERY: ||| SELECT Name, Continent, Population FROM Country WHERE Continent IN ( 'Europe', 'Asia' ) ORDER BY Name; |||\n",
      "\n",
      "There are 97 rows in the query results table\n",
      "There are 3 columns in the query results table\n",
      "\n",
      "First 5 rows of the query results:\n",
      "          Name Continent  Population\n",
      "0  Afghanistan      Asia    22720000\n",
      "1      Albania    Europe     3401200\n",
      "2      Andorra    Europe       78000\n",
      "3      Armenia      Asia     3520000\n",
      "4      Austria    Europe     8091800\n"
     ]
    }
   ],
   "source": [
    "# using the in operator\n",
    "q = \"SELECT Name, Continent, Population FROM Country WHERE Continent IN ( 'Europe', 'Asia' ) ORDER BY Name;\"\n",
    "sh.query_result_stats(q, \"world.db\")"
   ]
  },
  {
   "cell_type": "markdown",
   "metadata": {},
   "source": [
    "# Removing duplicates"
   ]
  },
  {
   "cell_type": "code",
   "execution_count": 17,
   "metadata": {},
   "outputs": [
    {
     "name": "stdout",
     "output_type": "stream",
     "text": [
      "### Query Summary ###\n",
      "\n",
      "DATABASE QUERIED: world.db\n",
      "QUERY: ||| SELECT Continent FROM Country; |||\n",
      "\n",
      "There are 239 rows in the query results table\n",
      "There are 1 columns in the query results table\n",
      "\n",
      "First 5 rows of the query results:\n",
      "       Continent\n",
      "0           Asia\n",
      "1         Europe\n",
      "2  North America\n",
      "3         Europe\n",
      "4         Africa\n"
     ]
    }
   ],
   "source": [
    "# getting continents\n",
    "q = \"SELECT Continent FROM Country;\"\n",
    "sh.query_result_stats(q, \"world.db\")"
   ]
  },
  {
   "cell_type": "code",
   "execution_count": 18,
   "metadata": {},
   "outputs": [
    {
     "name": "stdout",
     "output_type": "stream",
     "text": [
      "### Query Summary ###\n",
      "\n",
      "DATABASE QUERIED: world.db\n",
      "QUERY: ||| SELECT DISTINCT Continent FROM Country; |||\n",
      "\n",
      "There are 7 rows in the query results table\n",
      "There are 1 columns in the query results table\n",
      "\n",
      "First 5 rows of the query results:\n",
      "       Continent\n",
      "0           Asia\n",
      "1         Europe\n",
      "2  North America\n",
      "3         Africa\n",
      "4        Oceania\n"
     ]
    }
   ],
   "source": [
    "# getting distinct continents\n",
    "q = \"SELECT DISTINCT Continent FROM Country;\"\n",
    "sh.query_result_stats(q, \"world.db\")"
   ]
  },
  {
   "cell_type": "markdown",
   "metadata": {},
   "source": [
    "# Ordering output"
   ]
  },
  {
   "cell_type": "code",
   "execution_count": 19,
   "metadata": {},
   "outputs": [
    {
     "name": "stdout",
     "output_type": "stream",
     "text": [
      "### Query Summary ###\n",
      "\n",
      "DATABASE QUERIED: world.db\n",
      "QUERY: ||| SELECT Name FROM Country ORDER BY Name; |||\n",
      "\n",
      "There are 239 rows in the query results table\n",
      "There are 1 columns in the query results table\n",
      "\n",
      "First 5 rows of the query results:\n",
      "             Name\n",
      "0     Afghanistan\n",
      "1         Albania\n",
      "2         Algeria\n",
      "3  American Samoa\n",
      "4         Andorra\n"
     ]
    }
   ],
   "source": [
    "# \n",
    "q = \"SELECT Name FROM Country ORDER BY Name;\"\n",
    "sh.query_result_stats(q, \"world.db\")"
   ]
  },
  {
   "cell_type": "code",
   "execution_count": 20,
   "metadata": {},
   "outputs": [
    {
     "name": "stdout",
     "output_type": "stream",
     "text": [
      "### Query Summary ###\n",
      "\n",
      "DATABASE QUERIED: world.db\n",
      "QUERY: ||| SELECT Name FROM Country ORDER BY Name DESC; |||\n",
      "\n",
      "There are 239 rows in the query results table\n",
      "There are 1 columns in the query results table\n",
      "\n",
      "First 5 rows of the query results:\n",
      "             Name\n",
      "0        Zimbabwe\n",
      "1          Zambia\n",
      "2      Yugoslavia\n",
      "3           Yemen\n",
      "4  Western Sahara\n"
     ]
    }
   ],
   "source": [
    "# sort descending\n",
    "q = \"SELECT Name FROM Country ORDER BY Name DESC;\"\n",
    "sh.query_result_stats(q, \"world.db\")"
   ]
  },
  {
   "cell_type": "code",
   "execution_count": 21,
   "metadata": {},
   "outputs": [
    {
     "name": "stdout",
     "output_type": "stream",
     "text": [
      "### Query Summary ###\n",
      "\n",
      "DATABASE QUERIED: world.db\n",
      "QUERY: ||| SELECT Name, Continent FROM Country ORDER BY Continent, Name; |||\n",
      "\n",
      "There are 239 rows in the query results table\n",
      "There are 2 columns in the query results table\n",
      "\n",
      "First 5 rows of the query results:\n",
      "                             Name Continent\n",
      "0                         Algeria    Africa\n",
      "1                          Angola    Africa\n",
      "2                           Benin    Africa\n",
      "3                        Botswana    Africa\n",
      "4  British Indian Ocean Territory    Africa\n"
     ]
    }
   ],
   "source": [
    "# sorting on multiple columns\n",
    "q = \"SELECT Name, Continent FROM Country ORDER BY Continent, Name;\"\n",
    "sh.query_result_stats(q, \"world.db\")"
   ]
  },
  {
   "cell_type": "code",
   "execution_count": 22,
   "metadata": {},
   "outputs": [
    {
     "name": "stdout",
     "output_type": "stream",
     "text": [
      "### Query Summary ###\n",
      "\n",
      "DATABASE QUERIED: world.db\n",
      "QUERY: ||| SELECT Name, Continent, Region FROM Country ORDER BY Continent DESC, Region, Name; |||\n",
      "\n",
      "There are 239 rows in the query results table\n",
      "There are 3 columns in the query results table\n",
      "\n",
      "First 5 rows of the query results:\n",
      "        Name      Continent         Region\n",
      "0  Argentina  South America  South America\n",
      "1    Bolivia  South America  South America\n",
      "2     Brazil  South America  South America\n",
      "3      Chile  South America  South America\n",
      "4   Colombia  South America  South America\n"
     ]
    }
   ],
   "source": [
    "# have Continent be in descending order with the other columns in ascending order\n",
    "q = \"SELECT Name, Continent, Region FROM Country ORDER BY Continent DESC, Region, Name;\"\n",
    "sh.query_result_stats(q, \"world.db\")"
   ]
  },
  {
   "cell_type": "markdown",
   "metadata": {},
   "source": [
    "# Conditional Expressions"
   ]
  },
  {
   "cell_type": "code",
   "execution_count": 25,
   "metadata": {},
   "outputs": [
    {
     "name": "stdout",
     "output_type": "stream",
     "text": [
      "### Query Summary ###\n",
      "\n",
      "DATABASE QUERIED: test.db\n",
      "QUERY: ||| CREATE TABLE booltest (a INTEGER, b INTEGER); |||\n",
      "### Query Summary ###\n",
      "\n",
      "DATABASE QUERIED: test.db\n",
      "QUERY: ||| INSERT INTO booltest VALUES (1, 0); |||\n"
     ]
    }
   ],
   "source": [
    "# \n",
    "q1 = \"CREATE TABLE booltest (a INTEGER, b INTEGER);\"\n",
    "q2 = \"INSERT INTO booltest VALUES (1, 0);\"\n",
    "\n",
    "sh.perform_insert_and_stats(q1, 'test.db')\n",
    "sh.perform_insert_and_stats(q2, 'test.db')"
   ]
  },
  {
   "cell_type": "code",
   "execution_count": 26,
   "metadata": {},
   "outputs": [
    {
     "name": "stdout",
     "output_type": "stream",
     "text": [
      "### Query Summary ###\n",
      "\n",
      "DATABASE QUERIED: test.db\n",
      "QUERY: ||| SELECT * FROM booltest; |||\n",
      "\n",
      "There are 1 rows in the query results table\n",
      "There are 2 columns in the query results table\n",
      "\n",
      "First 5 rows of the query results:\n",
      "   a  b\n",
      "0  1  0\n"
     ]
    }
   ],
   "source": [
    "# what do we have\n",
    "q = \"SELECT * FROM booltest;\"\n",
    "sh.query_result_stats(q, \"test.db\")"
   ]
  },
  {
   "cell_type": "code",
   "execution_count": 27,
   "metadata": {},
   "outputs": [
    {
     "name": "stdout",
     "output_type": "stream",
     "text": [
      "### Query Summary ###\n",
      "\n",
      "DATABASE QUERIED: test.db\n",
      "QUERY: ||| \n",
      "SELECT\n",
      "    CASE WHEN a THEN 'true' ELSE 'false' END as boolA,\n",
      "    CASE WHEN b THEN 'true' ELSE 'false' END as boolB\n",
      "    FROM booltest\n",
      ";\n",
      " |||\n",
      "\n",
      "There are 1 rows in the query results table\n",
      "There are 2 columns in the query results table\n",
      "\n",
      "First 5 rows of the query results:\n",
      "  boolA  boolB\n",
      "0  true  false\n"
     ]
    }
   ],
   "source": [
    "q = \"\"\"\n",
    "SELECT\n",
    "    CASE WHEN a THEN 'true' ELSE 'false' END as boolA,\n",
    "    CASE WHEN b THEN 'true' ELSE 'false' END as boolB\n",
    "    FROM booltest\n",
    ";\n",
    "\"\"\"\n",
    "sh.query_result_stats(q, \"test.db\")"
   ]
  },
  {
   "cell_type": "code",
   "execution_count": 28,
   "metadata": {},
   "outputs": [
    {
     "name": "stdout",
     "output_type": "stream",
     "text": [
      "### Query Summary ###\n",
      "\n",
      "DATABASE QUERIED: test.db\n",
      "QUERY: ||| \n",
      "SELECT\n",
      "  CASE a WHEN 1 THEN 'true' ELSE 'false' END AS boolA,\n",
      "  CASE b WHEN 1 THEN 'true' ELSE 'false' END AS boolB \n",
      "  FROM booltest\n",
      ";\n",
      " |||\n",
      "\n",
      "There are 1 rows in the query results table\n",
      "There are 2 columns in the query results table\n",
      "\n",
      "First 5 rows of the query results:\n",
      "  boolA  boolB\n",
      "0  true  false\n"
     ]
    }
   ],
   "source": [
    "q = \"\"\"\n",
    "SELECT\n",
    "  CASE a WHEN 1 THEN 'true' ELSE 'false' END AS boolA,\n",
    "  CASE b WHEN 1 THEN 'true' ELSE 'false' END AS boolB \n",
    "  FROM booltest\n",
    ";\n",
    "\"\"\"\n",
    "sh.query_result_stats(q, \"test.db\")"
   ]
  },
  {
   "cell_type": "code",
   "execution_count": null,
   "metadata": {},
   "outputs": [],
   "source": []
  }
 ],
 "metadata": {
  "kernelspec": {
   "display_name": "Python 3",
   "language": "python",
   "name": "python3"
  },
  "language_info": {
   "codemirror_mode": {
    "name": "ipython",
    "version": 3
   },
   "file_extension": ".py",
   "mimetype": "text/x-python",
   "name": "python",
   "nbconvert_exporter": "python",
   "pygments_lexer": "ipython3",
   "version": "3.7.3"
  }
 },
 "nbformat": 4,
 "nbformat_minor": 4
}
