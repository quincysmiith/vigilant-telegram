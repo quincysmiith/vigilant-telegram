{
 "cells": [
  {
   "cell_type": "code",
   "execution_count": 1,
   "metadata": {},
   "outputs": [],
   "source": [
    "import sqlhelpers as sh"
   ]
  },
  {
   "cell_type": "code",
   "execution_count": 2,
   "metadata": {},
   "outputs": [],
   "source": [
    "# %load Exercise Files\\\\Chapters\\\\sql-chap07.txt\n",
    "-- 02 DATE/TIME functions\n",
    "-- :memory:\n",
    "\n",
    "SELECT DATETIME('now');\n",
    "SELECT DATE('now');\n",
    "SELECT TIME('now');\n",
    "SELECT DATETIME('now', '+1 day');\n",
    "SELECT DATETIME('now', '+3 days');\n",
    "SELECT DATETIME('now', '-1 month');\n",
    "SELECT DATETIME('now', '+1 year');\n",
    "SELECT DATETIME('now', '+3 hours', '+27 minutes', '-1 day', '+3 years');\n",
    "\n"
   ]
  },
  {
   "cell_type": "markdown",
   "metadata": {},
   "source": [
    "# Date and time related functions\n",
    "\n",
    "_The below functions are specific to SQLite and may not work on other database systems_"
   ]
  },
  {
   "cell_type": "code",
   "execution_count": 3,
   "metadata": {},
   "outputs": [
    {
     "name": "stdout",
     "output_type": "stream",
     "text": [
      "### Query Summary ###\n",
      "\n",
      "DATABASE QUERIED: world.db\n",
      "QUERY: ||| SELECT DATETIME('now'); |||\n",
      "\n",
      "There are 1 rows in the query results table\n",
      "There are 1 columns in the query results table\n",
      "\n",
      "First 5 rows of the query results:\n",
      "       DATETIME('now')\n",
      "0  2019-12-29 11:23:12\n"
     ]
    }
   ],
   "source": [
    "q = \"SELECT DATETIME('now');\"\n",
    "sh.query_result_stats(q, \"world.db\")"
   ]
  },
  {
   "cell_type": "code",
   "execution_count": 4,
   "metadata": {},
   "outputs": [
    {
     "name": "stdout",
     "output_type": "stream",
     "text": [
      "### Query Summary ###\n",
      "\n",
      "DATABASE QUERIED: world.db\n",
      "QUERY: ||| SELECT DATE('now'); |||\n",
      "\n",
      "There are 1 rows in the query results table\n",
      "There are 1 columns in the query results table\n",
      "\n",
      "First 5 rows of the query results:\n",
      "  DATE('now')\n",
      "0  2019-12-29\n"
     ]
    }
   ],
   "source": [
    "q = \"SELECT DATE('now');\"\n",
    "sh.query_result_stats(q, \"world.db\")"
   ]
  },
  {
   "cell_type": "code",
   "execution_count": 5,
   "metadata": {},
   "outputs": [
    {
     "name": "stdout",
     "output_type": "stream",
     "text": [
      "### Query Summary ###\n",
      "\n",
      "DATABASE QUERIED: world.db\n",
      "QUERY: ||| SELECT TIME('now'); |||\n",
      "\n",
      "There are 1 rows in the query results table\n",
      "There are 1 columns in the query results table\n",
      "\n",
      "First 5 rows of the query results:\n",
      "  TIME('now')\n",
      "0    11:23:12\n"
     ]
    }
   ],
   "source": [
    "q = \"SELECT TIME('now');\"\n",
    "sh.query_result_stats(q, \"world.db\")"
   ]
  },
  {
   "cell_type": "code",
   "execution_count": 6,
   "metadata": {},
   "outputs": [
    {
     "name": "stdout",
     "output_type": "stream",
     "text": [
      "### Query Summary ###\n",
      "\n",
      "DATABASE QUERIED: world.db\n",
      "QUERY: ||| SELECT DATETIME('now', '+1 day'); |||\n",
      "\n",
      "There are 1 rows in the query results table\n",
      "There are 1 columns in the query results table\n",
      "\n",
      "First 5 rows of the query results:\n",
      "  DATETIME('now', '+1 day')\n",
      "0       2019-12-30 11:23:12\n"
     ]
    }
   ],
   "source": [
    "q = \"SELECT DATETIME('now', '+1 day');\"\n",
    "sh.query_result_stats(q, \"world.db\")"
   ]
  },
  {
   "cell_type": "code",
   "execution_count": 7,
   "metadata": {},
   "outputs": [
    {
     "name": "stdout",
     "output_type": "stream",
     "text": [
      "### Query Summary ###\n",
      "\n",
      "DATABASE QUERIED: world.db\n",
      "QUERY: ||| SELECT DATETIME('now', '+3 days'); |||\n",
      "\n",
      "There are 1 rows in the query results table\n",
      "There are 1 columns in the query results table\n",
      "\n",
      "First 5 rows of the query results:\n",
      "  DATETIME('now', '+3 days')\n",
      "0        2020-01-01 11:23:12\n"
     ]
    }
   ],
   "source": [
    "q = \"SELECT DATETIME('now', '+3 days');\"\n",
    "sh.query_result_stats(q, \"world.db\")"
   ]
  },
  {
   "cell_type": "code",
   "execution_count": 8,
   "metadata": {},
   "outputs": [
    {
     "name": "stdout",
     "output_type": "stream",
     "text": [
      "### Query Summary ###\n",
      "\n",
      "DATABASE QUERIED: world.db\n",
      "QUERY: ||| SELECT DATETIME('now', '-1 month'); |||\n",
      "\n",
      "There are 1 rows in the query results table\n",
      "There are 1 columns in the query results table\n",
      "\n",
      "First 5 rows of the query results:\n",
      "  DATETIME('now', '-1 month')\n",
      "0         2019-11-29 11:23:12\n"
     ]
    }
   ],
   "source": [
    "q = \"SELECT DATETIME('now', '-1 month');\"\n",
    "sh.query_result_stats(q, \"world.db\")"
   ]
  },
  {
   "cell_type": "code",
   "execution_count": 9,
   "metadata": {},
   "outputs": [
    {
     "name": "stdout",
     "output_type": "stream",
     "text": [
      "### Query Summary ###\n",
      "\n",
      "DATABASE QUERIED: world.db\n",
      "QUERY: ||| SELECT DATETIME('now', '+1 year'); |||\n",
      "\n",
      "There are 1 rows in the query results table\n",
      "There are 1 columns in the query results table\n",
      "\n",
      "First 5 rows of the query results:\n",
      "  DATETIME('now', '+1 year')\n",
      "0        2020-12-29 11:23:12\n"
     ]
    }
   ],
   "source": [
    "q = \"SELECT DATETIME('now', '+1 year');\"\n",
    "sh.query_result_stats(q, \"world.db\")"
   ]
  },
  {
   "cell_type": "code",
   "execution_count": 10,
   "metadata": {},
   "outputs": [
    {
     "name": "stdout",
     "output_type": "stream",
     "text": [
      "### Query Summary ###\n",
      "\n",
      "DATABASE QUERIED: world.db\n",
      "QUERY: ||| SELECT DATETIME('now', '+3 hours', '+27 minutes', '-1 day', '+3 years'); |||\n",
      "\n",
      "There are 1 rows in the query results table\n",
      "There are 1 columns in the query results table\n",
      "\n",
      "First 5 rows of the query results:\n",
      "  DATETIME('now', '+3 hours', '+27 minutes', '-1 day', '+3 years')\n",
      "0                                2022-12-28 14:50:12              \n"
     ]
    }
   ],
   "source": [
    "q = \"SELECT DATETIME('now', '+3 hours', '+27 minutes', '-1 day', '+3 years');\"\n",
    "sh.query_result_stats(q, \"world.db\")"
   ]
  }
 ],
 "metadata": {
  "kernelspec": {
   "display_name": "Python 3",
   "language": "python",
   "name": "python3"
  },
  "language_info": {
   "codemirror_mode": {
    "name": "ipython",
    "version": 3
   },
   "file_extension": ".py",
   "mimetype": "text/x-python",
   "name": "python",
   "nbconvert_exporter": "python",
   "pygments_lexer": "ipython3",
   "version": "3.7.3"
  }
 },
 "nbformat": 4,
 "nbformat_minor": 4
}
