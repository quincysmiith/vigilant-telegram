{
 "cells": [
  {
   "cell_type": "code",
   "execution_count": 1,
   "metadata": {},
   "outputs": [],
   "source": [
    "import sqlhelpers as sh"
   ]
  },
  {
   "cell_type": "code",
   "execution_count": 2,
   "metadata": {},
   "outputs": [],
   "source": [
    "# %load Exercise Files\\\\Chapters\\\\sql-chap04.txt\n",
    "-- 02 JOIN\n",
    "-- test.db\n",
    "\n",
    "-- join example tables, left and right\n",
    "CREATE TABLE left ( id INTEGER, description TEXT );\n",
    "CREATE TABLE right ( id INTEGER, description TEXT );\n",
    "\n",
    "INSERT INTO left VALUES ( 1, 'left 01' );\n",
    "INSERT INTO left VALUES ( 2, 'left 02' );\n",
    "INSERT INTO left VALUES ( 3, 'left 03' );\n",
    "INSERT INTO left VALUES ( 4, 'left 04' );\n",
    "INSERT INTO left VALUES ( 5, 'left 05' );\n",
    "INSERT INTO left VALUES ( 6, 'left 06' );\n",
    "INSERT INTO left VALUES ( 7, 'left 07' );\n",
    "INSERT INTO left VALUES ( 8, 'left 08' );\n",
    "INSERT INTO left VALUES ( 9, 'left 09' );\n",
    "\n",
    "INSERT INTO right VALUES ( 6, 'right 06' );\n",
    "INSERT INTO right VALUES ( 7, 'right 07' );\n",
    "INSERT INTO right VALUES ( 8, 'right 08' );\n",
    "INSERT INTO right VALUES ( 9, 'right 09' );\n",
    "INSERT INTO right VALUES ( 10, 'right 10' );\n",
    "INSERT INTO right VALUES ( 11, 'right 11' );\n",
    "INSERT INTO right VALUES ( 11, 'right 12' );\n",
    "INSERT INTO right VALUES ( 11, 'right 13' );\n",
    "INSERT INTO right VALUES ( 11, 'right 14' );\n",
    "\n",
    "SELECT * FROM left;\n",
    "SELECT * FROM right;\n",
    "\n",
    "SELECT l.description AS left, r.description AS right\n",
    "  FROM left AS l\n",
    "  JOIN right AS r ON l.id = r.id\n",
    "  ;\n",
    "\n",
    "-- restore database\n",
    "DROP TABLE left;\n",
    "DROP TABLE right;\n",
    "\n",
    "-- sale example\n",
    "SELECT * FROM sale;\n",
    "SELECT * FROM item;\n",
    "\n",
    "SELECT s.id AS sale, i.name, s.price \n",
    "  FROM sale AS s\n",
    "  JOIN item AS i ON s.item_id = i.id\n",
    "  ;\n",
    "\n",
    "SELECT s.id AS sale, s.date, i.name, i.description, s.price \n",
    "  FROM sale AS s\n",
    "  JOIN item AS i ON s.item_id = i.id\n",
    "  ;\n",
    "\n",
    "-- 03 Junction Table\n",
    "-- test.db\n",
    "\n",
    "SELECT * FROM customer;\n",
    "SELECT * FROM item;\n",
    "SELECT * FROM sale;\n",
    "\n",
    "SELECT i.name AS Item, c.name AS Cust, s.price AS Price\n",
    "  FROM sale AS s\n",
    "  JOIN item AS i ON s.item_id = i.id\n",
    "  JOIN customer AS c ON s.customer_id = c.id\n",
    "  ORDER BY Cust, Item\n",
    ";\n",
    "\n",
    "-- a customer without sales\n",
    "INSERT INTO customer ( name ) VALUES ( 'Jane Smith' );\n",
    "SELECT * FROM customer;\n",
    "\n",
    "-- left joins\n",
    "SELECT c.name AS Cust, c.zip, i.name AS Item, i.description, s.quantity AS Quan, s.price AS Price\n",
    "  FROM customer AS c\n",
    "  LEFT JOIN sale AS s ON s.customer_id = c.id\n",
    "  LEFT JOIN item AS i ON s.item_id = i.id\n",
    "  ORDER BY Cust, Item\n",
    ";\n",
    "\n",
    "-- restore database\n",
    "DELETE FROM customer WHERE id = 4;\n",
    "\n"
   ]
  },
  {
   "cell_type": "markdown",
   "metadata": {},
   "source": [
    "# Accessing related tables"
   ]
  },
  {
   "cell_type": "code",
   "execution_count": 4,
   "metadata": {
    "collapsed": true,
    "jupyter": {
     "outputs_hidden": true
    }
   },
   "outputs": [
    {
     "name": "stdout",
     "output_type": "stream",
     "text": [
      "### Query Summary ###\n",
      "\n",
      "DATABASE QUERIED: test.db\n",
      "QUERY: ||| CREATE TABLE left ( id INTEGER, description TEXT ); |||\n",
      "### Query Summary ###\n",
      "\n",
      "DATABASE QUERIED: test.db\n",
      "QUERY: ||| CREATE TABLE right ( id INTEGER, description TEXT ); |||\n",
      "### Query Summary ###\n",
      "\n",
      "DATABASE QUERIED: test.db\n",
      "QUERY: ||| INSERT INTO left VALUES ( 1, 'left 01' ); |||\n",
      "### Query Summary ###\n",
      "\n",
      "DATABASE QUERIED: test.db\n",
      "QUERY: ||| INSERT INTO left VALUES ( 2, 'left 02' ); |||\n",
      "### Query Summary ###\n",
      "\n",
      "DATABASE QUERIED: test.db\n",
      "QUERY: ||| INSERT INTO left VALUES ( 3, 'left 03' ); |||\n",
      "### Query Summary ###\n",
      "\n",
      "DATABASE QUERIED: test.db\n",
      "QUERY: ||| INSERT INTO left VALUES ( 4, 'left 04' ); |||\n",
      "### Query Summary ###\n",
      "\n",
      "DATABASE QUERIED: test.db\n",
      "QUERY: ||| INSERT INTO left VALUES ( 5, 'left 05' ); |||\n",
      "### Query Summary ###\n",
      "\n",
      "DATABASE QUERIED: test.db\n",
      "QUERY: ||| INSERT INTO left VALUES ( 6, 'left 06' ); |||\n",
      "### Query Summary ###\n",
      "\n",
      "DATABASE QUERIED: test.db\n",
      "QUERY: ||| INSERT INTO left VALUES ( 7, 'left 07' ); |||\n",
      "### Query Summary ###\n",
      "\n",
      "DATABASE QUERIED: test.db\n",
      "QUERY: ||| INSERT INTO left VALUES ( 8, 'left 08' ); |||\n",
      "### Query Summary ###\n",
      "\n",
      "DATABASE QUERIED: test.db\n",
      "QUERY: ||| INSERT INTO left VALUES ( 9, 'left 09' ); |||\n",
      "### Query Summary ###\n",
      "\n",
      "DATABASE QUERIED: test.db\n",
      "QUERY: ||| INSERT INTO right VALUES ( 6, 'right 06' ); |||\n",
      "### Query Summary ###\n",
      "\n",
      "DATABASE QUERIED: test.db\n",
      "QUERY: ||| INSERT INTO right VALUES ( 7, 'right 07' ); |||\n",
      "### Query Summary ###\n",
      "\n",
      "DATABASE QUERIED: test.db\n",
      "QUERY: ||| INSERT INTO right VALUES ( 8, 'right 08' ); |||\n",
      "### Query Summary ###\n",
      "\n",
      "DATABASE QUERIED: test.db\n",
      "QUERY: ||| INSERT INTO right VALUES ( 9, 'right 09' ); |||\n",
      "### Query Summary ###\n",
      "\n",
      "DATABASE QUERIED: test.db\n",
      "QUERY: ||| INSERT INTO right VALUES ( 10, 'right 10' ); |||\n",
      "### Query Summary ###\n",
      "\n",
      "DATABASE QUERIED: test.db\n",
      "QUERY: ||| INSERT INTO right VALUES ( 11, 'right 11' ); |||\n",
      "### Query Summary ###\n",
      "\n",
      "DATABASE QUERIED: test.db\n",
      "QUERY: ||| INSERT INTO right VALUES ( 11, 'right 12' ); |||\n",
      "### Query Summary ###\n",
      "\n",
      "DATABASE QUERIED: test.db\n",
      "QUERY: ||| INSERT INTO right VALUES ( 11, 'right 12' ); |||\n",
      "### Query Summary ###\n",
      "\n",
      "DATABASE QUERIED: test.db\n",
      "QUERY: ||| INSERT INTO right VALUES ( 11, 'right 13' ); |||\n",
      "### Query Summary ###\n",
      "\n",
      "DATABASE QUERIED: test.db\n",
      "QUERY: ||| INSERT INTO right VALUES ( 11, 'right 14' ); |||\n"
     ]
    }
   ],
   "source": [
    "# make test tables for joining\n",
    "\n",
    "q1 = \"CREATE TABLE left ( id INTEGER, description TEXT );\"\n",
    "q2 = \"CREATE TABLE right ( id INTEGER, description TEXT );\"\n",
    "\n",
    "q3 = \"INSERT INTO left VALUES ( 1, 'left 01' );\"\n",
    "q4 = \"INSERT INTO left VALUES ( 2, 'left 02' );\"\n",
    "q5 = \"INSERT INTO left VALUES ( 3, 'left 03' );\"\n",
    "q6 = \"INSERT INTO left VALUES ( 4, 'left 04' );\"\n",
    "q7 = \"INSERT INTO left VALUES ( 5, 'left 05' );\"\n",
    "q8 = \"INSERT INTO left VALUES ( 6, 'left 06' );\"\n",
    "q9 = \"INSERT INTO left VALUES ( 7, 'left 07' );\"\n",
    "q10 = \"INSERT INTO left VALUES ( 8, 'left 08' );\"\n",
    "q11 = \"INSERT INTO left VALUES ( 9, 'left 09' );\"\n",
    "\n",
    "q12 = \"INSERT INTO right VALUES ( 6, 'right 06' );\"\n",
    "q13 = \"INSERT INTO right VALUES ( 7, 'right 07' );\"\n",
    "q14 = \"INSERT INTO right VALUES ( 8, 'right 08' );\"\n",
    "q15 = \"INSERT INTO right VALUES ( 9, 'right 09' );\"\n",
    "q16 = \"INSERT INTO right VALUES ( 10, 'right 10' );\"\n",
    "q17 = \"INSERT INTO right VALUES ( 11, 'right 11' );\"\n",
    "q18 = \"INSERT INTO right VALUES ( 11, 'right 12' );\"\n",
    "q19 = \"INSERT INTO right VALUES ( 11, 'right 13' );\"\n",
    "q20 = \"INSERT INTO right VALUES ( 11, 'right 14' );\"\n",
    "\n",
    "query_list = [q1, q2, q3, q4, q5, q6, q7, q8, q9, q10, \n",
    "              q11, q12, q13, q14, q15, q16, q17, q18, q18, q19, q20]\n",
    "\n",
    "for query in query_list:\n",
    "    sh.perform_insert_and_stats(query, 'test.db')"
   ]
  },
  {
   "cell_type": "code",
   "execution_count": 5,
   "metadata": {},
   "outputs": [
    {
     "name": "stdout",
     "output_type": "stream",
     "text": [
      "### Query Summary ###\n",
      "\n",
      "DATABASE QUERIED: test.db\n",
      "QUERY: ||| SELECT * FROM left; |||\n",
      "\n",
      "There are 9 rows in the query results table\n",
      "There are 2 columns in the query results table\n",
      "\n",
      "First 5 rows of the query results:\n",
      "   id description\n",
      "0   1     left 01\n",
      "1   2     left 02\n",
      "2   3     left 03\n",
      "3   4     left 04\n",
      "4   5     left 05\n"
     ]
    }
   ],
   "source": [
    "q = \"SELECT * FROM left;\"\n",
    "sh.query_result_stats(q, \"test.db\")"
   ]
  },
  {
   "cell_type": "code",
   "execution_count": 6,
   "metadata": {},
   "outputs": [
    {
     "name": "stdout",
     "output_type": "stream",
     "text": [
      "### Query Summary ###\n",
      "\n",
      "DATABASE QUERIED: test.db\n",
      "QUERY: ||| SELECT * FROM right; |||\n",
      "\n",
      "There are 10 rows in the query results table\n",
      "There are 2 columns in the query results table\n",
      "\n",
      "First 5 rows of the query results:\n",
      "   id description\n",
      "0   6    right 06\n",
      "1   7    right 07\n",
      "2   8    right 08\n",
      "3   9    right 09\n",
      "4  10    right 10\n"
     ]
    }
   ],
   "source": [
    "q = \"SELECT * FROM right;\"\n",
    "sh.query_result_stats(q, \"test.db\")"
   ]
  },
  {
   "cell_type": "code",
   "execution_count": 7,
   "metadata": {},
   "outputs": [
    {
     "name": "stdout",
     "output_type": "stream",
     "text": [
      "### Query Summary ###\n",
      "\n",
      "DATABASE QUERIED: test.db\n",
      "QUERY: ||| \n",
      "SELECT l.description AS left, r.description AS right\n",
      "  FROM left AS l\n",
      "  JOIN right AS r ON l.id = r.id\n",
      "  ;\n",
      " |||\n",
      "\n",
      "There are 4 rows in the query results table\n",
      "There are 2 columns in the query results table\n",
      "\n",
      "First 5 rows of the query results:\n",
      "      left     right\n",
      "0  left 06  right 06\n",
      "1  left 07  right 07\n",
      "2  left 08  right 08\n",
      "3  left 09  right 09\n"
     ]
    }
   ],
   "source": [
    "# perform a join\n",
    "q = '''\n",
    "SELECT l.description AS left, r.description AS right\n",
    "  FROM left AS l\n",
    "  JOIN right AS r ON l.id = r.id\n",
    "  ;\n",
    "'''\n",
    "sh.query_result_stats(q, \"test.db\")"
   ]
  },
  {
   "cell_type": "code",
   "execution_count": 8,
   "metadata": {},
   "outputs": [
    {
     "name": "stdout",
     "output_type": "stream",
     "text": [
      "### Query Summary ###\n",
      "\n",
      "DATABASE QUERIED: test.db\n",
      "QUERY: ||| DROP TABLE left; |||\n",
      "### Query Summary ###\n",
      "\n",
      "DATABASE QUERIED: test.db\n",
      "QUERY: ||| DROP TABLE right; |||\n"
     ]
    }
   ],
   "source": [
    "# delete the newly created tables\n",
    "\n",
    "q1 = \"DROP TABLE left;\"\n",
    "q2 = \"DROP TABLE right;\"\n",
    "\n",
    "sh.perform_insert_and_stats(q1, 'test.db')\n",
    "sh.perform_insert_and_stats(q2, 'test.db')"
   ]
  },
  {
   "cell_type": "code",
   "execution_count": 9,
   "metadata": {},
   "outputs": [
    {
     "name": "stdout",
     "output_type": "stream",
     "text": [
      "### Query Summary ###\n",
      "\n",
      "DATABASE QUERIED: test.db\n",
      "QUERY: ||| SELECT * FROM sale; |||\n",
      "\n",
      "There are 5 rows in the query results table\n",
      "There are 6 columns in the query results table\n",
      "\n",
      "First 5 rows of the query results:\n",
      "   id  item_id  customer_id        date  quantity  price\n",
      "0   1        1            2  2009-02-27         3   2995\n",
      "1   2        2            2  2009-02-27         1   1995\n",
      "2   3        1            1  2009-02-28         1   2995\n",
      "3   4        4            3  2009-02-28         2    999\n",
      "4   5        1            2  2009-02-28         1   2995\n",
      "### Query Summary ###\n",
      "\n",
      "DATABASE QUERIED: test.db\n",
      "QUERY: ||| SELECT * FROM item; |||\n",
      "\n",
      "There are 4 rows in the query results table\n",
      "There are 3 columns in the query results table\n",
      "\n",
      "First 5 rows of the query results:\n",
      "   id              name                                  description\n",
      "0   1  Box of 64 Pixels            64 RGB pixels in a decorative box\n",
      "1   2    Sense of Humor       Especially dry. Imported from England.\n",
      "2   3            Beauty  Inner beauty. No cosmetic surgery required!\n",
      "3   4          Bar Code               Unused. In original packaging.\n"
     ]
    }
   ],
   "source": [
    "# inspect tables to be used in next join exercise\n",
    "\n",
    "q1 = \"SELECT * FROM sale;\"\n",
    "q2 = \"SELECT * FROM item;\"\n",
    "\n",
    "sh.query_result_stats(q1, \"test.db\")\n",
    "sh.query_result_stats(q2, \"test.db\")"
   ]
  },
  {
   "cell_type": "code",
   "execution_count": 10,
   "metadata": {},
   "outputs": [
    {
     "name": "stdout",
     "output_type": "stream",
     "text": [
      "### Query Summary ###\n",
      "\n",
      "DATABASE QUERIED: test.db\n",
      "QUERY: ||| \n",
      "SELECT s.id AS sale, s.date, i.name, i.description, s.price \n",
      "  FROM sale AS s\n",
      "  JOIN item AS i ON s.item_id = i.id\n",
      "  ;\n",
      " |||\n",
      "\n",
      "There are 5 rows in the query results table\n",
      "There are 5 columns in the query results table\n",
      "\n",
      "First 5 rows of the query results:\n",
      "   sale        date              name                             description  \\\n",
      "0     1  2009-02-27  Box of 64 Pixels       64 RGB pixels in a decorative box   \n",
      "1     2  2009-02-27    Sense of Humor  Especially dry. Imported from England.   \n",
      "2     3  2009-02-28  Box of 64 Pixels       64 RGB pixels in a decorative box   \n",
      "3     4  2009-02-28          Bar Code          Unused. In original packaging.   \n",
      "4     5  2009-02-28  Box of 64 Pixels       64 RGB pixels in a decorative box   \n",
      "\n",
      "   price  \n",
      "0   2995  \n",
      "1   1995  \n",
      "2   2995  \n",
      "3    999  \n",
      "4   2995  \n"
     ]
    }
   ],
   "source": [
    "q = \"\"\"\n",
    "SELECT s.id AS sale, s.date, i.name, i.description, s.price \n",
    "  FROM sale AS s\n",
    "  JOIN item AS i ON s.item_id = i.id\n",
    "  ;\n",
    "\"\"\"\n",
    "sh.query_result_stats(q, \"test.db\")"
   ]
  },
  {
   "cell_type": "markdown",
   "metadata": {},
   "source": [
    "# Relating multiple tables"
   ]
  },
  {
   "cell_type": "code",
   "execution_count": 11,
   "metadata": {},
   "outputs": [
    {
     "name": "stdout",
     "output_type": "stream",
     "text": [
      "### Query Summary ###\n",
      "\n",
      "DATABASE QUERIED: test.db\n",
      "QUERY: ||| SELECT * FROM customer; |||\n",
      "\n",
      "There are 4 rows in the query results table\n",
      "There are 6 columns in the query results table\n",
      "\n",
      "First 5 rows of the query results:\n",
      "   id          name            address     city state    zip\n",
      "0   1    Bill Smith    123 Main Street     Hope    CA  98765\n",
      "1   2    Mary Smith  123 Dorian Street  Harmony    AZ  98765\n",
      "2   3     Bob Smith   123 Laugh Street    Humor    CA  98765\n",
      "3   5  Jimi Hendrix               None   Renton    WA   None\n",
      "### Query Summary ###\n",
      "\n",
      "DATABASE QUERIED: test.db\n",
      "QUERY: ||| SELECT * FROM item; |||\n",
      "\n",
      "There are 4 rows in the query results table\n",
      "There are 3 columns in the query results table\n",
      "\n",
      "First 5 rows of the query results:\n",
      "   id              name                                  description\n",
      "0   1  Box of 64 Pixels            64 RGB pixels in a decorative box\n",
      "1   2    Sense of Humor       Especially dry. Imported from England.\n",
      "2   3            Beauty  Inner beauty. No cosmetic surgery required!\n",
      "3   4          Bar Code               Unused. In original packaging.\n",
      "### Query Summary ###\n",
      "\n",
      "DATABASE QUERIED: test.db\n",
      "QUERY: ||| SELECT * FROM sale; |||\n",
      "\n",
      "There are 5 rows in the query results table\n",
      "There are 6 columns in the query results table\n",
      "\n",
      "First 5 rows of the query results:\n",
      "   id  item_id  customer_id        date  quantity  price\n",
      "0   1        1            2  2009-02-27         3   2995\n",
      "1   2        2            2  2009-02-27         1   1995\n",
      "2   3        1            1  2009-02-28         1   2995\n",
      "3   4        4            3  2009-02-28         2    999\n",
      "4   5        1            2  2009-02-28         1   2995\n"
     ]
    }
   ],
   "source": [
    "# inspect the tables we will be using\n",
    "\n",
    "q1 = \"SELECT * FROM customer;\"\n",
    "q2 = \"SELECT * FROM item;\"\n",
    "q3 = \"SELECT * FROM sale;\"\n",
    "\n",
    "sh.query_result_stats(q1, \"test.db\")\n",
    "sh.query_result_stats(q2, \"test.db\")\n",
    "sh.query_result_stats(q3, \"test.db\")"
   ]
  },
  {
   "cell_type": "code",
   "execution_count": 12,
   "metadata": {},
   "outputs": [
    {
     "name": "stdout",
     "output_type": "stream",
     "text": [
      "### Query Summary ###\n",
      "\n",
      "DATABASE QUERIED: test.db\n",
      "QUERY: ||| \n",
      "SELECT i.name AS Item, c.name AS Cust, s.price AS Price\n",
      "  FROM sale AS s\n",
      "  JOIN item AS i ON s.item_id = i.id\n",
      "  JOIN customer AS c ON s.customer_id = c.id\n",
      "  ORDER BY Cust, Item\n",
      " |||\n",
      "\n",
      "There are 5 rows in the query results table\n",
      "There are 3 columns in the query results table\n",
      "\n",
      "First 5 rows of the query results:\n",
      "               Item        Cust  Price\n",
      "0  Box of 64 Pixels  Bill Smith   2995\n",
      "1          Bar Code   Bob Smith    999\n",
      "2  Box of 64 Pixels  Mary Smith   2995\n",
      "3  Box of 64 Pixels  Mary Smith   2995\n",
      "4    Sense of Humor  Mary Smith   1995\n"
     ]
    }
   ],
   "source": [
    "# a join query combining all 3 tables\n",
    "q = \"\"\"\n",
    "SELECT i.name AS Item, c.name AS Cust, s.price AS Price\n",
    "  FROM sale AS s\n",
    "  JOIN item AS i ON s.item_id = i.id\n",
    "  JOIN customer AS c ON s.customer_id = c.id\n",
    "  ORDER BY Cust, Item\n",
    "\"\"\"\n",
    "\n",
    "sh.query_result_stats(q, \"test.db\")"
   ]
  },
  {
   "cell_type": "code",
   "execution_count": null,
   "metadata": {},
   "outputs": [],
   "source": []
  }
 ],
 "metadata": {
  "kernelspec": {
   "display_name": "Python 3",
   "language": "python",
   "name": "python3"
  },
  "language_info": {
   "codemirror_mode": {
    "name": "ipython",
    "version": 3
   },
   "file_extension": ".py",
   "mimetype": "text/x-python",
   "name": "python",
   "nbconvert_exporter": "python",
   "pygments_lexer": "ipython3",
   "version": "3.7.3"
  }
 },
 "nbformat": 4,
 "nbformat_minor": 4
}
