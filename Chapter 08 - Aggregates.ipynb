{
 "cells": [
  {
   "cell_type": "code",
   "execution_count": 1,
   "metadata": {},
   "outputs": [],
   "source": [
    "import sqlhelpers as sh"
   ]
  },
  {
   "cell_type": "code",
   "execution_count": 2,
   "metadata": {},
   "outputs": [],
   "source": [
    "# %load Exercise Files\\\\Chapters\\\\sql-chap08.txt\n",
    "-- 01 Aggregate Data\n",
    "-- world.db\n",
    "\n",
    "SELECT COUNT(*) FROM Country;\n",
    "\n",
    "SELECT Region, COUNT(*)\n",
    "  FROM Country\n",
    "  GROUP BY Region\n",
    ";\n",
    "\n",
    "SELECT Region, COUNT(*) AS Count\n",
    "  FROM Country\n",
    "  GROUP BY Region\n",
    "  ORDER BY Count DESC, Region\n",
    ";\n",
    "\n",
    "-- album.db\n",
    "\n",
    "SELECT a.title AS Album, COUNT(t.track_number) as Tracks\n",
    "  FROM track AS t\n",
    "  JOIN album AS a\n",
    "    ON a.id = t.album_id\n",
    "  GROUP BY a.id\n",
    "  ORDER BY Tracks DESC, Album\n",
    ";\n",
    "\n",
    "SELECT a.title AS Album, COUNT(t.track_number) as Tracks\n",
    "  FROM track AS t\n",
    "  JOIN album AS a\n",
    "    ON a.id = t.album_id\n",
    "  GROUP BY a.id\n",
    "  HAVING Tracks >= 10\n",
    "  ORDER BY Tracks DESC, Album\n",
    ";\n",
    "\n",
    "SELECT a.title AS Album, COUNT(t.track_number) as Tracks\n",
    "  FROM track AS t\n",
    "  JOIN album AS a\n",
    "    ON a.id = t.album_id\n",
    "  WHERE a.artist = \"The Beatles\"\n",
    "  GROUP BY a.id\n",
    "  HAVING Tracks >= 10\n",
    "  ORDER BY Tracks DESC, Album\n",
    ";\n",
    "\n",
    "-- 02 Aggregate functions\n",
    "-- world.db\n",
    "SELECT COUNT(*) FROM Country;\n",
    "SELECT COUNT(Population) FROM Country;\n",
    "SELECT AVG(Population) FROM Country;\n",
    "SELECT Region, AVG(Population) FROM Country GROUP BY Region;\n",
    "SELECT Region, MIN(Population), MAX(Population) FROM Country GROUP BY Region;\n",
    "SELECT Region, SUM(Population) FROM Country GROUP BY Region;\n",
    "\n",
    "-- 03 DISTINCT Aggregates\n",
    "-- world.db\n",
    "\n",
    "SELECT COUNT(HeadOfState) FROM Country;\n",
    "SELECT HeadOfState FROM Country ORDER BY HeadOfState;\n",
    "SELECT COUNT(DISTINCT HeadOfState) FROM Country;\n",
    "\n"
   ]
  },
  {
   "cell_type": "markdown",
   "metadata": {},
   "source": [
    "# What are aggregates"
   ]
  },
  {
   "cell_type": "code",
   "execution_count": 3,
   "metadata": {},
   "outputs": [
    {
     "name": "stdout",
     "output_type": "stream",
     "text": [
      "### Query Summary ###\n",
      "\n",
      "DATABASE QUERIED: world.db\n",
      "QUERY: ||| SELECT COUNT(*) FROM Country; |||\n",
      "\n",
      "There are 1 rows in the query results table\n",
      "There are 1 columns in the query results table\n",
      "\n",
      "First 5 rows of the query results:\n",
      "   COUNT(*)\n",
      "0       239\n"
     ]
    }
   ],
   "source": [
    "# using count\n",
    "q = \"SELECT COUNT(*) FROM Country;\"\n",
    "sh.query_result_stats(q, \"world.db\")"
   ]
  },
  {
   "cell_type": "code",
   "execution_count": 4,
   "metadata": {},
   "outputs": [
    {
     "name": "stdout",
     "output_type": "stream",
     "text": [
      "### Query Summary ###\n",
      "\n",
      "DATABASE QUERIED: world.db\n",
      "QUERY: ||| \n",
      "SELECT Region, COUNT(*)\n",
      "  FROM Country\n",
      "  GROUP BY Region\n",
      ";\n",
      " |||\n",
      "\n",
      "There are 25 rows in the query results table\n",
      "There are 2 columns in the query results table\n",
      "\n",
      "First 5 rows of the query results:\n",
      "                      Region  COUNT(*)\n",
      "0                 Antarctica         5\n",
      "1  Australia and New Zealand         5\n",
      "2           Baltic Countries         3\n",
      "3            British Islands         2\n",
      "4                  Caribbean        24\n"
     ]
    }
   ],
   "source": [
    "q = \"\"\"\n",
    "SELECT Region, COUNT(*)\n",
    "  FROM Country\n",
    "  GROUP BY Region\n",
    ";\n",
    "\"\"\"\n",
    "sh.query_result_stats(q, \"world.db\")"
   ]
  },
  {
   "cell_type": "code",
   "execution_count": 5,
   "metadata": {},
   "outputs": [
    {
     "name": "stdout",
     "output_type": "stream",
     "text": [
      "### Query Summary ###\n",
      "\n",
      "DATABASE QUERIED: world.db\n",
      "QUERY: ||| \n",
      "SELECT Region, COUNT(*) AS Count\n",
      "  FROM Country\n",
      "  GROUP BY Region\n",
      "  ORDER BY Count DESC, Region\n",
      ";\n",
      " |||\n",
      "\n",
      "There are 25 rows in the query results table\n",
      "There are 2 columns in the query results table\n",
      "\n",
      "First 5 rows of the query results:\n",
      "            Region  Count\n",
      "0        Caribbean     24\n",
      "1   Eastern Africa     20\n",
      "2      Middle East     18\n",
      "3   Western Africa     17\n",
      "4  Southern Europe     15\n"
     ]
    }
   ],
   "source": [
    "q = \"\"\"\n",
    "SELECT Region, COUNT(*) AS Count\n",
    "  FROM Country\n",
    "  GROUP BY Region\n",
    "  ORDER BY Count DESC, Region\n",
    ";\n",
    "\"\"\"\n",
    "sh.query_result_stats(q, \"world.db\")"
   ]
  },
  {
   "cell_type": "code",
   "execution_count": 7,
   "metadata": {},
   "outputs": [
    {
     "name": "stdout",
     "output_type": "stream",
     "text": [
      "### Query Summary ###\n",
      "\n",
      "DATABASE QUERIED: album.db\n",
      "QUERY: ||| \n",
      "SELECT a.title AS Album, COUNT(t.track_number) as Tracks\n",
      "  FROM track AS t\n",
      "  JOIN album AS a\n",
      "    ON a.id = t.album_id\n",
      "  GROUP BY a.id\n",
      "  ORDER BY Tracks DESC, Album\n",
      ";\n",
      " |||\n",
      "\n",
      "There are 7 rows in the query results table\n",
      "There are 2 columns in the query results table\n",
      "\n",
      "First 5 rows of the query results:\n",
      "                    Album  Tracks\n",
      "0             Rubber Soul      14\n",
      "1           Birds of Fire      10\n",
      "2  Two Men with the Blues      10\n",
      "3              Apostrophe       9\n",
      "4     Hendrix in the West       9\n"
     ]
    }
   ],
   "source": [
    "q = \"\"\"\n",
    "SELECT a.title AS Album, COUNT(t.track_number) as Tracks\n",
    "  FROM track AS t\n",
    "  JOIN album AS a\n",
    "    ON a.id = t.album_id\n",
    "  GROUP BY a.id\n",
    "  ORDER BY Tracks DESC, Album\n",
    ";\n",
    "\"\"\"\n",
    "sh.query_result_stats(q, \"album.db\")"
   ]
  },
  {
   "cell_type": "code",
   "execution_count": 8,
   "metadata": {},
   "outputs": [
    {
     "name": "stdout",
     "output_type": "stream",
     "text": [
      "### Query Summary ###\n",
      "\n",
      "DATABASE QUERIED: album.db\n",
      "QUERY: ||| \n",
      "SELECT a.title AS Album, COUNT(t.track_number) as Tracks\n",
      "  FROM track AS t\n",
      "  JOIN album AS a\n",
      "    ON a.id = t.album_id\n",
      "  GROUP BY a.id\n",
      "  HAVING Tracks >= 10\n",
      "  ORDER BY Tracks DESC, Album\n",
      ";\n",
      " |||\n",
      "\n",
      "There are 3 rows in the query results table\n",
      "There are 2 columns in the query results table\n",
      "\n",
      "First 5 rows of the query results:\n",
      "                    Album  Tracks\n",
      "0             Rubber Soul      14\n",
      "1           Birds of Fire      10\n",
      "2  Two Men with the Blues      10\n"
     ]
    }
   ],
   "source": [
    "q = \"\"\"\n",
    "SELECT a.title AS Album, COUNT(t.track_number) as Tracks\n",
    "  FROM track AS t\n",
    "  JOIN album AS a\n",
    "    ON a.id = t.album_id\n",
    "  GROUP BY a.id\n",
    "  HAVING Tracks >= 10\n",
    "  ORDER BY Tracks DESC, Album\n",
    ";\n",
    "\"\"\"\n",
    "sh.query_result_stats(q, \"album.db\")"
   ]
  },
  {
   "cell_type": "code",
   "execution_count": 9,
   "metadata": {},
   "outputs": [
    {
     "name": "stdout",
     "output_type": "stream",
     "text": [
      "### Query Summary ###\n",
      "\n",
      "DATABASE QUERIED: album.db\n",
      "QUERY: ||| \n",
      "SELECT a.title AS Album, COUNT(t.track_number) as Tracks\n",
      "  FROM track AS t\n",
      "  JOIN album AS a\n",
      "    ON a.id = t.album_id\n",
      "  WHERE a.artist = \"The Beatles\"\n",
      "  GROUP BY a.id\n",
      "  HAVING Tracks >= 10\n",
      "  ORDER BY Tracks DESC, Album\n",
      ";\n",
      " |||\n",
      "\n",
      "There are 1 rows in the query results table\n",
      "There are 2 columns in the query results table\n",
      "\n",
      "First 5 rows of the query results:\n",
      "         Album  Tracks\n",
      "0  Rubber Soul      14\n"
     ]
    }
   ],
   "source": [
    "# include only albums by the beatles\n",
    "q = \"\"\"\n",
    "SELECT a.title AS Album, COUNT(t.track_number) as Tracks\n",
    "  FROM track AS t\n",
    "  JOIN album AS a\n",
    "    ON a.id = t.album_id\n",
    "  WHERE a.artist = \"The Beatles\"\n",
    "  GROUP BY a.id\n",
    "  HAVING Tracks >= 10\n",
    "  ORDER BY Tracks DESC, Album\n",
    ";\n",
    "\"\"\"\n",
    "sh.query_result_stats(q, \"album.db\")"
   ]
  },
  {
   "cell_type": "markdown",
   "metadata": {},
   "source": [
    "# Using aggregate functions"
   ]
  },
  {
   "cell_type": "code",
   "execution_count": 10,
   "metadata": {},
   "outputs": [
    {
     "name": "stdout",
     "output_type": "stream",
     "text": [
      "### Query Summary ###\n",
      "\n",
      "DATABASE QUERIED: world.db\n",
      "QUERY: ||| SELECT Region, AVG(Population) FROM Country GROUP BY Region; |||\n",
      "\n",
      "There are 25 rows in the query results table\n",
      "There are 2 columns in the query results table\n",
      "\n",
      "First 5 rows of the query results:\n",
      "                      Region  AVG(Population)\n",
      "0                 Antarctica              NaN\n",
      "1  Australia and New Zealand     4.550620e+06\n",
      "2           Baltic Countries     2.520633e+06\n",
      "3            British Islands     3.169925e+07\n",
      "4                  Caribbean     1.589167e+06\n",
      "### Query Summary ###\n",
      "\n",
      "DATABASE QUERIED: world.db\n",
      "QUERY: ||| SELECT Region, MIN(Population), MAX(Population) FROM Country GROUP BY Region; |||\n",
      "\n",
      "There are 25 rows in the query results table\n",
      "There are 3 columns in the query results table\n",
      "\n",
      "First 5 rows of the query results:\n",
      "                      Region  MIN(Population)  MAX(Population)\n",
      "0                 Antarctica              NaN              NaN\n",
      "1  Australia and New Zealand            600.0       18886000.0\n",
      "2           Baltic Countries        1439200.0        3698500.0\n",
      "3            British Islands        3775100.0       59623400.0\n",
      "4                  Caribbean           8000.0       11201000.0\n",
      "### Query Summary ###\n",
      "\n",
      "DATABASE QUERIED: world.db\n",
      "QUERY: ||| SELECT Region, SUM(Population) FROM Country GROUP BY Region; |||\n",
      "\n",
      "There are 25 rows in the query results table\n",
      "There are 2 columns in the query results table\n",
      "\n",
      "First 5 rows of the query results:\n",
      "                      Region  SUM(Population)\n",
      "0                 Antarctica              NaN\n",
      "1  Australia and New Zealand       22753100.0\n",
      "2           Baltic Countries        7561900.0\n",
      "3            British Islands       63398500.0\n",
      "4                  Caribbean       38140000.0\n"
     ]
    }
   ],
   "source": [
    "# useful aggregation functions\n",
    "\n",
    "q1 = \"SELECT Region, AVG(Population) FROM Country GROUP BY Region;\"\n",
    "q2 = \"SELECT Region, MIN(Population), MAX(Population) FROM Country GROUP BY Region;\"\n",
    "q3 = \"SELECT Region, SUM(Population) FROM Country GROUP BY Region;\"\n",
    "\n",
    "sh.query_result_stats(q1, \"world.db\")\n",
    "sh.query_result_stats(q2, \"world.db\")\n",
    "sh.query_result_stats(q3, \"world.db\")"
   ]
  },
  {
   "cell_type": "markdown",
   "metadata": {},
   "source": [
    "# Aggregating distinct values"
   ]
  },
  {
   "cell_type": "code",
   "execution_count": 12,
   "metadata": {},
   "outputs": [
    {
     "name": "stdout",
     "output_type": "stream",
     "text": [
      "### Query Summary ###\n",
      "\n",
      "DATABASE QUERIED: world.db\n",
      "QUERY: ||| SELECT COUNT(HeadOfState) FROM Country; |||\n",
      "\n",
      "There are 1 rows in the query results table\n",
      "There are 1 columns in the query results table\n",
      "\n",
      "First 5 rows of the query results:\n",
      "   COUNT(HeadOfState)\n",
      "0                 238\n"
     ]
    }
   ],
   "source": [
    "# how many rows in HeadOfState column\n",
    "q = \"SELECT COUNT(HeadOfState) FROM Country;\"\n",
    "sh.query_result_stats(q, \"world.db\")"
   ]
  },
  {
   "cell_type": "code",
   "execution_count": 14,
   "metadata": {},
   "outputs": [
    {
     "name": "stdout",
     "output_type": "stream",
     "text": [
      "### Query Summary ###\n",
      "\n",
      "DATABASE QUERIED: world.db\n",
      "QUERY: ||| SELECT COUNT(DISTINCT HeadOfState) FROM Country; |||\n",
      "\n",
      "There are 1 rows in the query results table\n",
      "There are 1 columns in the query results table\n",
      "\n",
      "First 5 rows of the query results:\n",
      "   COUNT(DISTINCT HeadOfState)\n",
      "0                          179\n"
     ]
    }
   ],
   "source": [
    "# how many unique heads of state are there\n",
    "q = \"SELECT COUNT(DISTINCT HeadOfState) FROM Country;\"\n",
    "sh.query_result_stats(q, \"world.db\")"
   ]
  },
  {
   "cell_type": "code",
   "execution_count": 15,
   "metadata": {},
   "outputs": [
    {
     "name": "stdout",
     "output_type": "stream",
     "text": [
      "### Query Summary ###\n",
      "\n",
      "DATABASE QUERIED: world.db\n",
      "QUERY: ||| SELECT HeadOfState FROM Country ORDER BY HeadOfState; |||\n",
      "\n",
      "There are 239 rows in the query results table\n",
      "There are 1 columns in the query results table\n",
      "\n",
      "First 5 rows of the query results:\n",
      "               HeadOfState\n",
      "0                     None\n",
      "1                         \n",
      "2                         \n",
      "3     Abdelaziz Bouteflika\n",
      "4  Abdiqassim Salad Hassan\n"
     ]
    }
   ],
   "source": [
    "q = \"SELECT HeadOfState FROM Country ORDER BY HeadOfState;\"\n",
    "sh.query_result_stats(q, \"world.db\")"
   ]
  },
  {
   "cell_type": "code",
   "execution_count": null,
   "metadata": {},
   "outputs": [],
   "source": []
  }
 ],
 "metadata": {
  "kernelspec": {
   "display_name": "Python 3",
   "language": "python",
   "name": "python3"
  },
  "language_info": {
   "codemirror_mode": {
    "name": "ipython",
    "version": 3
   },
   "file_extension": ".py",
   "mimetype": "text/x-python",
   "name": "python",
   "nbconvert_exporter": "python",
   "pygments_lexer": "ipython3",
   "version": "3.7.3"
  }
 },
 "nbformat": 4,
 "nbformat_minor": 4
}
