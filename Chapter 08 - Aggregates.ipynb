{
 "cells": [
  {
   "cell_type": "code",
   "execution_count": 1,
   "metadata": {},
   "outputs": [],
   "source": [
    "import sqlhelpers as sh"
   ]
  },
  {
   "cell_type": "code",
   "execution_count": 2,
   "metadata": {},
   "outputs": [],
   "source": [
    "# %load Exercise Files\\\\Chapters\\\\sql-chap08.txt\n",
    "-- 01 Aggregate Data\n",
    "-- world.db\n",
    "\n",
    "SELECT COUNT(*) FROM Country;\n",
    "\n",
    "SELECT Region, COUNT(*)\n",
    "  FROM Country\n",
    "  GROUP BY Region\n",
    ";\n",
    "\n",
    "SELECT Region, COUNT(*) AS Count\n",
    "  FROM Country\n",
    "  GROUP BY Region\n",
    "  ORDER BY Count DESC, Region\n",
    ";\n",
    "\n",
    "-- album.db\n",
    "\n",
    "SELECT a.title AS Album, COUNT(t.track_number) as Tracks\n",
    "  FROM track AS t\n",
    "  JOIN album AS a\n",
    "    ON a.id = t.album_id\n",
    "  GROUP BY a.id\n",
    "  ORDER BY Tracks DESC, Album\n",
    ";\n",
    "\n",
    "SELECT a.title AS Album, COUNT(t.track_number) as Tracks\n",
    "  FROM track AS t\n",
    "  JOIN album AS a\n",
    "    ON a.id = t.album_id\n",
    "  GROUP BY a.id\n",
    "  HAVING Tracks >= 10\n",
    "  ORDER BY Tracks DESC, Album\n",
    ";\n",
    "\n",
    "SELECT a.title AS Album, COUNT(t.track_number) as Tracks\n",
    "  FROM track AS t\n",
    "  JOIN album AS a\n",
    "    ON a.id = t.album_id\n",
    "  WHERE a.artist = \"The Beatles\"\n",
    "  GROUP BY a.id\n",
    "  HAVING Tracks >= 10\n",
    "  ORDER BY Tracks DESC, Album\n",
    ";\n",
    "\n",
    "-- 02 Aggregate functions\n",
    "-- world.db\n",
    "SELECT COUNT(*) FROM Country;\n",
    "SELECT COUNT(Population) FROM Country;\n",
    "SELECT AVG(Population) FROM Country;\n",
    "SELECT Region, AVG(Population) FROM Country GROUP BY Region;\n",
    "SELECT Region, MIN(Population), MAX(Population) FROM Country GROUP BY Region;\n",
    "SELECT Region, SUM(Population) FROM Country GROUP BY Region;\n",
    "\n",
    "-- 03 DISTINCT Aggregates\n",
    "-- world.db\n",
    "\n",
    "SELECT COUNT(HeadOfState) FROM Country;\n",
    "SELECT HeadOfState FROM Country ORDER BY HeadOfState;\n",
    "SELECT COUNT(DISTINCT HeadOfState) FROM Country;\n",
    "\n"
   ]
  },
  {
   "cell_type": "code",
   "execution_count": null,
   "metadata": {},
   "outputs": [],
   "source": []
  }
 ],
 "metadata": {
  "kernelspec": {
   "display_name": "Python 3",
   "language": "python",
   "name": "python3"
  },
  "language_info": {
   "codemirror_mode": {
    "name": "ipython",
    "version": 3
   },
   "file_extension": ".py",
   "mimetype": "text/x-python",
   "name": "python",
   "nbconvert_exporter": "python",
   "pygments_lexer": "ipython3",
   "version": "3.7.3"
  }
 },
 "nbformat": 4,
 "nbformat_minor": 4
}
