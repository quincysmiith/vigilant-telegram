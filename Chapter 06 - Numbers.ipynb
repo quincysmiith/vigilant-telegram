{
 "cells": [
  {
   "cell_type": "code",
   "execution_count": 1,
   "metadata": {},
   "outputs": [],
   "source": [
    "import sqlhelpers as sh"
   ]
  },
  {
   "cell_type": "code",
   "execution_count": 2,
   "metadata": {},
   "outputs": [],
   "source": [
    "# %load Exercise Files\\\\Chapters\\\\sql-chap06.txt\n"
   ]
  },
  {
   "cell_type": "markdown",
   "metadata": {},
   "source": [
    "# Numeric Types"
   ]
  },
  {
   "cell_type": "code",
   "execution_count": 3,
   "metadata": {},
   "outputs": [
    {
     "name": "stdout",
     "output_type": "stream",
     "text": [
      "### Query Summary ###\n",
      "\n",
      "DATABASE QUERIED: world.db\n",
      "QUERY: ||| \n",
      "SELECT A, B, A = B FROM \n",
      "  ( SELECT \n",
      "    ( ( .1 + .2 ) * 10 ) as A,\n",
      "    ( 1.0 + 2.0 ) as B\n",
      "  );\n",
      " |||\n",
      "\n",
      "There are 1 rows in the query results table\n",
      "There are 3 columns in the query results table\n",
      "\n",
      "First 5 rows of the query results:\n",
      "     A    B  A = B\n",
      "0  3.0  3.0      0\n"
     ]
    }
   ],
   "source": [
    "# comparing float types can produce unexpected behaviour.\n",
    "q = \"\"\"\n",
    "SELECT A, B, A = B FROM \n",
    "  ( SELECT \n",
    "    ( ( .1 + .2 ) * 10 ) as A,\n",
    "    ( 1.0 + 2.0 ) as B\n",
    "  );\n",
    "\"\"\"\n",
    "sh.query_result_stats(q, \"world.db\")"
   ]
  },
  {
   "cell_type": "markdown",
   "metadata": {},
   "source": [
    "# What type is that value"
   ]
  },
  {
   "cell_type": "code",
   "execution_count": 4,
   "metadata": {},
   "outputs": [
    {
     "name": "stdout",
     "output_type": "stream",
     "text": [
      "### Query Summary ###\n",
      "\n",
      "DATABASE QUERIED: world.db\n",
      "QUERY: ||| SELECT TYPEOF( 1 + 1 ); |||\n",
      "\n",
      "There are 1 rows in the query results table\n",
      "There are 1 columns in the query results table\n",
      "\n",
      "First 5 rows of the query results:\n",
      "  TYPEOF( 1 + 1 )\n",
      "0         integer\n"
     ]
    }
   ],
   "source": [
    "q = \"SELECT TYPEOF( 1 + 1 );\"\n",
    "sh.query_result_stats(q, \"world.db\")"
   ]
  },
  {
   "cell_type": "code",
   "execution_count": 5,
   "metadata": {},
   "outputs": [
    {
     "name": "stdout",
     "output_type": "stream",
     "text": [
      "### Query Summary ###\n",
      "\n",
      "DATABASE QUERIED: world.db\n",
      "QUERY: ||| SELECT TYPEOF( 1 + 1.0 ); |||\n",
      "\n",
      "There are 1 rows in the query results table\n",
      "There are 1 columns in the query results table\n",
      "\n",
      "First 5 rows of the query results:\n",
      "  TYPEOF( 1 + 1.0 )\n",
      "0              real\n"
     ]
    }
   ],
   "source": [
    "q = \"SELECT TYPEOF( 1 + 1.0 );\"\n",
    "sh.query_result_stats(q, \"world.db\")"
   ]
  },
  {
   "cell_type": "code",
   "execution_count": 8,
   "metadata": {},
   "outputs": [
    {
     "name": "stdout",
     "output_type": "stream",
     "text": [
      "### Query Summary ###\n",
      "\n",
      "DATABASE QUERIED: world.db\n",
      "QUERY: ||| SELECT TYPEOF('panda'); |||\n",
      "\n",
      "There are 1 rows in the query results table\n",
      "There are 1 columns in the query results table\n",
      "\n",
      "First 5 rows of the query results:\n",
      "  TYPEOF('panda')\n",
      "0            text\n"
     ]
    }
   ],
   "source": [
    "q = \"SELECT TYPEOF('panda');\"\n",
    "sh.query_result_stats(q, \"world.db\")"
   ]
  },
  {
   "cell_type": "code",
   "execution_count": 9,
   "metadata": {},
   "outputs": [
    {
     "name": "stdout",
     "output_type": "stream",
     "text": [
      "### Query Summary ###\n",
      "\n",
      "DATABASE QUERIED: world.db\n",
      "QUERY: ||| SELECT TYPEOF('panda' + 'koala'); |||\n",
      "\n",
      "There are 1 rows in the query results table\n",
      "There are 1 columns in the query results table\n",
      "\n",
      "First 5 rows of the query results:\n",
      "  TYPEOF('panda' + 'koala')\n",
      "0                   integer\n"
     ]
    }
   ],
   "source": [
    "q = \"SELECT TYPEOF('panda' + 'koala');\"\n",
    "sh.query_result_stats(q, \"world.db\")"
   ]
  },
  {
   "cell_type": "markdown",
   "metadata": {},
   "source": [
    "# Integer division"
   ]
  },
  {
   "cell_type": "code",
   "execution_count": 10,
   "metadata": {},
   "outputs": [
    {
     "name": "stdout",
     "output_type": "stream",
     "text": [
      "### Query Summary ###\n",
      "\n",
      "DATABASE QUERIED: world.db\n",
      "QUERY: ||| SELECT 1 / 2; |||\n",
      "\n",
      "There are 1 rows in the query results table\n",
      "There are 1 columns in the query results table\n",
      "\n",
      "First 5 rows of the query results:\n",
      "   1 / 2\n",
      "0      0\n"
     ]
    }
   ],
   "source": [
    "# basic integer division\n",
    "q = \"SELECT 1 / 2;\"\n",
    "sh.query_result_stats(q, \"world.db\")"
   ]
  },
  {
   "cell_type": "code",
   "execution_count": 11,
   "metadata": {},
   "outputs": [
    {
     "name": "stdout",
     "output_type": "stream",
     "text": [
      "### Query Summary ###\n",
      "\n",
      "DATABASE QUERIED: world.db\n",
      "QUERY: ||| SELECT 1.0 / 2; |||\n",
      "\n",
      "There are 1 rows in the query results table\n",
      "There are 1 columns in the query results table\n",
      "\n",
      "First 5 rows of the query results:\n",
      "   1.0 / 2\n",
      "0      0.5\n",
      "### Query Summary ###\n",
      "\n",
      "DATABASE QUERIED: world.db\n",
      "QUERY: ||| SELECT CAST(1 AS REAL) / 2; |||\n",
      "\n",
      "There are 1 rows in the query results table\n",
      "There are 1 columns in the query results table\n",
      "\n",
      "First 5 rows of the query results:\n",
      "   CAST(1 AS REAL) / 2\n",
      "0                  0.5\n"
     ]
    }
   ],
   "source": [
    "# to get the decimal place one of the numbers needs to be a real number\n",
    "\n",
    "q1 = \"SELECT 1.0 / 2;\"\n",
    "sh.query_result_stats(q1, \"world.db\")\n",
    "\n",
    "# or\n",
    "\n",
    "q2 = \"SELECT CAST(1 AS REAL) / 2;\"\n",
    "sh.query_result_stats(q2, \"world.db\")"
   ]
  },
  {
   "cell_type": "code",
   "execution_count": 12,
   "metadata": {},
   "outputs": [
    {
     "name": "stdout",
     "output_type": "stream",
     "text": [
      "### Query Summary ###\n",
      "\n",
      "DATABASE QUERIED: world.db\n",
      "QUERY: ||| SELECT 17 / 5; |||\n",
      "\n",
      "There are 1 rows in the query results table\n",
      "There are 1 columns in the query results table\n",
      "\n",
      "First 5 rows of the query results:\n",
      "   17 / 5\n",
      "0       3\n",
      "### Query Summary ###\n",
      "\n",
      "DATABASE QUERIED: world.db\n",
      "QUERY: ||| SELECT 17 / 5, 17 % 5; |||\n",
      "\n",
      "There are 1 rows in the query results table\n",
      "There are 2 columns in the query results table\n",
      "\n",
      "First 5 rows of the query results:\n",
      "   17 / 5  17 % 5\n",
      "0       3       2\n"
     ]
    }
   ],
   "source": [
    "# the remainder can be gotten from a division using a modulo function\n",
    "\n",
    "q1 = \"SELECT 17 / 5;\"\n",
    "sh.query_result_stats(q1, \"world.db\")\n",
    "\n",
    "# or\n",
    "\n",
    "q2 = \"SELECT 17 / 5, 17 % 5;\"\n",
    "sh.query_result_stats(q2, \"world.db\")"
   ]
  },
  {
   "cell_type": "markdown",
   "metadata": {},
   "source": [
    "# Rounding numbers"
   ]
  },
  {
   "cell_type": "code",
   "execution_count": null,
   "metadata": {},
   "outputs": [],
   "source": [
    "SELECT 2.55555;\n",
    "SELECT ROUND(2.55555);\n",
    "SELECT ROUND(2.55555, 3);\n",
    "SELECT ROUND(2.55555, 0);"
   ]
  },
  {
   "cell_type": "code",
   "execution_count": 14,
   "metadata": {},
   "outputs": [
    {
     "name": "stdout",
     "output_type": "stream",
     "text": [
      "### Query Summary ###\n",
      "\n",
      "DATABASE QUERIED: world.db\n",
      "QUERY: ||| SELECT 2.55555; |||\n",
      "\n",
      "There are 1 rows in the query results table\n",
      "There are 1 columns in the query results table\n",
      "\n",
      "First 5 rows of the query results:\n",
      "   2.55555\n",
      "0  2.55555\n"
     ]
    }
   ],
   "source": [
    "# test the precision\n",
    "q = \"SELECT 2.55555;\"\n",
    "sh.query_result_stats(q, \"world.db\")"
   ]
  },
  {
   "cell_type": "code",
   "execution_count": 15,
   "metadata": {},
   "outputs": [
    {
     "name": "stdout",
     "output_type": "stream",
     "text": [
      "### Query Summary ###\n",
      "\n",
      "DATABASE QUERIED: world.db\n",
      "QUERY: ||| SELECT ROUND(2.55555); |||\n",
      "\n",
      "There are 1 rows in the query results table\n",
      "There are 1 columns in the query results table\n",
      "\n",
      "First 5 rows of the query results:\n",
      "   ROUND(2.55555)\n",
      "0             3.0\n"
     ]
    }
   ],
   "source": [
    "# round to the nearest whole number\n",
    "q = \"SELECT ROUND(2.55555);\"\n",
    "sh.query_result_stats(q, \"world.db\")"
   ]
  },
  {
   "cell_type": "code",
   "execution_count": 16,
   "metadata": {},
   "outputs": [
    {
     "name": "stdout",
     "output_type": "stream",
     "text": [
      "### Query Summary ###\n",
      "\n",
      "DATABASE QUERIED: world.db\n",
      "QUERY: ||| SELECT ROUND(2.55555, 3); |||\n",
      "\n",
      "There are 1 rows in the query results table\n",
      "There are 1 columns in the query results table\n",
      "\n",
      "First 5 rows of the query results:\n",
      "   ROUND(2.55555, 3)\n",
      "0              2.556\n"
     ]
    }
   ],
   "source": [
    "# round to 3 decimal places\n",
    "q = \"SELECT ROUND(2.55555, 3);\"\n",
    "sh.query_result_stats(q, \"world.db\")"
   ]
  },
  {
   "cell_type": "code",
   "execution_count": 17,
   "metadata": {},
   "outputs": [
    {
     "name": "stdout",
     "output_type": "stream",
     "text": [
      "### Query Summary ###\n",
      "\n",
      "DATABASE QUERIED: world.db\n",
      "QUERY: ||| SELECT ROUND(2.55555, 0); |||\n",
      "\n",
      "There are 1 rows in the query results table\n",
      "There are 1 columns in the query results table\n",
      "\n",
      "First 5 rows of the query results:\n",
      "   ROUND(2.55555, 0)\n",
      "0                3.0\n"
     ]
    }
   ],
   "source": [
    "# round to 0 decimal places\n",
    "q = \"SELECT ROUND(2.55555, 0);\"\n",
    "sh.query_result_stats(q, \"world.db\")"
   ]
  },
  {
   "cell_type": "code",
   "execution_count": null,
   "metadata": {},
   "outputs": [],
   "source": []
  }
 ],
 "metadata": {
  "kernelspec": {
   "display_name": "Python 3",
   "language": "python",
   "name": "python3"
  },
  "language_info": {
   "codemirror_mode": {
    "name": "ipython",
    "version": 3
   },
   "file_extension": ".py",
   "mimetype": "text/x-python",
   "name": "python",
   "nbconvert_exporter": "python",
   "pygments_lexer": "ipython3",
   "version": "3.7.3"
  }
 },
 "nbformat": 4,
 "nbformat_minor": 4
}
