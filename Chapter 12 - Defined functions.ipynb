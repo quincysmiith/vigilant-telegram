{
 "cells": [
  {
   "cell_type": "code",
   "execution_count": 1,
   "metadata": {},
   "outputs": [],
   "source": [
    "import sqlhelpers as sh"
   ]
  },
  {
   "cell_type": "code",
   "execution_count": 2,
   "metadata": {},
   "outputs": [],
   "source": [
    "# %load Exercise Files\\\\Chapters\\\\sql-chap12.txt\n",
    "-- 02 defined functions\n",
    "-- album.db\n",
    "\n",
    "SELECT SEC_TO_TIME(320);\n",
    "SELECT TIME_TO_SEC('5:20');\n",
    "SELECT title, duration, SEC_TO_TIME(duration) FROM track;\n",
    "\n",
    "SELECT a.title, SUM(duration), SUM_SEC_TO_TIME(t.duration) FROM track AS t\n",
    "  JOIN album AS a ON t.album_id = a.id\n",
    "  GROUP BY a.id\n"
   ]
  },
  {
   "cell_type": "markdown",
   "metadata": {},
   "source": [
    "Example PHP function code\n",
    "\n",
    "```\n",
    "// SEC_TO_TIME( seconds INTEGER )\n",
    "function sec_to_time( $sec )\n",
    "{\n",
    "    if(is_null($sec)) return NULL;\n",
    "    $sec = intval($sec);    // make sure it's an integer\n",
    "    $s = $sec % 60;\n",
    "    $m = $sec / 60;\n",
    "    return sprintf('%d:%02d', $m, $s);\n",
    "}\n",
    "```"
   ]
  }
 ],
 "metadata": {
  "kernelspec": {
   "display_name": "Python 3",
   "language": "python",
   "name": "python3"
  },
  "language_info": {
   "codemirror_mode": {
    "name": "ipython",
    "version": 3
   },
   "file_extension": ".py",
   "mimetype": "text/x-python",
   "name": "python",
   "nbconvert_exporter": "python",
   "pygments_lexer": "ipython3",
   "version": "3.7.3"
  }
 },
 "nbformat": 4,
 "nbformat_minor": 4
}
