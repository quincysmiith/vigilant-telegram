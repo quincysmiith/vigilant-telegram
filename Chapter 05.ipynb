{
 "cells": [
  {
   "cell_type": "code",
   "execution_count": 1,
   "metadata": {},
   "outputs": [],
   "source": [
    "import sqlhelpers as sh"
   ]
  },
  {
   "cell_type": "code",
   "execution_count": 2,
   "metadata": {},
   "outputs": [],
   "source": [
    "# %load Exercise Files\\\\Chapters\\\\sql-chap05.txt\n",
    "-- 02 LENGTH\n",
    "-- world.db\n",
    "\n",
    "SELECT LENGTH('string');\n",
    "SELECT Name, LENGTH(Name) AS Len FROM City ORDER BY Len DESC;\n",
    "\n",
    "-- 03 SUBSTR\n",
    "-- album.db\n",
    "\n",
    "SELECT SUBSTR('this string', 6);\n",
    "SELECT released,\n",
    "    SUBSTR(released, 1, 4) AS year,\n",
    "    SUBSTR(released, 6, 2) AS month,\n",
    "    SUBSTR(released, 9, 2) AS day\n",
    "  FROM album\n",
    "  ORDER BY released\n",
    ";\n",
    "\n",
    "-- 04 TRIM\n",
    "-- :memory:\n",
    "\n",
    "SELECT '   string   ';\n",
    "SELECT TRIM('   string   ');\n",
    "SELECT TRIM('   string   string   ');\n",
    "SELECT LTRIM('   string   ');\n",
    "SELECT RTRIM('   string   ');\n",
    "SELECT '...string...';\n",
    "SELECT TRIM('...string...', '.');\n",
    "\n",
    "-- 05 UPPER/LOWER\n",
    "-- world.db\n",
    "\n",
    "SELECT 'StRiNg';\n",
    "SELECT 'StRiNg' = 'string';\n",
    "SELECT LOWER('StRiNg') = LOWER('string');\n",
    "SELECT UPPER('StRiNg') = UPPER('string');\n",
    "SELECT UPPER(Name) FROM City ORDER BY Name;\n",
    "SELECT LOWER(Name) FROM City ORDER BY Name;\n",
    "\n",
    "\n"
   ]
  },
  {
   "cell_type": "code",
   "execution_count": null,
   "metadata": {},
   "outputs": [],
   "source": []
  }
 ],
 "metadata": {
  "kernelspec": {
   "display_name": "Python 3",
   "language": "python",
   "name": "python3"
  },
  "language_info": {
   "codemirror_mode": {
    "name": "ipython",
    "version": 3
   },
   "file_extension": ".py",
   "mimetype": "text/x-python",
   "name": "python",
   "nbconvert_exporter": "python",
   "pygments_lexer": "ipython3",
   "version": "3.7.3"
  }
 },
 "nbformat": 4,
 "nbformat_minor": 4
}
