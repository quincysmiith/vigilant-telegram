{
 "cells": [
  {
   "cell_type": "code",
   "execution_count": 1,
   "metadata": {},
   "outputs": [],
   "source": [
    "import sqlhelpers as sh"
   ]
  },
  {
   "cell_type": "code",
   "execution_count": 2,
   "metadata": {},
   "outputs": [],
   "source": [
    "# %load Exercise Files\\\\Chapters\\\\sql-chap09.txt\n",
    "-- 02 transactions\n",
    "-- test.db\n",
    "\n",
    "CREATE TABLE widgetInventory (\n",
    "  id INTEGER PRIMARY KEY,\n",
    "  description TEXT,\n",
    "  onhand INTEGER NOT NULL\n",
    ");\n",
    "\n",
    "CREATE TABLE widgetSales (\n",
    "  id INTEGER PRIMARY KEY,\n",
    "  inv_id INTEGER,\n",
    "  quan INTEGER,\n",
    "  price INTEGER\n",
    ");\n",
    "\n",
    "INSERT INTO widgetInventory ( description, onhand ) VALUES ( 'rock', 25 );\n",
    "INSERT INTO widgetInventory ( description, onhand ) VALUES ( 'paper', 25 );\n",
    "INSERT INTO widgetInventory ( description, onhand ) VALUES ( 'scissors', 25 );\n",
    "\n",
    "SELECT * FROM widgetInventory;\n",
    "\n",
    "BEGIN TRANSACTION;\n",
    "INSERT INTO widgetSales ( inv_id, quan, price ) VALUES ( 1, 5, 500 );\n",
    "UPDATE widgetInventory SET onhand = ( onhand - 5 ) WHERE id = 1;\n",
    "END TRANSACTION;\n",
    "\n",
    "SELECT * FROM widgetInventory;\n",
    "SELECT * FROM widgetSales;\n",
    "\n",
    "BEGIN TRANSACTION;\n",
    "INSERT INTO widgetInventory ( description, onhand ) VALUES ( 'toy', 25 );\n",
    "ROLLBACK;\n",
    "SELECT * FROM widgetInventory;\n",
    "\n",
    "-- restore database\n",
    "DROP TABLE widgetInventory;\n",
    "DROP TABLE widgetSales;\n",
    "\n",
    "-- 03 performance\n",
    "-- test.db\n",
    "\n",
    "CREATE TABLE test ( id INTEGER PRIMARY KEY, data TEXT );\n",
    "\n",
    "-- copy / paste 1,000 of these ...\n",
    "INSERT INTO test ( data ) VALUES ( 'this is a good sized line of text.' );\n",
    "\n",
    "-- put this before the 1,000 INSERT statements\n",
    "BEGIN TRANSACTION;\n",
    "\n",
    "-- put this after the 1,000 INSERT statements\n",
    "END TRANSACTION;\n",
    "\n",
    "SELECT COUNT(*) FROM test;\n",
    "\n",
    "-- restore database\n",
    "DROP TABLE test;\n",
    "\n"
   ]
  },
  {
   "cell_type": "markdown",
   "metadata": {},
   "source": [
    "# Data Integrity"
   ]
  },
  {
   "cell_type": "code",
   "execution_count": 3,
   "metadata": {},
   "outputs": [
    {
     "name": "stdout",
     "output_type": "stream",
     "text": [
      "### Query Summary ###\n",
      "\n",
      "DATABASE QUERIED: test.db\n",
      "QUERY: ||| \n",
      "CREATE TABLE widgetInventory (\n",
      "  id INTEGER PRIMARY KEY,\n",
      "  description TEXT,\n",
      "  onhand INTEGER NOT NULL\n",
      ");\n",
      " |||\n"
     ]
    }
   ],
   "source": [
    "q = \"\"\"\n",
    "CREATE TABLE widgetInventory (\n",
    "  id INTEGER PRIMARY KEY,\n",
    "  description TEXT,\n",
    "  onhand INTEGER NOT NULL\n",
    ");\n",
    "\"\"\"\n",
    "sh.perform_insert_and_stats(q, 'test.db')"
   ]
  },
  {
   "cell_type": "code",
   "execution_count": 4,
   "metadata": {},
   "outputs": [
    {
     "name": "stdout",
     "output_type": "stream",
     "text": [
      "### Query Summary ###\n",
      "\n",
      "DATABASE QUERIED: test.db\n",
      "QUERY: ||| \n",
      "CREATE TABLE widgetSales (\n",
      "  id INTEGER PRIMARY KEY,\n",
      "  inv_id INTEGER,\n",
      "  quan INTEGER,\n",
      "  price INTEGER\n",
      ");\n",
      " |||\n"
     ]
    }
   ],
   "source": [
    "q = \"\"\"\n",
    "CREATE TABLE widgetSales (\n",
    "  id INTEGER PRIMARY KEY,\n",
    "  inv_id INTEGER,\n",
    "  quan INTEGER,\n",
    "  price INTEGER\n",
    ");\n",
    "\"\"\"\n",
    "sh.perform_insert_and_stats(q, 'test.db')"
   ]
  },
  {
   "cell_type": "code",
   "execution_count": 6,
   "metadata": {},
   "outputs": [
    {
     "name": "stdout",
     "output_type": "stream",
     "text": [
      "### Query Summary ###\n",
      "\n",
      "DATABASE QUERIED: test.db\n",
      "QUERY: ||| INSERT INTO widgetInventory ( description, onhand ) VALUES ( 'rock', 25 ); |||\n",
      "### Query Summary ###\n",
      "\n",
      "DATABASE QUERIED: test.db\n",
      "QUERY: ||| INSERT INTO widgetInventory ( description, onhand ) VALUES ( 'paper', 25 ); |||\n",
      "### Query Summary ###\n",
      "\n",
      "DATABASE QUERIED: test.db\n",
      "QUERY: ||| INSERT INTO widgetInventory ( description, onhand ) VALUES ( 'scissors', 25 ); |||\n"
     ]
    }
   ],
   "source": [
    "\n",
    "q1 = \"INSERT INTO widgetInventory ( description, onhand ) VALUES ( 'rock', 25 );\"\n",
    "q2 = \"INSERT INTO widgetInventory ( description, onhand ) VALUES ( 'paper', 25 );\"\n",
    "q3 = \"INSERT INTO widgetInventory ( description, onhand ) VALUES ( 'scissors', 25 );\"\n",
    "\n",
    "sh.perform_insert_and_stats(q1, 'test.db')\n",
    "sh.perform_insert_and_stats(q2, 'test.db')\n",
    "sh.perform_insert_and_stats(q3, 'test.db')"
   ]
  },
  {
   "cell_type": "code",
   "execution_count": 7,
   "metadata": {},
   "outputs": [
    {
     "name": "stdout",
     "output_type": "stream",
     "text": [
      "### Query Summary ###\n",
      "\n",
      "DATABASE QUERIED: test.db\n",
      "QUERY: ||| SELECT * FROM widgetInventory; |||\n",
      "\n",
      "There are 3 rows in the query results table\n",
      "There are 3 columns in the query results table\n",
      "\n",
      "First 5 rows of the query results:\n",
      "   id description  onhand\n",
      "0   1        rock      25\n",
      "1   2       paper      25\n",
      "2   3    scissors      25\n"
     ]
    }
   ],
   "source": [
    "\n",
    "q = \"SELECT * FROM widgetInventory;\"\n",
    "sh.query_result_stats(q, \"test.db\")"
   ]
  },
  {
   "cell_type": "code",
   "execution_count": 9,
   "metadata": {},
   "outputs": [
    {
     "name": "stdout",
     "output_type": "stream",
     "text": [
      "### Query Summary ###\n",
      "\n",
      "DATABASE QUERIED: test.db\n",
      "QUERY: ||| BEGIN TRANSACTION; |||\n",
      "### Query Summary ###\n",
      "\n",
      "DATABASE QUERIED: test.db\n",
      "QUERY: ||| INSERT INTO widgetSales ( inv_id, quan, price ) VALUES ( 1, 5, 500 ); |||\n",
      "### Query Summary ###\n",
      "\n",
      "DATABASE QUERIED: test.db\n",
      "QUERY: ||| UPDATE widgetInventory SET onhand = ( onhand - 5 ) WHERE id = 1; |||\n"
     ]
    },
    {
     "ename": "OperationalError",
     "evalue": "cannot commit - no transaction is active",
     "output_type": "error",
     "traceback": [
      "\u001b[1;31m---------------------------------------------------------------------------\u001b[0m",
      "\u001b[1;31mOperationalError\u001b[0m                          Traceback (most recent call last)",
      "\u001b[1;32m<ipython-input-9-311173fee712>\u001b[0m in \u001b[0;36m<module>\u001b[1;34m\u001b[0m\n\u001b[0;32m     10\u001b[0m \u001b[0msh\u001b[0m\u001b[1;33m.\u001b[0m\u001b[0mperform_insert_and_stats\u001b[0m\u001b[1;33m(\u001b[0m\u001b[0mq2\u001b[0m\u001b[1;33m,\u001b[0m \u001b[1;34m\"test.db\"\u001b[0m\u001b[1;33m)\u001b[0m\u001b[1;33m\u001b[0m\u001b[1;33m\u001b[0m\u001b[0m\n\u001b[0;32m     11\u001b[0m \u001b[0msh\u001b[0m\u001b[1;33m.\u001b[0m\u001b[0mperform_insert_and_stats\u001b[0m\u001b[1;33m(\u001b[0m\u001b[0mq3\u001b[0m\u001b[1;33m,\u001b[0m \u001b[1;34m\"test.db\"\u001b[0m\u001b[1;33m)\u001b[0m\u001b[1;33m\u001b[0m\u001b[1;33m\u001b[0m\u001b[0m\n\u001b[1;32m---> 12\u001b[1;33m \u001b[0msh\u001b[0m\u001b[1;33m.\u001b[0m\u001b[0mperform_insert_and_stats\u001b[0m\u001b[1;33m(\u001b[0m\u001b[0mq4\u001b[0m\u001b[1;33m,\u001b[0m \u001b[1;34m\"test.db\"\u001b[0m\u001b[1;33m)\u001b[0m\u001b[1;33m\u001b[0m\u001b[1;33m\u001b[0m\u001b[0m\n\u001b[0m",
      "\u001b[1;32m~\\Documents\\sql-essential-training\\sqlhelpers.py\u001b[0m in \u001b[0;36mperform_insert_and_stats\u001b[1;34m(query, database_name)\u001b[0m\n\u001b[0;32m     37\u001b[0m \u001b[1;33m\u001b[0m\u001b[0m\n\u001b[0;32m     38\u001b[0m     \u001b[1;31m# perform insert\u001b[0m\u001b[1;33m\u001b[0m\u001b[1;33m\u001b[0m\u001b[1;33m\u001b[0m\u001b[0m\n\u001b[1;32m---> 39\u001b[1;33m     \u001b[0mconn\u001b[0m\u001b[1;33m.\u001b[0m\u001b[0mexecute\u001b[0m\u001b[1;33m(\u001b[0m\u001b[0mquery\u001b[0m\u001b[1;33m)\u001b[0m\u001b[1;33m\u001b[0m\u001b[1;33m\u001b[0m\u001b[0m\n\u001b[0m\u001b[0;32m     40\u001b[0m     \u001b[0mconn\u001b[0m\u001b[1;33m.\u001b[0m\u001b[0mcommit\u001b[0m\u001b[1;33m(\u001b[0m\u001b[1;33m)\u001b[0m\u001b[1;33m\u001b[0m\u001b[1;33m\u001b[0m\u001b[0m\n\u001b[0;32m     41\u001b[0m \u001b[1;33m\u001b[0m\u001b[0m\n",
      "\u001b[1;31mOperationalError\u001b[0m: cannot commit - no transaction is active"
     ]
    }
   ],
   "source": [
    "# lets do a transaction\n",
    "\n",
    "q1 = \"BEGIN TRANSACTION;\"\n",
    "q2 = \"INSERT INTO widgetSales ( inv_id, quan, price ) VALUES ( 1, 5, 500 );\"\n",
    "q3 = \"UPDATE widgetInventory SET onhand = ( onhand - 5 ) WHERE id = 1;\"\n",
    "q4 = \"END TRANSACTION;\"\n",
    "\n",
    "\n",
    "sh.perform_insert_and_stats(q1, \"test.db\")\n",
    "sh.perform_insert_and_stats(q2, \"test.db\")\n",
    "sh.perform_insert_and_stats(q3, \"test.db\")\n",
    "sh.perform_insert_and_stats(q4, \"test.db\")"
   ]
  },
  {
   "cell_type": "code",
   "execution_count": 11,
   "metadata": {},
   "outputs": [
    {
     "name": "stdout",
     "output_type": "stream",
     "text": [
      "### Query Summary ###\n",
      "\n",
      "DATABASE QUERIED: test.db\n",
      "QUERY: ||| DROP TABLE widgetInventory; |||\n",
      "### Query Summary ###\n",
      "\n",
      "DATABASE QUERIED: test.db\n",
      "QUERY: ||| DROP TABLE widgetSales; |||\n"
     ]
    }
   ],
   "source": [
    "q1 = \"DROP TABLE widgetInventory;\"\n",
    "q2 = \"DROP TABLE widgetSales;\"\n",
    "\n",
    "sh.perform_insert_and_stats(q1, \"test.db\")\n",
    "sh.perform_insert_and_stats(q2, \"test.db\")"
   ]
  },
  {
   "cell_type": "markdown",
   "metadata": {},
   "source": [
    "# Performance"
   ]
  },
  {
   "cell_type": "code",
   "execution_count": null,
   "metadata": {},
   "outputs": [],
   "source": []
  }
 ],
 "metadata": {
  "kernelspec": {
   "display_name": "Python 3",
   "language": "python",
   "name": "python3"
  },
  "language_info": {
   "codemirror_mode": {
    "name": "ipython",
    "version": 3
   },
   "file_extension": ".py",
   "mimetype": "text/x-python",
   "name": "python",
   "nbconvert_exporter": "python",
   "pygments_lexer": "ipython3",
   "version": "3.7.3"
  }
 },
 "nbformat": 4,
 "nbformat_minor": 4
}
