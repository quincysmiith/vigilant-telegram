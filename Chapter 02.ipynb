{
 "cells": [
  {
   "cell_type": "code",
   "execution_count": 4,
   "metadata": {},
   "outputs": [],
   "source": [
    "import pandas as pd\n",
    "import sqlite3\n",
    "import os"
   ]
  },
  {
   "cell_type": "code",
   "execution_count": 8,
   "metadata": {},
   "outputs": [],
   "source": [
    "# %load Exercise Files\\\\Chapters\\\\sql-chap02.txt\n",
    "-- 03 The SELECT statement\n",
    "-- world.db\n",
    "\n",
    "SELECT 'Hello, World';\n",
    "SELECT 'Hello, World' AS Result;\n",
    "SELECT * FROM Country;\n",
    "SELECT * FROM Country ORDER BY Name;\n",
    "SELECT Name, LifeExpectancy FROM Country ORDER BY Name;\n",
    "SELECT Name, LifeExpectancy AS \"Life Expectancy\" FROM Country ORDER BY Name;\n",
    "\n",
    "-- 04 Selecting Rows\n",
    "-- world.db\n",
    "\n",
    "SELECT Name, Continent, Region FROM Country;\n",
    "SELECT Name, Continent, Region FROM Country WHERE Continent = 'Europe';\n",
    "SELECT Name, Continent, Region FROM Country WHERE Continent = 'Europe' ORDER BY Name;\n",
    "SELECT Name, Continent, Region FROM Country WHERE Continent = 'Europe' ORDER BY Name LIMIT 5;\n",
    "SELECT Name, Continent, Region FROM Country WHERE Continent = 'Europe' ORDER BY Name LIMIT 5 OFFSET 5;\n",
    "\n",
    "-- 05 Selecting Columns\n",
    "-- world.db\n",
    "\n",
    "SELECT * from Country;\n",
    "SELECT Name, Continent, Region from Country;\n",
    "SELECT Name AS Country, Continent, Region from Country;\n",
    "SELECT Name AS Country, Region, Continent from Country;\n",
    "\n",
    "-- 06 Counting Rows\n",
    "-- world.db\n",
    "\n",
    "SELECT COUNT(*) FROM Country;\n",
    "SELECT COUNT(*) FROM Country WHERE Population > 1000000;\n",
    "SELECT COUNT(*) FROM Country WHERE Population > 100000000;\n",
    "SELECT COUNT(*) FROM Country WHERE Population > 100000000 AND Continent = 'Europe' ;\n",
    "\n",
    "SELECT COUNT(*) FROM Country;\n",
    "SELECT COUNT(LifeExpectancy) FROM Country;\n",
    "\n",
    "-- 07 Inserting Data\n",
    "-- test.db\n",
    "\n",
    "SELECT * FROM customer;\n",
    "INSERT INTO customer (name, address, city, state, zip) VALUES ('Fred Flintstone', '123 Cobblestone Way', 'Bedrock', 'CA', '91234');\n",
    "INSERT INTO customer (name, city, state) VALUES ('Jimi Hendrix', 'Renton', 'WA');\n",
    "\n",
    "-- 08 Updating Data\n",
    "-- test.db\n",
    "\n",
    "SELECT * FROM customer;\n",
    "UPDATE customer SET address = '123 Music Avenue', zip = '98056' WHERE id = 5;\n",
    "UPDATE customer SET address = '2603 S Washington St', zip = '98056' WHERE id = 5;\n",
    "UPDATE customer SET address = NULL, zip = NULL WHERE id = 5;\n",
    "\n",
    "-- 09 Deleting Data\n",
    "-- test.db\n",
    "\n",
    "SELECT * FROM customer WHERE id = 4;\n",
    "DELETE FROM customer WHERE id = 4;\n",
    "SELECT * FROM customer;\n",
    "DELETE FROM customer WHERE id = 5;\n",
    "SELECT * FROM customer;\n",
    "\n"
   ]
  },
  {
   "cell_type": "markdown",
   "metadata": {},
   "source": [
    "# The Select Statement"
   ]
  },
  {
   "cell_type": "code",
   "execution_count": 10,
   "metadata": {},
   "outputs": [],
   "source": [
    "# connect to world.db database\n",
    "world_conn = sqlite3.connect(os.path.join('Exercise Files', 'db', 'world.db'))"
   ]
  },
  {
   "cell_type": "code",
   "execution_count": 11,
   "metadata": {},
   "outputs": [
    {
     "data": {
      "text/html": [
       "<div>\n",
       "<style scoped>\n",
       "    .dataframe tbody tr th:only-of-type {\n",
       "        vertical-align: middle;\n",
       "    }\n",
       "\n",
       "    .dataframe tbody tr th {\n",
       "        vertical-align: top;\n",
       "    }\n",
       "\n",
       "    .dataframe thead th {\n",
       "        text-align: right;\n",
       "    }\n",
       "</style>\n",
       "<table border=\"1\" class=\"dataframe\">\n",
       "  <thead>\n",
       "    <tr style=\"text-align: right;\">\n",
       "      <th></th>\n",
       "      <th>'Hello, World'</th>\n",
       "    </tr>\n",
       "  </thead>\n",
       "  <tbody>\n",
       "    <tr>\n",
       "      <th>0</th>\n",
       "      <td>Hello, World</td>\n",
       "    </tr>\n",
       "  </tbody>\n",
       "</table>\n",
       "</div>"
      ],
      "text/plain": [
       "  'Hello, World'\n",
       "0   Hello, World"
      ]
     },
     "execution_count": 11,
     "metadata": {},
     "output_type": "execute_result"
    }
   ],
   "source": [
    "q = \"SELECT 'Hello, World';\"\n",
    "pd.read_sql_query(q,world_conn)"
   ]
  },
  {
   "cell_type": "code",
   "execution_count": null,
   "metadata": {},
   "outputs": [],
   "source": []
  }
 ],
 "metadata": {
  "kernelspec": {
   "display_name": "Python 3",
   "language": "python",
   "name": "python3"
  },
  "language_info": {
   "codemirror_mode": {
    "name": "ipython",
    "version": 3
   },
   "file_extension": ".py",
   "mimetype": "text/x-python",
   "name": "python",
   "nbconvert_exporter": "python",
   "pygments_lexer": "ipython3",
   "version": "3.7.3"
  }
 },
 "nbformat": 4,
 "nbformat_minor": 4
}
