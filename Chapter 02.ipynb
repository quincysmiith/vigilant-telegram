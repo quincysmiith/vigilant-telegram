{
 "cells": [
  {
   "cell_type": "code",
   "execution_count": 1,
   "metadata": {},
   "outputs": [],
   "source": [
    "import sqlhelpers as sh"
   ]
  },
  {
   "cell_type": "code",
   "execution_count": 2,
   "metadata": {},
   "outputs": [],
   "source": [
    "# %load Exercise Files\\\\Chapters\\\\sql-chap02.txt\n"
   ]
  },
  {
   "cell_type": "markdown",
   "metadata": {},
   "source": [
    "# The Select Statement"
   ]
  },
  {
   "cell_type": "code",
   "execution_count": 3,
   "metadata": {},
   "outputs": [
    {
     "name": "stdout",
     "output_type": "stream",
     "text": [
      "### Query Summary ###\n",
      "\n",
      "DATABASE QUERIED: world.db\n",
      "QUERY: ||| SELECT 'Hello, World'; |||\n",
      "\n",
      "There are 1 rows in the query results table\n",
      "There are 1 columns in the query results table\n",
      "\n",
      "First 5 rows of the query results:\n",
      "  'Hello, World'\n",
      "0   Hello, World\n"
     ]
    }
   ],
   "source": [
    "q = \"SELECT 'Hello, World';\"\n",
    "sh.query_result_stats(q, 'world.db')"
   ]
  },
  {
   "cell_type": "code",
   "execution_count": 4,
   "metadata": {},
   "outputs": [
    {
     "name": "stdout",
     "output_type": "stream",
     "text": [
      "### Query Summary ###\n",
      "\n",
      "DATABASE QUERIED: world.db\n",
      "QUERY: ||| SELECT * FROM Country; |||\n",
      "\n",
      "There are 239 rows in the query results table\n",
      "There are 15 columns in the query results table\n",
      "\n",
      "First 5 rows of the query results:\n",
      "  Code                  Name      Continent                     Region  \\\n",
      "0  AFG           Afghanistan           Asia  Southern and Central Asia   \n",
      "1  NLD           Netherlands         Europe             Western Europe   \n",
      "2  ANT  Netherlands Antilles  North America                  Caribbean   \n",
      "3  ALB               Albania         Europe            Southern Europe   \n",
      "4  DZA               Algeria         Africa            Northern Africa   \n",
      "\n",
      "   SurfaceArea  IndepYear  Population  LifeExpectancy       GNP    GNPOld  \\\n",
      "0     652090.0     1919.0  22720000.0            45.9    5976.0       NaN   \n",
      "1      41526.0     1581.0  15864000.0            78.3  371362.0  360478.0   \n",
      "2        800.0        NaN    217000.0            74.7    1941.0       NaN   \n",
      "3      28748.0     1912.0   3401200.0            71.6    3205.0    2500.0   \n",
      "4    2381741.0     1962.0  31471000.0            69.7   49982.0   46966.0   \n",
      "\n",
      "               LocalName                                GovernmentForm  \\\n",
      "0  Afganistan/Afqanestan                               Islamic Emirate   \n",
      "1              Nederland                       Constitutional Monarchy   \n",
      "2   Nederlandse Antillen  Nonmetropolitan Territory of The Netherlands   \n",
      "3              Shqipëria                                      Republic   \n",
      "4     Al-Jazair/Algérie                                      Republic   \n",
      "\n",
      "            HeadOfState  Capital Code2  \n",
      "0         Mohammad Omar      1.0    AF  \n",
      "1               Beatrix      5.0    NL  \n",
      "2               Beatrix     33.0    AN  \n",
      "3        Rexhep Mejdani     34.0    AL  \n",
      "4  Abdelaziz Bouteflika     35.0    DZ  \n"
     ]
    }
   ],
   "source": [
    "q = 'SELECT * FROM Country;'\n",
    "sh.query_result_stats(q, 'world.db')"
   ]
  },
  {
   "cell_type": "code",
   "execution_count": 5,
   "metadata": {},
   "outputs": [
    {
     "name": "stdout",
     "output_type": "stream",
     "text": [
      "### Query Summary ###\n",
      "\n",
      "DATABASE QUERIED: world.db\n",
      "QUERY: ||| SELECT * FROM Country ORDER BY Name; |||\n",
      "\n",
      "There are 239 rows in the query results table\n",
      "There are 15 columns in the query results table\n",
      "\n",
      "First 5 rows of the query results:\n",
      "  Code            Name Continent                     Region  SurfaceArea  \\\n",
      "0  AFG     Afghanistan      Asia  Southern and Central Asia     652090.0   \n",
      "1  ALB         Albania    Europe            Southern Europe      28748.0   \n",
      "2  DZA         Algeria    Africa            Northern Africa    2381741.0   \n",
      "3  ASM  American Samoa   Oceania                  Polynesia        199.0   \n",
      "4  AND         Andorra    Europe            Southern Europe        468.0   \n",
      "\n",
      "   IndepYear  Population  LifeExpectancy      GNP   GNPOld  \\\n",
      "0     1919.0  22720000.0            45.9   5976.0      NaN   \n",
      "1     1912.0   3401200.0            71.6   3205.0   2500.0   \n",
      "2     1962.0  31471000.0            69.7  49982.0  46966.0   \n",
      "3        NaN     68000.0            75.1    334.0      NaN   \n",
      "4     1278.0     78000.0            83.5   1630.0      NaN   \n",
      "\n",
      "               LocalName                GovernmentForm           HeadOfState  \\\n",
      "0  Afganistan/Afqanestan               Islamic Emirate         Mohammad Omar   \n",
      "1              Shqipëria                      Republic        Rexhep Mejdani   \n",
      "2     Al-Jazair/Algérie                      Republic  Abdelaziz Bouteflika   \n",
      "3          Amerika Samoa                  US Territory        George W. Bush   \n",
      "4                Andorra  Parliamentary Coprincipality                         \n",
      "\n",
      "   Capital Code2  \n",
      "0      1.0    AF  \n",
      "1     34.0    AL  \n",
      "2     35.0    DZ  \n",
      "3     54.0    AS  \n",
      "4     55.0    AD  \n"
     ]
    }
   ],
   "source": [
    "q = 'SELECT * FROM Country ORDER BY Name;'\n",
    "sh.query_result_stats(q, 'world.db')"
   ]
  },
  {
   "cell_type": "code",
   "execution_count": 6,
   "metadata": {},
   "outputs": [
    {
     "name": "stdout",
     "output_type": "stream",
     "text": [
      "### Query Summary ###\n",
      "\n",
      "DATABASE QUERIED: world.db\n",
      "QUERY: ||| SELECT Name, LifeExpectancy FROM Country ORDER BY Name; |||\n",
      "\n",
      "There are 239 rows in the query results table\n",
      "There are 2 columns in the query results table\n",
      "\n",
      "First 5 rows of the query results:\n",
      "             Name  LifeExpectancy\n",
      "0     Afghanistan            45.9\n",
      "1         Albania            71.6\n",
      "2         Algeria            69.7\n",
      "3  American Samoa            75.1\n",
      "4         Andorra            83.5\n"
     ]
    }
   ],
   "source": [
    "q = 'SELECT Name, LifeExpectancy FROM Country ORDER BY Name;'\n",
    "sh.query_result_stats(q, 'world.db')"
   ]
  },
  {
   "cell_type": "code",
   "execution_count": 7,
   "metadata": {},
   "outputs": [
    {
     "name": "stdout",
     "output_type": "stream",
     "text": [
      "### Query Summary ###\n",
      "\n",
      "DATABASE QUERIED: world.db\n",
      "QUERY: ||| SELECT Name, LifeExpectancy AS \"Life Expectancy\" FROM Country ORDER BY Name; |||\n",
      "\n",
      "There are 239 rows in the query results table\n",
      "There are 2 columns in the query results table\n",
      "\n",
      "First 5 rows of the query results:\n",
      "             Name  Life Expectancy\n",
      "0     Afghanistan             45.9\n",
      "1         Albania             71.6\n",
      "2         Algeria             69.7\n",
      "3  American Samoa             75.1\n",
      "4         Andorra             83.5\n"
     ]
    }
   ],
   "source": [
    "q = 'SELECT Name, LifeExpectancy AS \"Life Expectancy\" FROM Country ORDER BY Name;'\n",
    "sh.query_result_stats(q, 'world.db')"
   ]
  },
  {
   "cell_type": "markdown",
   "metadata": {},
   "source": [
    "# Selecting Rows"
   ]
  },
  {
   "cell_type": "code",
   "execution_count": 8,
   "metadata": {},
   "outputs": [
    {
     "name": "stdout",
     "output_type": "stream",
     "text": [
      "### Query Summary ###\n",
      "\n",
      "DATABASE QUERIED: world.db\n",
      "QUERY: ||| SELECT Name, Continent, Region FROM Country; |||\n",
      "\n",
      "There are 239 rows in the query results table\n",
      "There are 3 columns in the query results table\n",
      "\n",
      "First 5 rows of the query results:\n",
      "                   Name      Continent                     Region\n",
      "0           Afghanistan           Asia  Southern and Central Asia\n",
      "1           Netherlands         Europe             Western Europe\n",
      "2  Netherlands Antilles  North America                  Caribbean\n",
      "3               Albania         Europe            Southern Europe\n",
      "4               Algeria         Africa            Northern Africa\n"
     ]
    }
   ],
   "source": [
    "q = 'SELECT Name, Continent, Region FROM Country;'\n",
    "sh.query_result_stats(q, 'world.db')"
   ]
  },
  {
   "cell_type": "code",
   "execution_count": 9,
   "metadata": {},
   "outputs": [
    {
     "name": "stdout",
     "output_type": "stream",
     "text": [
      "### Query Summary ###\n",
      "\n",
      "DATABASE QUERIED: world.db\n",
      "QUERY: ||| SELECT Name, Continent, Region FROM Country WHERE Continent = 'Europe'; |||\n",
      "\n",
      "There are 46 rows in the query results table\n",
      "There are 3 columns in the query results table\n",
      "\n",
      "First 5 rows of the query results:\n",
      "                     Name Continent           Region\n",
      "0             Netherlands    Europe   Western Europe\n",
      "1                 Albania    Europe  Southern Europe\n",
      "2                 Andorra    Europe  Southern Europe\n",
      "3                 Belgium    Europe   Western Europe\n",
      "4  Bosnia and Herzegovina    Europe  Southern Europe\n"
     ]
    }
   ],
   "source": [
    "# using the where clause to filter\n",
    "q = \"SELECT Name, Continent, Region FROM Country WHERE Continent = 'Europe';\"\n",
    "sh.query_result_stats(q, 'world.db')"
   ]
  },
  {
   "cell_type": "code",
   "execution_count": 10,
   "metadata": {},
   "outputs": [
    {
     "name": "stdout",
     "output_type": "stream",
     "text": [
      "### Query Summary ###\n",
      "\n",
      "DATABASE QUERIED: world.db\n",
      "QUERY: ||| SELECT Name, Continent, Region FROM Country WHERE Continent = 'Europe' ORDER BY Name; |||\n",
      "\n",
      "There are 46 rows in the query results table\n",
      "There are 3 columns in the query results table\n",
      "\n",
      "First 5 rows of the query results:\n",
      "      Name Continent           Region\n",
      "0  Albania    Europe  Southern Europe\n",
      "1  Andorra    Europe  Southern Europe\n",
      "2  Austria    Europe   Western Europe\n",
      "3  Belarus    Europe   Eastern Europe\n",
      "4  Belgium    Europe   Western Europe\n"
     ]
    }
   ],
   "source": [
    "# sort the results in alphabetical order for country name\n",
    "q = \"SELECT Name, Continent, Region FROM Country WHERE Continent = 'Europe' ORDER BY Name;\"\n",
    "sh.query_result_stats(q, 'world.db')"
   ]
  },
  {
   "cell_type": "code",
   "execution_count": 11,
   "metadata": {},
   "outputs": [
    {
     "name": "stdout",
     "output_type": "stream",
     "text": [
      "### Query Summary ###\n",
      "\n",
      "DATABASE QUERIED: world.db\n",
      "QUERY: ||| SELECT Name, Continent, Region FROM Country WHERE Continent = 'Europe' ORDER BY Name LIMIT 5; |||\n",
      "\n",
      "There are 5 rows in the query results table\n",
      "There are 3 columns in the query results table\n",
      "\n",
      "First 5 rows of the query results:\n",
      "      Name Continent           Region\n",
      "0  Albania    Europe  Southern Europe\n",
      "1  Andorra    Europe  Southern Europe\n",
      "2  Austria    Europe   Western Europe\n",
      "3  Belarus    Europe   Eastern Europe\n",
      "4  Belgium    Europe   Western Europe\n"
     ]
    }
   ],
   "source": [
    "# return only the first 5 rows from the same query\n",
    "q = \"SELECT Name, Continent, Region FROM Country WHERE Continent = 'Europe' ORDER BY Name LIMIT 5;\"\n",
    "sh.query_result_stats(q, 'world.db')"
   ]
  },
  {
   "cell_type": "code",
   "execution_count": 12,
   "metadata": {},
   "outputs": [
    {
     "name": "stdout",
     "output_type": "stream",
     "text": [
      "### Query Summary ###\n",
      "\n",
      "DATABASE QUERIED: world.db\n",
      "QUERY: ||| SELECT Name, Continent, Region FROM Country WHERE Continent = 'Europe' ORDER BY Name LIMIT 5 OFFSET 5; |||\n",
      "\n",
      "There are 5 rows in the query results table\n",
      "There are 3 columns in the query results table\n",
      "\n",
      "First 5 rows of the query results:\n",
      "                     Name Continent            Region\n",
      "0  Bosnia and Herzegovina    Europe   Southern Europe\n",
      "1                Bulgaria    Europe    Eastern Europe\n",
      "2                 Croatia    Europe   Southern Europe\n",
      "3          Czech Republic    Europe    Eastern Europe\n",
      "4                 Denmark    Europe  Nordic Countries\n"
     ]
    }
   ],
   "source": [
    "# get the second 5 rows from the query\n",
    "q = \"SELECT Name, Continent, Region FROM Country WHERE Continent = 'Europe' ORDER BY Name LIMIT 5 OFFSET 5;\"\n",
    "sh.query_result_stats(q, 'world.db')"
   ]
  },
  {
   "cell_type": "markdown",
   "metadata": {},
   "source": [
    "# Selecting Columns"
   ]
  },
  {
   "cell_type": "code",
   "execution_count": 13,
   "metadata": {},
   "outputs": [
    {
     "name": "stdout",
     "output_type": "stream",
     "text": [
      "### Query Summary ###\n",
      "\n",
      "DATABASE QUERIED: world.db\n",
      "QUERY: ||| SELECT Name, Continent, Region from Country; |||\n",
      "\n",
      "There are 239 rows in the query results table\n",
      "There are 3 columns in the query results table\n",
      "\n",
      "First 5 rows of the query results:\n",
      "                   Name      Continent                     Region\n",
      "0           Afghanistan           Asia  Southern and Central Asia\n",
      "1           Netherlands         Europe             Western Europe\n",
      "2  Netherlands Antilles  North America                  Caribbean\n",
      "3               Albania         Europe            Southern Europe\n",
      "4               Algeria         Africa            Northern Africa\n"
     ]
    }
   ],
   "source": [
    "# select limited columns\n",
    "q = \"SELECT Name, Continent, Region from Country;\"\n",
    "sh.query_result_stats(q, 'world.db')"
   ]
  },
  {
   "cell_type": "code",
   "execution_count": 14,
   "metadata": {},
   "outputs": [
    {
     "name": "stdout",
     "output_type": "stream",
     "text": [
      "### Query Summary ###\n",
      "\n",
      "DATABASE QUERIED: world.db\n",
      "QUERY: ||| SELECT Name AS Country, Continent, Region from Country; |||\n",
      "\n",
      "There are 239 rows in the query results table\n",
      "There are 3 columns in the query results table\n",
      "\n",
      "First 5 rows of the query results:\n",
      "                Country      Continent                     Region\n",
      "0           Afghanistan           Asia  Southern and Central Asia\n",
      "1           Netherlands         Europe             Western Europe\n",
      "2  Netherlands Antilles  North America                  Caribbean\n",
      "3               Albania         Europe            Southern Europe\n",
      "4               Algeria         Africa            Northern Africa\n"
     ]
    }
   ],
   "source": [
    "#Change the name of a column\n",
    "q = \"SELECT Name AS Country, Continent, Region from Country;\"\n",
    "sh.query_result_stats(q, 'world.db')"
   ]
  },
  {
   "cell_type": "code",
   "execution_count": 15,
   "metadata": {},
   "outputs": [
    {
     "name": "stdout",
     "output_type": "stream",
     "text": [
      "### Query Summary ###\n",
      "\n",
      "DATABASE QUERIED: world.db\n",
      "QUERY: ||| SELECT Continent, Region, Name AS Country from Country; |||\n",
      "\n",
      "There are 239 rows in the query results table\n",
      "There are 3 columns in the query results table\n",
      "\n",
      "First 5 rows of the query results:\n",
      "       Continent                     Region               Country\n",
      "0           Asia  Southern and Central Asia           Afghanistan\n",
      "1         Europe             Western Europe           Netherlands\n",
      "2  North America                  Caribbean  Netherlands Antilles\n",
      "3         Europe            Southern Europe               Albania\n",
      "4         Africa            Northern Africa               Algeria\n"
     ]
    }
   ],
   "source": [
    "# rearrange column order\n",
    "q = \"SELECT Continent, Region, Name AS Country from Country;\"\n",
    "sh.query_result_stats(q, 'world.db')"
   ]
  },
  {
   "cell_type": "markdown",
   "metadata": {},
   "source": [
    "# Counting Rows"
   ]
  },
  {
   "cell_type": "code",
   "execution_count": 16,
   "metadata": {},
   "outputs": [
    {
     "name": "stdout",
     "output_type": "stream",
     "text": [
      "### Query Summary ###\n",
      "\n",
      "DATABASE QUERIED: world.db\n",
      "QUERY: ||| SELECT COUNT(*) FROM Country; |||\n",
      "\n",
      "There are 1 rows in the query results table\n",
      "There are 1 columns in the query results table\n",
      "\n",
      "First 5 rows of the query results:\n",
      "   COUNT(*)\n",
      "0       239\n"
     ]
    }
   ],
   "source": [
    "q = \"SELECT COUNT(*) FROM Country;\"\n",
    "sh.query_result_stats(q, 'world.db')"
   ]
  },
  {
   "cell_type": "code",
   "execution_count": 17,
   "metadata": {},
   "outputs": [
    {
     "name": "stdout",
     "output_type": "stream",
     "text": [
      "### Query Summary ###\n",
      "\n",
      "DATABASE QUERIED: world.db\n",
      "QUERY: ||| SELECT COUNT(*) FROM Country WHERE Population > 1000000; |||\n",
      "\n",
      "There are 1 rows in the query results table\n",
      "There are 1 columns in the query results table\n",
      "\n",
      "First 5 rows of the query results:\n",
      "   COUNT(*)\n",
      "0       154\n"
     ]
    }
   ],
   "source": [
    "# number of countries with more than 1m population\n",
    "q = \"SELECT COUNT(*) FROM Country WHERE Population > 1000000;\"\n",
    "sh.query_result_stats(q, 'world.db')"
   ]
  },
  {
   "cell_type": "code",
   "execution_count": 18,
   "metadata": {},
   "outputs": [
    {
     "name": "stdout",
     "output_type": "stream",
     "text": [
      "### Query Summary ###\n",
      "\n",
      "DATABASE QUERIED: world.db\n",
      "QUERY: ||| SELECT COUNT(*) FROM Country WHERE Population > 100000000 AND Continent = 'Europe' ; |||\n",
      "\n",
      "There are 1 rows in the query results table\n",
      "There are 1 columns in the query results table\n",
      "\n",
      "First 5 rows of the query results:\n",
      "   COUNT(*)\n",
      "0         1\n"
     ]
    }
   ],
   "source": [
    "# multiple where conditions\n",
    "q = \"SELECT COUNT(*) FROM Country WHERE Population > 100000000 AND Continent = 'Europe' ;\"\n",
    "sh.query_result_stats(q, 'world.db')"
   ]
  },
  {
   "cell_type": "code",
   "execution_count": 19,
   "metadata": {},
   "outputs": [
    {
     "name": "stdout",
     "output_type": "stream",
     "text": [
      "### Query Summary ###\n",
      "\n",
      "DATABASE QUERIED: world.db\n",
      "QUERY: ||| SELECT COUNT(LifeExpectancy) FROM Country; |||\n",
      "\n",
      "There are 1 rows in the query results table\n",
      "There are 1 columns in the query results table\n",
      "\n",
      "First 5 rows of the query results:\n",
      "   COUNT(LifeExpectancy)\n",
      "0                    222\n"
     ]
    }
   ],
   "source": [
    "# counting the number of values in the life expectancy column\n",
    "q = \"SELECT COUNT(LifeExpectancy) FROM Country;\"\n",
    "sh.query_result_stats(q, 'world.db')"
   ]
  },
  {
   "cell_type": "markdown",
   "metadata": {},
   "source": [
    "# Inserting data"
   ]
  },
  {
   "cell_type": "code",
   "execution_count": 20,
   "metadata": {},
   "outputs": [
    {
     "name": "stdout",
     "output_type": "stream",
     "text": [
      "### Query Summary ###\n",
      "\n",
      "DATABASE QUERIED: test.db\n",
      "QUERY: ||| SELECT * FROM customer; |||\n",
      "\n",
      "There are 3 rows in the query results table\n",
      "There are 6 columns in the query results table\n",
      "\n",
      "First 5 rows of the query results:\n",
      "   id        name            address     city state    zip\n",
      "0   1  Bill Smith    123 Main Street     Hope    CA  98765\n",
      "1   2  Mary Smith  123 Dorian Street  Harmony    AZ  98765\n",
      "2   3   Bob Smith   123 Laugh Street    Humor    CA  98765\n"
     ]
    }
   ],
   "source": [
    "# inspect the table\n",
    "q = \"SELECT * FROM customer;\"\n",
    "sh.query_result_stats(q, 'test.db')"
   ]
  },
  {
   "cell_type": "code",
   "execution_count": 21,
   "metadata": {},
   "outputs": [
    {
     "name": "stdout",
     "output_type": "stream",
     "text": [
      "### Query Summary ###\n",
      "\n",
      "DATABASE QUERIED: test.db\n",
      "QUERY: ||| INSERT INTO customer (name, address, city, state, zip) VALUES ('Fred Flintstone', '123 Cobblestone Way', 'Bedrock', 'CA', '91234'); |||\n"
     ]
    }
   ],
   "source": [
    "# add a row\n",
    "q = \"INSERT INTO customer (name, address, city, state, zip) VALUES ('Fred Flintstone', '123 Cobblestone Way', 'Bedrock', 'CA', '91234');\"\n",
    "sh.perform_insert_and_stats(q, 'test.db')"
   ]
  },
  {
   "cell_type": "code",
   "execution_count": 22,
   "metadata": {},
   "outputs": [
    {
     "name": "stdout",
     "output_type": "stream",
     "text": [
      "### Query Summary ###\n",
      "\n",
      "DATABASE QUERIED: test.db\n",
      "QUERY: ||| SELECT * FROM customer; |||\n",
      "\n",
      "There are 4 rows in the query results table\n",
      "There are 6 columns in the query results table\n",
      "\n",
      "First 5 rows of the query results:\n",
      "   id             name              address     city state    zip\n",
      "0   1       Bill Smith      123 Main Street     Hope    CA  98765\n",
      "1   2       Mary Smith    123 Dorian Street  Harmony    AZ  98765\n",
      "2   3        Bob Smith     123 Laugh Street    Humor    CA  98765\n",
      "3   4  Fred Flintstone  123 Cobblestone Way  Bedrock    CA  91234\n"
     ]
    }
   ],
   "source": [
    "q = \"SELECT * FROM customer;\"\n",
    "sh.query_result_stats(q, 'test.db')"
   ]
  },
  {
   "cell_type": "code",
   "execution_count": 23,
   "metadata": {},
   "outputs": [
    {
     "name": "stdout",
     "output_type": "stream",
     "text": [
      "### Query Summary ###\n",
      "\n",
      "DATABASE QUERIED: test.db\n",
      "QUERY: ||| INSERT INTO customer (name, city, state) VALUES ('Jimi Hendrix', 'Renton', 'WA'); |||\n"
     ]
    }
   ],
   "source": [
    "# add another row without all columns\n",
    "q = \"INSERT INTO customer (name, city, state) VALUES ('Jimi Hendrix', 'Renton', 'WA');\"\n",
    "sh.perform_insert_and_stats(q, 'test.db')"
   ]
  },
  {
   "cell_type": "code",
   "execution_count": 25,
   "metadata": {},
   "outputs": [
    {
     "name": "stdout",
     "output_type": "stream",
     "text": [
      "### Query Summary ###\n",
      "\n",
      "DATABASE QUERIED: test.db\n",
      "QUERY: ||| SELECT * FROM customer; |||\n",
      "\n",
      "There are 5 rows in the query results table\n",
      "There are 6 columns in the query results table\n",
      "\n",
      "First 5 rows of the query results:\n",
      "   id             name              address     city state    zip\n",
      "0   1       Bill Smith      123 Main Street     Hope    CA  98765\n",
      "1   2       Mary Smith    123 Dorian Street  Harmony    AZ  98765\n",
      "2   3        Bob Smith     123 Laugh Street    Humor    CA  98765\n",
      "3   4  Fred Flintstone  123 Cobblestone Way  Bedrock    CA  91234\n",
      "4   5     Jimi Hendrix                 None   Renton    WA   None\n"
     ]
    }
   ],
   "source": [
    "q = \"SELECT * FROM customer;\"\n",
    "sh.query_result_stats(q, 'test.db')"
   ]
  },
  {
   "cell_type": "markdown",
   "metadata": {},
   "source": [
    "# Updating data"
   ]
  },
  {
   "cell_type": "code",
   "execution_count": 26,
   "metadata": {},
   "outputs": [
    {
     "name": "stdout",
     "output_type": "stream",
     "text": [
      "### Query Summary ###\n",
      "\n",
      "DATABASE QUERIED: test.db\n",
      "QUERY: ||| SELECT * FROM customer; |||\n",
      "\n",
      "There are 5 rows in the query results table\n",
      "There are 6 columns in the query results table\n",
      "\n",
      "First 5 rows of the query results:\n",
      "   id             name              address     city state    zip\n",
      "0   1       Bill Smith      123 Main Street     Hope    CA  98765\n",
      "1   2       Mary Smith    123 Dorian Street  Harmony    AZ  98765\n",
      "2   3        Bob Smith     123 Laugh Street    Humor    CA  98765\n",
      "3   4  Fred Flintstone  123 Cobblestone Way  Bedrock    CA  91234\n",
      "4   5     Jimi Hendrix                 None   Renton    WA   None\n"
     ]
    }
   ],
   "source": [
    "# inspect the table\n",
    "q = \"SELECT * FROM customer;\"\n",
    "sh.query_result_stats(q, 'test.db')"
   ]
  },
  {
   "cell_type": "code",
   "execution_count": 2,
   "metadata": {},
   "outputs": [
    {
     "name": "stdout",
     "output_type": "stream",
     "text": [
      "### Query Summary ###\n",
      "\n",
      "DATABASE QUERIED: test.db\n",
      "QUERY: ||| UPDATE customer SET address = '123 Music Avenue', zip = '98056' WHERE id = 5; |||\n"
     ]
    }
   ],
   "source": [
    "# fill in the blanks in the 5th Row\n",
    "q = \"UPDATE customer SET address = '123 Music Avenue', zip = '98056' WHERE id = 5;\"\n",
    "sh.perform_insert_and_stats(q, 'test.db')"
   ]
  },
  {
   "cell_type": "code",
   "execution_count": 3,
   "metadata": {},
   "outputs": [
    {
     "name": "stdout",
     "output_type": "stream",
     "text": [
      "### Query Summary ###\n",
      "\n",
      "DATABASE QUERIED: test.db\n",
      "QUERY: ||| SELECT * FROM customer; |||\n",
      "\n",
      "There are 5 rows in the query results table\n",
      "There are 6 columns in the query results table\n",
      "\n",
      "First 5 rows of the query results:\n",
      "   id             name              address     city state    zip\n",
      "0   1       Bill Smith      123 Main Street     Hope    CA  98765\n",
      "1   2       Mary Smith    123 Dorian Street  Harmony    AZ  98765\n",
      "2   3        Bob Smith     123 Laugh Street    Humor    CA  98765\n",
      "3   4  Fred Flintstone  123 Cobblestone Way  Bedrock    CA  91234\n",
      "4   5     Jimi Hendrix     123 Music Avenue   Renton    WA  98056\n"
     ]
    }
   ],
   "source": [
    "q = \"SELECT * FROM customer;\"\n",
    "sh.query_result_stats(q, 'test.db')"
   ]
  },
  {
   "cell_type": "code",
   "execution_count": 4,
   "metadata": {},
   "outputs": [
    {
     "name": "stdout",
     "output_type": "stream",
     "text": [
      "### Query Summary ###\n",
      "\n",
      "DATABASE QUERIED: test.db\n",
      "QUERY: ||| UPDATE customer SET address = '2603 S Washington St', zip = '98056' WHERE id = 5; |||\n"
     ]
    }
   ],
   "source": [
    "# change values in a row\n",
    "q = \"UPDATE customer SET address = '2603 S Washington St', zip = '98056' WHERE id = 5;\"\n",
    "sh.perform_insert_and_stats(q, 'test.db')"
   ]
  },
  {
   "cell_type": "code",
   "execution_count": 5,
   "metadata": {},
   "outputs": [
    {
     "name": "stdout",
     "output_type": "stream",
     "text": [
      "### Query Summary ###\n",
      "\n",
      "DATABASE QUERIED: test.db\n",
      "QUERY: ||| SELECT * FROM customer; |||\n",
      "\n",
      "There are 5 rows in the query results table\n",
      "There are 6 columns in the query results table\n",
      "\n",
      "First 5 rows of the query results:\n",
      "   id             name               address     city state    zip\n",
      "0   1       Bill Smith       123 Main Street     Hope    CA  98765\n",
      "1   2       Mary Smith     123 Dorian Street  Harmony    AZ  98765\n",
      "2   3        Bob Smith      123 Laugh Street    Humor    CA  98765\n",
      "3   4  Fred Flintstone   123 Cobblestone Way  Bedrock    CA  91234\n",
      "4   5     Jimi Hendrix  2603 S Washington St   Renton    WA  98056\n"
     ]
    }
   ],
   "source": [
    "q = \"SELECT * FROM customer;\"\n",
    "sh.query_result_stats(q, 'test.db')"
   ]
  },
  {
   "cell_type": "code",
   "execution_count": 6,
   "metadata": {},
   "outputs": [
    {
     "name": "stdout",
     "output_type": "stream",
     "text": [
      "### Query Summary ###\n",
      "\n",
      "DATABASE QUERIED: test.db\n",
      "QUERY: ||| UPDATE customer SET address = NULL, zip = NULL WHERE id = 5; |||\n"
     ]
    }
   ],
   "source": [
    "q = \"UPDATE customer SET address = NULL, zip = NULL WHERE id = 5;\"\n",
    "sh.perform_insert_and_stats(q, 'test.db')"
   ]
  },
  {
   "cell_type": "code",
   "execution_count": 7,
   "metadata": {},
   "outputs": [
    {
     "name": "stdout",
     "output_type": "stream",
     "text": [
      "### Query Summary ###\n",
      "\n",
      "DATABASE QUERIED: test.db\n",
      "QUERY: ||| SELECT * FROM customer; |||\n",
      "\n",
      "There are 5 rows in the query results table\n",
      "There are 6 columns in the query results table\n",
      "\n",
      "First 5 rows of the query results:\n",
      "   id             name              address     city state    zip\n",
      "0   1       Bill Smith      123 Main Street     Hope    CA  98765\n",
      "1   2       Mary Smith    123 Dorian Street  Harmony    AZ  98765\n",
      "2   3        Bob Smith     123 Laugh Street    Humor    CA  98765\n",
      "3   4  Fred Flintstone  123 Cobblestone Way  Bedrock    CA  91234\n",
      "4   5     Jimi Hendrix                 None   Renton    WA   None\n"
     ]
    }
   ],
   "source": [
    "q = \"SELECT * FROM customer;\"\n",
    "sh.query_result_stats(q, 'test.db')"
   ]
  },
  {
   "cell_type": "markdown",
   "metadata": {},
   "source": [
    "# Deleting data"
   ]
  },
  {
   "cell_type": "code",
   "execution_count": 8,
   "metadata": {},
   "outputs": [
    {
     "name": "stdout",
     "output_type": "stream",
     "text": [
      "### Query Summary ###\n",
      "\n",
      "DATABASE QUERIED: test.db\n",
      "QUERY: ||| SELECT * FROM customer WHERE id = 4; |||\n",
      "\n",
      "There are 1 rows in the query results table\n",
      "There are 6 columns in the query results table\n",
      "\n",
      "First 5 rows of the query results:\n",
      "   id             name              address     city state    zip\n",
      "0   4  Fred Flintstone  123 Cobblestone Way  Bedrock    CA  91234\n"
     ]
    }
   ],
   "source": [
    "# isolate what you want to delete\n",
    "q = \"SELECT * FROM customer WHERE id = 4;\"\n",
    "sh.query_result_stats(q, 'test.db')"
   ]
  },
  {
   "cell_type": "code",
   "execution_count": 9,
   "metadata": {},
   "outputs": [
    {
     "name": "stdout",
     "output_type": "stream",
     "text": [
      "### Query Summary ###\n",
      "\n",
      "DATABASE QUERIED: test.db\n",
      "QUERY: ||| DELETE FROM customer WHERE id = 4; |||\n"
     ]
    }
   ],
   "source": [
    "# delete the row\n",
    "q = \"DELETE FROM customer WHERE id = 4;\"\n",
    "sh.perform_insert_and_stats(q, 'test.db')"
   ]
  },
  {
   "cell_type": "code",
   "execution_count": 10,
   "metadata": {},
   "outputs": [
    {
     "name": "stdout",
     "output_type": "stream",
     "text": [
      "### Query Summary ###\n",
      "\n",
      "DATABASE QUERIED: test.db\n",
      "QUERY: ||| SELECT * FROM customer; |||\n",
      "\n",
      "There are 4 rows in the query results table\n",
      "There are 6 columns in the query results table\n",
      "\n",
      "First 5 rows of the query results:\n",
      "   id          name            address     city state    zip\n",
      "0   1    Bill Smith    123 Main Street     Hope    CA  98765\n",
      "1   2    Mary Smith  123 Dorian Street  Harmony    AZ  98765\n",
      "2   3     Bob Smith   123 Laugh Street    Humor    CA  98765\n",
      "3   5  Jimi Hendrix               None   Renton    WA   None\n"
     ]
    }
   ],
   "source": [
    "q = \"SELECT * FROM customer;\"\n",
    "sh.query_result_stats(q, 'test.db')"
   ]
  },
  {
   "cell_type": "code",
   "execution_count": null,
   "metadata": {},
   "outputs": [],
   "source": []
  }
 ],
 "metadata": {
  "kernelspec": {
   "display_name": "Python 3",
   "language": "python",
   "name": "python3"
  },
  "language_info": {
   "codemirror_mode": {
    "name": "ipython",
    "version": 3
   },
   "file_extension": ".py",
   "mimetype": "text/x-python",
   "name": "python",
   "nbconvert_exporter": "python",
   "pygments_lexer": "ipython3",
   "version": "3.7.3"
  }
 },
 "nbformat": 4,
 "nbformat_minor": 4
}
